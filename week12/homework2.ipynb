{
 "cells": [
  {
   "cell_type": "markdown",
   "metadata": {},
   "source": [
    "### Thinking1\n",
    "对于同一个带约束的规划问题，LP和MIP哪个运算复杂度高，为什么？"
   ]
  },
  {
   "cell_type": "markdown",
   "metadata": {},
   "source": [
    "答：MIP的运算复杂度更高，因为MIP中，部分变量要求是整数，使得原本LP里可以利用数学推得到结果的方法（比如直接计算比较可行域的几个顶点位置的函数值）不再可行，而需要对可行域内的整数点进行暴力穷举，计算复杂度可能会达到指数级，尽管可以利用线性松弛问题等进行启发式搜索，但仍然有较高的计算复杂度。"
   ]
  },
  {
   "cell_type": "markdown",
   "metadata": {},
   "source": [
    "### Thinking2\n",
    "TSP与VRP问题的关系是怎样的？"
   ]
  },
  {
   "cell_type": "markdown",
   "metadata": {},
   "source": [
    "答：如果说TSP问题是求如何安排访问顺序才能使一辆车以最短路径走完包含n个城市的环路，那VRP问题就是n个城市有各自的货物需求（货物量，最晚送达时间等），求如何安排车辆的配送任务和配送顺序才能以最少的车辆数和最短的总路程来完成送货任务。VRP比TSP更加复杂，也更加贴合实际应用场景。"
   ]
  },
  {
   "cell_type": "markdown",
   "metadata": {},
   "source": [
    "### Aciton1\n",
    "Santa的接待安排\n",
    "圣诞节前100天，Santa开放了workshop，欢迎以家庭单位的参观，如何更合理的安排这些家庭参观？\n",
    "每个家庭有10个选择choice0-9，数字代表了距离圣诞节的天数，比如 1代表12月24日，每个家庭必须并且只安排一次参观\n",
    "家庭数量 5000，即family_id 为[0, 4999]，每天访问的人数需要在125-300人\n",
    "为了更合理的计算Santa的安排能力，我们使用preference cost和accounting penalty两个指标\n",
    "1）preference cost，代表Santa的个性化安排能力\n",
    "2）accounting penalty，代表Santa安排的财务成本\n",
    "每天接待的人员数N(d)如果大于125，就会拥挤，产生过多的清洁成本\n",
    "最终的 Score = preference cost + accounting penalty\n",
    "最终提交每个家庭的安排 submission.csv"
   ]
  },
  {
   "cell_type": "code",
   "execution_count": null,
   "metadata": {},
   "outputs": [],
   "source": []
  }
 ],
 "metadata": {
  "kernelspec": {
   "display_name": "Python 3",
   "language": "python",
   "name": "python3"
  },
  "language_info": {
   "codemirror_mode": {
    "name": "ipython",
    "version": 3
   },
   "file_extension": ".py",
   "mimetype": "text/x-python",
   "name": "python",
   "nbconvert_exporter": "python",
   "pygments_lexer": "ipython3",
   "version": "3.8.3"
  }
 },
 "nbformat": 4,
 "nbformat_minor": 4
}
