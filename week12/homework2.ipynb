{
 "cells": [
  {
   "cell_type": "markdown",
   "metadata": {},
   "source": [
    "### Thinking1\n",
    "对于同一个带约束的规划问题，LP和MIP哪个运算复杂度高，为什么？"
   ]
  },
  {
   "cell_type": "markdown",
   "metadata": {},
   "source": [
    "答：MIP的运算复杂度更高，因为MIP中，部分变量要求是整数，使得原本LP里可以利用数学推得到结果的方法（比如直接计算比较可行域的几个顶点位置的函数值）不再可行，而需要对可行域内的整数点进行暴力穷举，计算复杂度可能会达到指数级，尽管可以利用线性松弛问题等进行启发式搜索，但仍然有较高的计算复杂度。"
   ]
  },
  {
   "cell_type": "markdown",
   "metadata": {},
   "source": [
    "### Thinking2\n",
    "TSP与VRP问题的关系是怎样的？"
   ]
  },
  {
   "cell_type": "markdown",
   "metadata": {},
   "source": [
    "答：如果说TSP问题是求如何安排访问顺序才能使一辆车以最短路径走完包含n个城市的环路，那VRP问题就是n个城市有各自的货物需求（货物量，最晚送达时间等），求如何安排车辆的配送任务和配送顺序才能以最少的车辆数和最短的总路程来完成送货任务。VRP比TSP更加复杂，也更加贴合实际应用场景。"
   ]
  },
  {
   "cell_type": "markdown",
   "metadata": {},
   "source": [
    "### Aciton1\n",
    "Santa的接待安排\n",
    "圣诞节前100天，Santa开放了workshop，欢迎以家庭单位的参观，如何更合理的安排这些家庭参观？\n",
    "每个家庭有10个选择choice0-9，数字代表了距离圣诞节的天数，比如 1代表12月24日，每个家庭必须并且只安排一次参观\n",
    "家庭数量 5000，即family_id 为[0, 4999]，每天访问的人数需要在125-300人\n",
    "为了更合理的计算Santa的安排能力，我们使用preference cost和accounting penalty两个指标\n",
    "1）preference cost，代表Santa的个性化安排能力\n",
    "2）accounting penalty，代表Santa安排的财务成本\n",
    "每天接待的人员数N(d)如果大于125，就会拥挤，产生过多的清洁成本\n",
    "最终的 Score = preference cost + accounting penalty\n",
    "最终提交每个家庭的安排 submission.csv"
   ]
  },
  {
   "cell_type": "markdown",
   "metadata": {},
   "source": [
    "#### Step1 数据加载"
   ]
  },
  {
   "cell_type": "code",
   "execution_count": 52,
   "metadata": {},
   "outputs": [],
   "source": [
    "import warnings\n",
    "\n",
    "warnings.filterwarnings('ignore')"
   ]
  },
  {
   "cell_type": "code",
   "execution_count": 1,
   "metadata": {},
   "outputs": [
    {
     "data": {
      "text/html": [
       "<div>\n",
       "<style scoped>\n",
       "    .dataframe tbody tr th:only-of-type {\n",
       "        vertical-align: middle;\n",
       "    }\n",
       "\n",
       "    .dataframe tbody tr th {\n",
       "        vertical-align: top;\n",
       "    }\n",
       "\n",
       "    .dataframe thead th {\n",
       "        text-align: right;\n",
       "    }\n",
       "</style>\n",
       "<table border=\"1\" class=\"dataframe\">\n",
       "  <thead>\n",
       "    <tr style=\"text-align: right;\">\n",
       "      <th></th>\n",
       "      <th>choice_0</th>\n",
       "      <th>choice_1</th>\n",
       "      <th>choice_2</th>\n",
       "      <th>choice_3</th>\n",
       "      <th>choice_4</th>\n",
       "      <th>choice_5</th>\n",
       "      <th>choice_6</th>\n",
       "      <th>choice_7</th>\n",
       "      <th>choice_8</th>\n",
       "      <th>choice_9</th>\n",
       "      <th>n_people</th>\n",
       "    </tr>\n",
       "    <tr>\n",
       "      <th>family_id</th>\n",
       "      <th></th>\n",
       "      <th></th>\n",
       "      <th></th>\n",
       "      <th></th>\n",
       "      <th></th>\n",
       "      <th></th>\n",
       "      <th></th>\n",
       "      <th></th>\n",
       "      <th></th>\n",
       "      <th></th>\n",
       "      <th></th>\n",
       "    </tr>\n",
       "  </thead>\n",
       "  <tbody>\n",
       "    <tr>\n",
       "      <th>0</th>\n",
       "      <td>52</td>\n",
       "      <td>38</td>\n",
       "      <td>12</td>\n",
       "      <td>82</td>\n",
       "      <td>33</td>\n",
       "      <td>75</td>\n",
       "      <td>64</td>\n",
       "      <td>76</td>\n",
       "      <td>10</td>\n",
       "      <td>28</td>\n",
       "      <td>4</td>\n",
       "    </tr>\n",
       "    <tr>\n",
       "      <th>1</th>\n",
       "      <td>26</td>\n",
       "      <td>4</td>\n",
       "      <td>82</td>\n",
       "      <td>5</td>\n",
       "      <td>11</td>\n",
       "      <td>47</td>\n",
       "      <td>38</td>\n",
       "      <td>6</td>\n",
       "      <td>66</td>\n",
       "      <td>61</td>\n",
       "      <td>4</td>\n",
       "    </tr>\n",
       "    <tr>\n",
       "      <th>2</th>\n",
       "      <td>100</td>\n",
       "      <td>54</td>\n",
       "      <td>25</td>\n",
       "      <td>12</td>\n",
       "      <td>27</td>\n",
       "      <td>82</td>\n",
       "      <td>10</td>\n",
       "      <td>89</td>\n",
       "      <td>80</td>\n",
       "      <td>33</td>\n",
       "      <td>3</td>\n",
       "    </tr>\n",
       "    <tr>\n",
       "      <th>3</th>\n",
       "      <td>2</td>\n",
       "      <td>95</td>\n",
       "      <td>1</td>\n",
       "      <td>96</td>\n",
       "      <td>32</td>\n",
       "      <td>6</td>\n",
       "      <td>40</td>\n",
       "      <td>31</td>\n",
       "      <td>9</td>\n",
       "      <td>59</td>\n",
       "      <td>2</td>\n",
       "    </tr>\n",
       "    <tr>\n",
       "      <th>4</th>\n",
       "      <td>53</td>\n",
       "      <td>1</td>\n",
       "      <td>47</td>\n",
       "      <td>93</td>\n",
       "      <td>26</td>\n",
       "      <td>3</td>\n",
       "      <td>46</td>\n",
       "      <td>16</td>\n",
       "      <td>42</td>\n",
       "      <td>39</td>\n",
       "      <td>4</td>\n",
       "    </tr>\n",
       "    <tr>\n",
       "      <th>...</th>\n",
       "      <td>...</td>\n",
       "      <td>...</td>\n",
       "      <td>...</td>\n",
       "      <td>...</td>\n",
       "      <td>...</td>\n",
       "      <td>...</td>\n",
       "      <td>...</td>\n",
       "      <td>...</td>\n",
       "      <td>...</td>\n",
       "      <td>...</td>\n",
       "      <td>...</td>\n",
       "    </tr>\n",
       "    <tr>\n",
       "      <th>4995</th>\n",
       "      <td>16</td>\n",
       "      <td>1</td>\n",
       "      <td>66</td>\n",
       "      <td>33</td>\n",
       "      <td>18</td>\n",
       "      <td>70</td>\n",
       "      <td>56</td>\n",
       "      <td>46</td>\n",
       "      <td>86</td>\n",
       "      <td>60</td>\n",
       "      <td>4</td>\n",
       "    </tr>\n",
       "    <tr>\n",
       "      <th>4996</th>\n",
       "      <td>88</td>\n",
       "      <td>66</td>\n",
       "      <td>20</td>\n",
       "      <td>17</td>\n",
       "      <td>26</td>\n",
       "      <td>54</td>\n",
       "      <td>81</td>\n",
       "      <td>91</td>\n",
       "      <td>59</td>\n",
       "      <td>48</td>\n",
       "      <td>2</td>\n",
       "    </tr>\n",
       "    <tr>\n",
       "      <th>4997</th>\n",
       "      <td>32</td>\n",
       "      <td>66</td>\n",
       "      <td>54</td>\n",
       "      <td>17</td>\n",
       "      <td>27</td>\n",
       "      <td>21</td>\n",
       "      <td>74</td>\n",
       "      <td>81</td>\n",
       "      <td>3</td>\n",
       "      <td>7</td>\n",
       "      <td>6</td>\n",
       "    </tr>\n",
       "    <tr>\n",
       "      <th>4998</th>\n",
       "      <td>67</td>\n",
       "      <td>92</td>\n",
       "      <td>4</td>\n",
       "      <td>17</td>\n",
       "      <td>53</td>\n",
       "      <td>77</td>\n",
       "      <td>1</td>\n",
       "      <td>12</td>\n",
       "      <td>26</td>\n",
       "      <td>70</td>\n",
       "      <td>5</td>\n",
       "    </tr>\n",
       "    <tr>\n",
       "      <th>4999</th>\n",
       "      <td>13</td>\n",
       "      <td>11</td>\n",
       "      <td>25</td>\n",
       "      <td>80</td>\n",
       "      <td>88</td>\n",
       "      <td>40</td>\n",
       "      <td>96</td>\n",
       "      <td>39</td>\n",
       "      <td>18</td>\n",
       "      <td>47</td>\n",
       "      <td>4</td>\n",
       "    </tr>\n",
       "  </tbody>\n",
       "</table>\n",
       "<p>5000 rows × 11 columns</p>\n",
       "</div>"
      ],
      "text/plain": [
       "           choice_0  choice_1  choice_2  choice_3  choice_4  choice_5  \\\n",
       "family_id                                                               \n",
       "0                52        38        12        82        33        75   \n",
       "1                26         4        82         5        11        47   \n",
       "2               100        54        25        12        27        82   \n",
       "3                 2        95         1        96        32         6   \n",
       "4                53         1        47        93        26         3   \n",
       "...             ...       ...       ...       ...       ...       ...   \n",
       "4995             16         1        66        33        18        70   \n",
       "4996             88        66        20        17        26        54   \n",
       "4997             32        66        54        17        27        21   \n",
       "4998             67        92         4        17        53        77   \n",
       "4999             13        11        25        80        88        40   \n",
       "\n",
       "           choice_6  choice_7  choice_8  choice_9  n_people  \n",
       "family_id                                                    \n",
       "0                64        76        10        28         4  \n",
       "1                38         6        66        61         4  \n",
       "2                10        89        80        33         3  \n",
       "3                40        31         9        59         2  \n",
       "4                46        16        42        39         4  \n",
       "...             ...       ...       ...       ...       ...  \n",
       "4995             56        46        86        60         4  \n",
       "4996             81        91        59        48         2  \n",
       "4997             74        81         3         7         6  \n",
       "4998              1        12        26        70         5  \n",
       "4999             96        39        18        47         4  \n",
       "\n",
       "[5000 rows x 11 columns]"
      ]
     },
     "execution_count": 1,
     "metadata": {},
     "output_type": "execute_result"
    }
   ],
   "source": [
    "# 数据加载\n",
    "import pandas as pd\n",
    "\n",
    "data = pd.read_csv('./family_data.csv', index_col='family_id')\n",
    "data"
   ]
  },
  {
   "cell_type": "markdown",
   "metadata": {},
   "source": [
    "#### Step2 数据预处理\n",
    "* 1）计算每个家庭人数 **family_size**\n",
    "* 2）记录每个家庭的倾向选择(choice_1 ~ choice_10) **desired**\n",
    "* 3）计算preference cost矩阵 **pcost**\n",
    "* 4）计算accounting penalty矩阵 **acost**"
   ]
  },
  {
   "cell_type": "markdown",
   "metadata": {},
   "source": [
    "##### family_size"
   ]
  },
  {
   "cell_type": "code",
   "execution_count": 2,
   "metadata": {},
   "outputs": [
    {
     "data": {
      "text/plain": [
       "array([4, 4, 3, ..., 6, 5, 4], dtype=int64)"
      ]
     },
     "execution_count": 2,
     "metadata": {},
     "output_type": "execute_result"
    }
   ],
   "source": [
    "family_size = data.iloc[:,-1].values\n",
    "family_size"
   ]
  },
  {
   "cell_type": "markdown",
   "metadata": {},
   "source": [
    "##### desired"
   ]
  },
  {
   "cell_type": "code",
   "execution_count": 3,
   "metadata": {},
   "outputs": [
    {
     "data": {
      "text/plain": [
       "array([[51, 37, 11, ..., 75,  9, 27],\n",
       "       [25,  3, 81, ...,  5, 65, 60],\n",
       "       [99, 53, 24, ..., 88, 79, 32],\n",
       "       ...,\n",
       "       [31, 65, 53, ..., 80,  2,  6],\n",
       "       [66, 91,  3, ..., 11, 25, 69],\n",
       "       [12, 10, 24, ..., 38, 17, 46]], dtype=int64)"
      ]
     },
     "execution_count": 3,
     "metadata": {},
     "output_type": "execute_result"
    }
   ],
   "source": [
    "desired = data.values[:,:-1]-1 # 为了之后索引方便1~100 -> 0~99\n",
    "desired"
   ]
  },
  {
   "cell_type": "markdown",
   "metadata": {},
   "source": [
    "##### pcost"
   ]
  },
  {
   "cell_type": "code",
   "execution_count": 4,
   "metadata": {},
   "outputs": [],
   "source": [
    "def get_pcost(n, choice): # n代表家庭成员的个数\n",
    "    cost = None\n",
    "    if choice == 0:\n",
    "        cost = 0\n",
    "    if choice == 1:\n",
    "        cost = 50\n",
    "    if choice == 2:\n",
    "        cost = 50 + n*9\n",
    "    if choice == 3:\n",
    "        cost = 100 + n*9\n",
    "    if choice == 4:\n",
    "        cost = 200 + n*9\n",
    "    if choice == 5:\n",
    "        cost = 200 + n*18\n",
    "    if choice == 6:\n",
    "        cost = 300 + n*18\n",
    "    if choice == 7:\n",
    "        cost = 300 + n*36\n",
    "    if choice == 8:\n",
    "        cost = 400 + n*36\n",
    "    if choice == 9:\n",
    "        cost = 500 + n*(36+199)\n",
    "    if choice > 9:\n",
    "        cost = 500 + n*(36+398)\n",
    "    return cost"
   ]
  },
  {
   "cell_type": "code",
   "execution_count": 104,
   "metadata": {},
   "outputs": [
    {
     "name": "stdout",
     "output_type": "stream",
     "text": [
      "Wall time: 76.8 ms\n"
     ]
    },
    {
     "data": {
      "text/plain": [
       "array([[2236., 2236., 2236., ..., 2236., 2236., 2236.],\n",
       "       [2236., 2236., 2236., ..., 2236., 2236., 2236.],\n",
       "       [1802., 1802., 1802., ..., 1802., 1802.,    0.],\n",
       "       ...,\n",
       "       [3104., 3104.,  616., ..., 3104., 3104., 3104.],\n",
       "       [ 390., 2670., 2670., ..., 2670., 2670., 2670.],\n",
       "       [2236., 2236., 2236., ..., 2236., 2236., 2236.]])"
      ]
     },
     "execution_count": 104,
     "metadata": {},
     "output_type": "execute_result"
    }
   ],
   "source": [
    "%%time\n",
    "n_days = 100 # 安排的天数\n",
    "n_families = 5000 # 家庭个数\n",
    "min_occupancy = 125 # 最小承载量\n",
    "max_occupancy = 300 # 最大承载量\n",
    "\n",
    "# 计算不同家庭不同日期到访的pcost\n",
    "import numpy as np\n",
    "\n",
    "pcost = np.zeros((5000,100))\n",
    "for f in range(n_families):\n",
    "    f_num = family_size[f]\n",
    "    # 初始化，默认都是choice_10(otherwize)\n",
    "    pcost[f,:] = get_pcost(f_num, 11)\n",
    "    for choice in range(10):\n",
    "#         day = data.loc[f][choice]     # 用data.loc要5s\n",
    "#         pcost[f,day-1] = get_pcost(f_num, choice)\n",
    "        day = desired[f][choice]\n",
    "        pcost[f,day] = get_pcost(f_num, choice)\n",
    "pcost"
   ]
  },
  {
   "cell_type": "markdown",
   "metadata": {},
   "source": [
    "##### acost"
   ]
  },
  {
   "cell_type": "code",
   "execution_count": 6,
   "metadata": {},
   "outputs": [
    {
     "name": "stdout",
     "output_type": "stream",
     "text": [
      "Wall time: 77.8 ms\n"
     ]
    },
    {
     "data": {
      "text/plain": [
       "array([[0.00000000e+00, 0.00000000e+00, 0.00000000e+00, ...,\n",
       "        0.00000000e+00, 0.00000000e+00, 0.00000000e+00],\n",
       "       [0.00000000e+00, 0.00000000e+00, 0.00000000e+00, ...,\n",
       "        0.00000000e+00, 0.00000000e+00, 0.00000000e+00],\n",
       "       [0.00000000e+00, 0.00000000e+00, 0.00000000e+00, ...,\n",
       "        0.00000000e+00, 0.00000000e+00, 0.00000000e+00],\n",
       "       ...,\n",
       "       [4.16316072e+15, 3.71482922e+15, 3.31477861e+15, ...,\n",
       "        7.46610759e+00, 8.36716954e+00, 9.37697794e+00],\n",
       "       [4.79555148e+15, 4.27883100e+15, 3.81778713e+15, ...,\n",
       "        8.43020770e+00, 7.52185316e+00, 8.43020770e+00],\n",
       "       [5.52415954e+15, 4.92860244e+15, 4.39725208e+15, ...,\n",
       "        9.51970597e+00, 8.49339085e+00, 7.57772228e+00]])"
      ]
     },
     "execution_count": 6,
     "metadata": {},
     "output_type": "execute_result"
    }
   ],
   "source": [
    "%%time\n",
    "# 每天0~300个人\n",
    "acost = np.zeros(shape=(max_occupancy+1, max_occupancy+1), dtype=np.float64) # float64计算更精确\n",
    "for i in range(acost.shape[0]): # 当天安排的人数\n",
    "    for j in range(acost.shape[1]): # 前一天安排的人数\n",
    "        diff = abs(i-j)\n",
    "        acost[i][j] = max(0, (i-125)/400 * i**(1/2 + diff/50))\n",
    "acost"
   ]
  },
  {
   "cell_type": "markdown",
   "metadata": {},
   "source": [
    "#### Step3 求解LP/MIP\n",
    "* 1）使用LP对大部分家庭进行规划\n",
    "* 2）使用MIP对剩余家庭进行规划\n",
    "* 3）汇总结果"
   ]
  },
  {
   "cell_type": "code",
   "execution_count": 114,
   "metadata": {},
   "outputs": [],
   "source": [
    "from ortools.linear_solver import pywraplp\n",
    "# 线性规划\n",
    "def solveLP(families, Type='LP', Min=min_occupancy, Max=max_occupancy, n=25): # n为人为约束的前后两天人数浮动范围\n",
    "    if Type == 'LP':\n",
    "        solver= pywraplp.Solver('AssignmentProblem', pywraplp.Solver.GLOP_LINEAR_PROGRAMMING)\n",
    "    if Type == 'MIP':\n",
    "        solver = pywraplp.Solver('AssignmentProblem', pywraplp.Solver.CBC_MIXED_INTEGER_PROGRAMMING)\n",
    "    \n",
    "    x = {} # family_id在j天是否参观\n",
    "    # 每一天有哪些家庭\n",
    "    candidates = [[] for x in range(n_days)]\n",
    "    for i in families:\n",
    "        for j in desired[i,:]:\n",
    "#         for j in range(n_days):\n",
    "            candidates[j].append(i)\n",
    "            # 定义变量\n",
    "            x[i,j] = solver.BoolVar('x[%i, %i]' % (i,j))\n",
    "#             print(x)\n",
    "    \n",
    "    # 每天参观人数\n",
    "    daily_occupancy = [solver.Sum([x[i, j] * family_size[i] for i in candidates[j]]) for j in range(n_days)]\n",
    "    \n",
    "    # 每个家庭在desired中的参观总次数\n",
    "    family_presence = [solver.Sum([x[i,j] for j in desired[i,:]]) for i in families]\n",
    "    \n",
    "    # 定义目标函数\n",
    "    preference_cost = solver.Sum([x[i,j] * pcost[i,j] for i in families for j in desired[i,:]])\n",
    "    \n",
    "    # 目标是最小化目标函数\n",
    "    solver.Minimize(preference_cost)\n",
    "    \n",
    "    #约束条件\n",
    "    # 人为增加约束条件\n",
    "    for j in range(n_days-1):\n",
    "        # 当前人数比前一天浮动在n以内\n",
    "        solver.Add(daily_occupancy[j] - daily_occupancy[j+1] <= n)\n",
    "        solver.Add(daily_occupancy[j+1] - daily_occupancy[j] <= n)\n",
    "        \n",
    "    # 每个家庭有且只有一次参观\n",
    "    for i in range(len(family_presence)):\n",
    "        solver.Add(family_presence[i] == 1)\n",
    "    \n",
    "    # 每天参观人数125~300\n",
    "    if type(Min) is int:\n",
    "        Min = list([Min]*n_days)\n",
    "    if type(Max) is int:\n",
    "        Max = list([Max]*n_days)\n",
    "    for j in range(n_days):\n",
    "        solver.Add(daily_occupancy[j] >= Min[j])\n",
    "        solver.Add(daily_occupancy[j] <= Max[j])\n",
    "    \n",
    "    # 求解\n",
    "    result = solver.Solve()\n",
    "    \n",
    "    # 得到参观日期安排\n",
    "    temp = [(i, j, x[i,j].solution_value()) for i in families\\\n",
    "            for j in desired[i,:] if x[i,j].solution_value() > 0]\n",
    "    print(solver.Objective().Value())\n",
    "    df = pd.DataFrame(temp, columns=['family_id','day','result'])\n",
    "    return df"
   ]
  },
  {
   "cell_type": "code",
   "execution_count": 162,
   "metadata": {},
   "outputs": [],
   "source": [
    "def solve_santa(n_1, n_2=float('inf'), thre=0.99):\n",
    "    # LP安排大部分\n",
    "    all_families = list(range(n_families))\n",
    "    result = solveLP(all_families, Type='LP', n=n_1)\n",
    "    assigned_df = result[result.result > thre]\n",
    "    assigned_df['family_size'] = family_size[assigned_df.family_id]\n",
    "    occupancy = assigned_df.groupby('day').family_size.sum().values\n",
    "    \n",
    "    # MIP安排余下未安排好的\n",
    "    min_rest = np.maximum(0, min_occupancy-occupancy)\n",
    "    max_rest = max_occupancy - occupancy\n",
    "    rest_family = [i for i in range(n_families) if i not in assigned_df.family_id.values]\n",
    "    rest = solveLP(rest_family, Type='MIP', Min=min_rest, Max=max_rest, n=n_2)\n",
    "    final_result = pd.concat((assigned_df[['family_id', 'day']], rest[['family_id', 'day']]))\n",
    "    return final_result"
   ]
  },
  {
   "cell_type": "code",
   "execution_count": 367,
   "metadata": {},
   "outputs": [
    {
     "name": "stdout",
     "output_type": "stream",
     "text": [
      "73702.31696428571\n",
      "1401.0\n",
      "Wall time: 10.9 s\n"
     ]
    },
    {
     "data": {
      "text/plain": [
       "77596.69049325124"
      ]
     },
     "execution_count": 367,
     "metadata": {},
     "output_type": "execute_result"
    }
   ],
   "source": [
    "%%time\n",
    "final = solve_santa(25,thre=0.99)\n",
    "cost_function(final)"
   ]
  },
  {
   "cell_type": "markdown",
   "metadata": {},
   "source": [
    "#### Step4 结果评估与呈现"
   ]
  },
  {
   "cell_type": "code",
   "execution_count": 413,
   "metadata": {},
   "outputs": [],
   "source": [
    "# 根据安排计算cost\n",
    "def Pcost(prediction):\n",
    "    cost = 0\n",
    "    daily_occupancy = np.zeros(n_days, dtype=np.int64)\n",
    "    for i,d in prediction.values:\n",
    "        cost += pcost[i][d]\n",
    "        n = family_size[i]\n",
    "        daily_occupancy[d] += n\n",
    "    return cost, daily_occupancy\n",
    "\n",
    "def Acost(daily_occupancy):\n",
    "    cost = 0\n",
    "    try:\n",
    "        for j in range(n_days-1):\n",
    "            cost += acost[daily_occupancy[j], daily_occupancy[j+1]]\n",
    "#         cost += acost[daily_occupancy[99], 0] # 假设第101天不营业，即参观人数为0,导致cost太大\n",
    "    except IndexError:\n",
    "#         print(\"Error: 超过承载范围\")\n",
    "        pass\n",
    "    else:\n",
    "        return cost\n",
    "    \n",
    "def cost_function(prediction):\n",
    "    p, daily_occupancy = Pcost(prediction)\n",
    "    a = Acost(daily_occupancy)\n",
    "    cost = p + a\n",
    "    return cost"
   ]
  },
  {
   "cell_type": "code",
   "execution_count": 274,
   "metadata": {},
   "outputs": [],
   "source": [
    "import matplotlib.pyplot as plt\n",
    "def plot_daily(prediction):\n",
    "    result = prediction.copy()\n",
    "    result['family_size'] = family_size[result.family_id]\n",
    "    daily_occupancy = result.groupby('day').family_size.sum()\n",
    "    plt.bar(daily_occupancy.index,daily_occupancy.values, width=0.5, color='orange')\n",
    "    plt.xlabel('day')\n",
    "    plt.ylabel('counts')\n",
    "    plt.show()"
   ]
  },
  {
   "cell_type": "code",
   "execution_count": 414,
   "metadata": {},
   "outputs": [
    {
     "data": {
      "text/plain": [
       "77596.69049325124"
      ]
     },
     "execution_count": 414,
     "metadata": {},
     "output_type": "execute_result"
    }
   ],
   "source": [
    "sum_cost = cost_function(final)\n",
    "sum_cost"
   ]
  },
  {
   "cell_type": "code",
   "execution_count": 275,
   "metadata": {},
   "outputs": [
    {
     "data": {
      "image/png": "[encoded data removed]",
      "text/plain": [
       "<Figure size 432x288 with 1 Axes>"
      ]
     },
     "metadata": {
      "needs_background": "light"
     },
     "output_type": "display_data"
    }
   ],
   "source": [
    "plot_daily(final)"
   ]
  },
  {
   "cell_type": "markdown",
   "metadata": {},
   "source": [
    "#### Step5 优化方案"
   ]
  },
  {
   "cell_type": "code",
   "execution_count": 385,
   "metadata": {},
   "outputs": [],
   "source": [
    "def find_better(prediction):\n",
    "    sorted_families = np.argsort(-family_size) # 按人数对家庭进行排序\n",
    "    score = cost_function(prediction)\n",
    "    original_score = np.inf\n",
    "    pred = prediction.set_index('family_id')['day']\n",
    "    \n",
    "    while score < original_score:\n",
    "        original_score = score\n",
    "        \n",
    "        for i in sorted_families:\n",
    "            for option in range(10):\n",
    "                try:\n",
    "                    day = desired[i, option]\n",
    "                    oldday = pred[i]\n",
    "                    pred[i] = day\n",
    "                    prediction = pred.reset_index()\n",
    "                    newscore = cost_function(prediction)\n",
    "                except Exception as e:\n",
    "                    newscore = float('inf')\n",
    "                if newscore < score:\n",
    "                    score = newscore\n",
    "                else:\n",
    "                    pred[i] = oldday\n",
    "                print(score, end='\\r')\n",
    "    print(score)\n",
    "    return prediction"
   ]
  },
  {
   "cell_type": "code",
   "execution_count": null,
   "metadata": {},
   "outputs": [
    {
     "name": "stdout",
     "output_type": "stream",
     "text": [
      "70397.27488449651"
     ]
    }
   ],
   "source": [
    "%%time\n",
    "better = find_better(final)"
   ]
  },
  {
   "cell_type": "code",
   "execution_count": 271,
   "metadata": {},
   "outputs": [
    {
     "name": "stdout",
     "output_type": "stream",
     "text": [
      "subnission.csv saved\n"
     ]
    }
   ],
   "source": [
    "def save_result(prediction, filename):\n",
    "    pred = prediction.copy()\n",
    "    pred['day'] = pred['day'] + 1\n",
    "    pred.rename(columns = {'day': 'assigned_day'}, inplace=True)\n",
    "    pred.to_csv(filename, index=False)\n",
    "    print(filename + ' saved')\n",
    "save_result(final, 'subnission.csv')"
   ]
  }
 ],
 "metadata": {
  "kernelspec": {
   "display_name": "Python 3",
   "language": "python",
   "name": "python3"
  },
  "language_info": {
   "codemirror_mode": {
    "name": "ipython",
    "version": 3
   },
   "file_extension": ".py",
   "mimetype": "text/x-python",
   "name": "python",
   "nbconvert_exporter": "python",
   "pygments_lexer": "ipython3",
   "version": "3.8.3"
  },
  "toc-autonumbering": false,
  "toc-showcode": true,
  "toc-showmarkdowntxt": true
 },
 "nbformat": 4,
 "nbformat_minor": 4
}
