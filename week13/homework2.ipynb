{
 "cells": [
  {
   "cell_type": "markdown",
   "metadata": {},
   "source": [
    "### Thinking1\n",
    "线性规划与混合整数规划的区别是什么？"
   ]
  },
  {
   "cell_type": "markdown",
   "metadata": {},
   "source": [
    "答：线性规划问题即在线性约束下求解线性目标函数极值的问题，变量取值为实数即可，由于线性函数也属于凸函数，所以针对凸优化问题有较为简单的数学解法；混合整数规划与之不同的是要求部分变量取值必须为整数，因此问题不再是凸优化问题，而此类问题至今没有找到一般的多项式解法，仍然是NP-hard的问题。"
   ]
  },
  {
   "cell_type": "markdown",
   "metadata": {},
   "source": [
    "### Thinking2\n",
    "针对VRP问题，常见的约束条件都有哪些？"
   ]
  },
  {
   "cell_type": "markdown",
   "metadata": {},
   "source": [
    "答：常见的约束条件有每辆车里程的限制，行驶时间、送达时间的限制，车辆承载量的限制，还有各车辆之间分配均衡的限制等。"
   ]
  },
  {
   "cell_type": "markdown",
   "metadata": {},
   "source": [
    "### Aciton1\n",
    "Santa的接待安排\n",
    "圣诞节前100天，Santa开放了workshop，欢迎以家庭单位的参观，如何更合理的安排这些家庭参观？\n",
    "每个家庭有10个选择choice0-9，数字代表了距离圣诞节的天数，比如 1代表12月24日，每个家庭必须并且只安排一次参观\n",
    "家庭数量 5000，即family_id 为[0, 4999]，每天访问的人数需要在125-300人\n",
    "为了更合理的计算Santa的安排能力，我们使用preference cost和accounting penalty两个指标\n",
    "1）preference cost，代表Santa的个性化安排能力\n",
    "2）accounting penalty，代表Santa安排的财务成本\n",
    "每天接待的人员数N(d)如果大于125，就会拥挤，产生过多的清洁成本\n",
    "最终的 Score = preference cost + accounting penalty\n",
    "最终提交每个家庭的安排 submission.csv"
   ]
  },
  {
   "cell_type": "markdown",
   "metadata": {},
   "source": [
    "#### Step1 数据加载"
   ]
  },
  {
   "cell_type": "code",
   "execution_count": 3,
   "metadata": {},
   "outputs": [],
   "source": [
    "import warnings\n",
    "\n",
    "warnings.filterwarnings('ignore')"
   ]
  },
  {
   "cell_type": "code",
   "execution_count": 4,
   "metadata": {},
   "outputs": [
    {
     "data": {
      "text/html": [
       "<div>\n",
       "<style scoped>\n",
       "    .dataframe tbody tr th:only-of-type {\n",
       "        vertical-align: middle;\n",
       "    }\n",
       "\n",
       "    .dataframe tbody tr th {\n",
       "        vertical-align: top;\n",
       "    }\n",
       "\n",
       "    .dataframe thead th {\n",
       "        text-align: right;\n",
       "    }\n",
       "</style>\n",
       "<table border=\"1\" class=\"dataframe\">\n",
       "  <thead>\n",
       "    <tr style=\"text-align: right;\">\n",
       "      <th></th>\n",
       "      <th>choice_0</th>\n",
       "      <th>choice_1</th>\n",
       "      <th>choice_2</th>\n",
       "      <th>choice_3</th>\n",
       "      <th>choice_4</th>\n",
       "      <th>choice_5</th>\n",
       "      <th>choice_6</th>\n",
       "      <th>choice_7</th>\n",
       "      <th>choice_8</th>\n",
       "      <th>choice_9</th>\n",
       "      <th>n_people</th>\n",
       "    </tr>\n",
       "    <tr>\n",
       "      <th>family_id</th>\n",
       "      <th></th>\n",
       "      <th></th>\n",
       "      <th></th>\n",
       "      <th></th>\n",
       "      <th></th>\n",
       "      <th></th>\n",
       "      <th></th>\n",
       "      <th></th>\n",
       "      <th></th>\n",
       "      <th></th>\n",
       "      <th></th>\n",
       "    </tr>\n",
       "  </thead>\n",
       "  <tbody>\n",
       "    <tr>\n",
       "      <th>0</th>\n",
       "      <td>52</td>\n",
       "      <td>38</td>\n",
       "      <td>12</td>\n",
       "      <td>82</td>\n",
       "      <td>33</td>\n",
       "      <td>75</td>\n",
       "      <td>64</td>\n",
       "      <td>76</td>\n",
       "      <td>10</td>\n",
       "      <td>28</td>\n",
       "      <td>4</td>\n",
       "    </tr>\n",
       "    <tr>\n",
       "      <th>1</th>\n",
       "      <td>26</td>\n",
       "      <td>4</td>\n",
       "      <td>82</td>\n",
       "      <td>5</td>\n",
       "      <td>11</td>\n",
       "      <td>47</td>\n",
       "      <td>38</td>\n",
       "      <td>6</td>\n",
       "      <td>66</td>\n",
       "      <td>61</td>\n",
       "      <td>4</td>\n",
       "    </tr>\n",
       "    <tr>\n",
       "      <th>2</th>\n",
       "      <td>100</td>\n",
       "      <td>54</td>\n",
       "      <td>25</td>\n",
       "      <td>12</td>\n",
       "      <td>27</td>\n",
       "      <td>82</td>\n",
       "      <td>10</td>\n",
       "      <td>89</td>\n",
       "      <td>80</td>\n",
       "      <td>33</td>\n",
       "      <td>3</td>\n",
       "    </tr>\n",
       "    <tr>\n",
       "      <th>3</th>\n",
       "      <td>2</td>\n",
       "      <td>95</td>\n",
       "      <td>1</td>\n",
       "      <td>96</td>\n",
       "      <td>32</td>\n",
       "      <td>6</td>\n",
       "      <td>40</td>\n",
       "      <td>31</td>\n",
       "      <td>9</td>\n",
       "      <td>59</td>\n",
       "      <td>2</td>\n",
       "    </tr>\n",
       "    <tr>\n",
       "      <th>4</th>\n",
       "      <td>53</td>\n",
       "      <td>1</td>\n",
       "      <td>47</td>\n",
       "      <td>93</td>\n",
       "      <td>26</td>\n",
       "      <td>3</td>\n",
       "      <td>46</td>\n",
       "      <td>16</td>\n",
       "      <td>42</td>\n",
       "      <td>39</td>\n",
       "      <td>4</td>\n",
       "    </tr>\n",
       "    <tr>\n",
       "      <th>...</th>\n",
       "      <td>...</td>\n",
       "      <td>...</td>\n",
       "      <td>...</td>\n",
       "      <td>...</td>\n",
       "      <td>...</td>\n",
       "      <td>...</td>\n",
       "      <td>...</td>\n",
       "      <td>...</td>\n",
       "      <td>...</td>\n",
       "      <td>...</td>\n",
       "      <td>...</td>\n",
       "    </tr>\n",
       "    <tr>\n",
       "      <th>4995</th>\n",
       "      <td>16</td>\n",
       "      <td>1</td>\n",
       "      <td>66</td>\n",
       "      <td>33</td>\n",
       "      <td>18</td>\n",
       "      <td>70</td>\n",
       "      <td>56</td>\n",
       "      <td>46</td>\n",
       "      <td>86</td>\n",
       "      <td>60</td>\n",
       "      <td>4</td>\n",
       "    </tr>\n",
       "    <tr>\n",
       "      <th>4996</th>\n",
       "      <td>88</td>\n",
       "      <td>66</td>\n",
       "      <td>20</td>\n",
       "      <td>17</td>\n",
       "      <td>26</td>\n",
       "      <td>54</td>\n",
       "      <td>81</td>\n",
       "      <td>91</td>\n",
       "      <td>59</td>\n",
       "      <td>48</td>\n",
       "      <td>2</td>\n",
       "    </tr>\n",
       "    <tr>\n",
       "      <th>4997</th>\n",
       "      <td>32</td>\n",
       "      <td>66</td>\n",
       "      <td>54</td>\n",
       "      <td>17</td>\n",
       "      <td>27</td>\n",
       "      <td>21</td>\n",
       "      <td>74</td>\n",
       "      <td>81</td>\n",
       "      <td>3</td>\n",
       "      <td>7</td>\n",
       "      <td>6</td>\n",
       "    </tr>\n",
       "    <tr>\n",
       "      <th>4998</th>\n",
       "      <td>67</td>\n",
       "      <td>92</td>\n",
       "      <td>4</td>\n",
       "      <td>17</td>\n",
       "      <td>53</td>\n",
       "      <td>77</td>\n",
       "      <td>1</td>\n",
       "      <td>12</td>\n",
       "      <td>26</td>\n",
       "      <td>70</td>\n",
       "      <td>5</td>\n",
       "    </tr>\n",
       "    <tr>\n",
       "      <th>4999</th>\n",
       "      <td>13</td>\n",
       "      <td>11</td>\n",
       "      <td>25</td>\n",
       "      <td>80</td>\n",
       "      <td>88</td>\n",
       "      <td>40</td>\n",
       "      <td>96</td>\n",
       "      <td>39</td>\n",
       "      <td>18</td>\n",
       "      <td>47</td>\n",
       "      <td>4</td>\n",
       "    </tr>\n",
       "  </tbody>\n",
       "</table>\n",
       "<p>5000 rows × 11 columns</p>\n",
       "</div>"
      ],
      "text/plain": [
       "           choice_0  choice_1  choice_2  choice_3  choice_4  choice_5  \\\n",
       "family_id                                                               \n",
       "0                52        38        12        82        33        75   \n",
       "1                26         4        82         5        11        47   \n",
       "2               100        54        25        12        27        82   \n",
       "3                 2        95         1        96        32         6   \n",
       "4                53         1        47        93        26         3   \n",
       "...             ...       ...       ...       ...       ...       ...   \n",
       "4995             16         1        66        33        18        70   \n",
       "4996             88        66        20        17        26        54   \n",
       "4997             32        66        54        17        27        21   \n",
       "4998             67        92         4        17        53        77   \n",
       "4999             13        11        25        80        88        40   \n",
       "\n",
       "           choice_6  choice_7  choice_8  choice_9  n_people  \n",
       "family_id                                                    \n",
       "0                64        76        10        28         4  \n",
       "1                38         6        66        61         4  \n",
       "2                10        89        80        33         3  \n",
       "3                40        31         9        59         2  \n",
       "4                46        16        42        39         4  \n",
       "...             ...       ...       ...       ...       ...  \n",
       "4995             56        46        86        60         4  \n",
       "4996             81        91        59        48         2  \n",
       "4997             74        81         3         7         6  \n",
       "4998              1        12        26        70         5  \n",
       "4999             96        39        18        47         4  \n",
       "\n",
       "[5000 rows x 11 columns]"
      ]
     },
     "execution_count": 4,
     "metadata": {},
     "output_type": "execute_result"
    }
   ],
   "source": [
    "# 数据加载\n",
    "import pandas as pd\n",
    "\n",
    "data = pd.read_csv('./family_data.csv', index_col='family_id')\n",
    "data"
   ]
  },
  {
   "cell_type": "markdown",
   "metadata": {},
   "source": [
    "#### Step2 数据预处理\n",
    "* 1）计算每个家庭人数 **family_size**\n",
    "* 2）记录每个家庭的倾向选择(choice_1 ~ choice_10) **desired**\n",
    "* 3）计算preference cost矩阵 **pcost**\n",
    "* 4）计算accounting penalty矩阵 **acost**"
   ]
  },
  {
   "cell_type": "markdown",
   "metadata": {},
   "source": [
    "##### family_size"
   ]
  },
  {
   "cell_type": "code",
   "execution_count": 5,
   "metadata": {},
   "outputs": [
    {
     "data": {
      "text/plain": [
       "array([4, 4, 3, ..., 6, 5, 4], dtype=int64)"
      ]
     },
     "execution_count": 5,
     "metadata": {},
     "output_type": "execute_result"
    }
   ],
   "source": [
    "family_size = data.iloc[:,-1].values\n",
    "family_size"
   ]
  },
  {
   "cell_type": "markdown",
   "metadata": {},
   "source": [
    "##### desired"
   ]
  },
  {
   "cell_type": "code",
   "execution_count": 6,
   "metadata": {},
   "outputs": [
    {
     "data": {
      "text/plain": [
       "array([[51, 37, 11, ..., 75,  9, 27],\n",
       "       [25,  3, 81, ...,  5, 65, 60],\n",
       "       [99, 53, 24, ..., 88, 79, 32],\n",
       "       ...,\n",
       "       [31, 65, 53, ..., 80,  2,  6],\n",
       "       [66, 91,  3, ..., 11, 25, 69],\n",
       "       [12, 10, 24, ..., 38, 17, 46]], dtype=int64)"
      ]
     },
     "execution_count": 6,
     "metadata": {},
     "output_type": "execute_result"
    }
   ],
   "source": [
    "desired = data.values[:,:-1]-1 # 为了之后索引方便1~100 -> 0~99\n",
    "desired"
   ]
  },
  {
   "cell_type": "markdown",
   "metadata": {},
   "source": [
    "##### pcost"
   ]
  },
  {
   "cell_type": "code",
   "execution_count": 7,
   "metadata": {},
   "outputs": [],
   "source": [
    "def get_pcost(n, choice): # n代表家庭成员的个数\n",
    "    cost = None\n",
    "    if choice == 0:\n",
    "        cost = 0\n",
    "    if choice == 1:\n",
    "        cost = 50\n",
    "    if choice == 2:\n",
    "        cost = 50 + n*9\n",
    "    if choice == 3:\n",
    "        cost = 100 + n*9\n",
    "    if choice == 4:\n",
    "        cost = 200 + n*9\n",
    "    if choice == 5:\n",
    "        cost = 200 + n*18\n",
    "    if choice == 6:\n",
    "        cost = 300 + n*18\n",
    "    if choice == 7:\n",
    "        cost = 300 + n*36\n",
    "    if choice == 8:\n",
    "        cost = 400 + n*36\n",
    "    if choice == 9:\n",
    "        cost = 500 + n*(36+199)\n",
    "    if choice > 9:\n",
    "        cost = 500 + n*(36+398)\n",
    "    return cost"
   ]
  },
  {
   "cell_type": "code",
   "execution_count": 8,
   "metadata": {},
   "outputs": [
    {
     "name": "stdout",
     "output_type": "stream",
     "text": [
      "Wall time: 76 ms\n"
     ]
    },
    {
     "data": {
      "text/plain": [
       "array([[2236., 2236., 2236., ..., 2236., 2236., 2236.],\n",
       "       [2236., 2236., 2236., ..., 2236., 2236., 2236.],\n",
       "       [1802., 1802., 1802., ..., 1802., 1802.,    0.],\n",
       "       ...,\n",
       "       [3104., 3104.,  616., ..., 3104., 3104., 3104.],\n",
       "       [ 390., 2670., 2670., ..., 2670., 2670., 2670.],\n",
       "       [2236., 2236., 2236., ..., 2236., 2236., 2236.]])"
      ]
     },
     "execution_count": 8,
     "metadata": {},
     "output_type": "execute_result"
    }
   ],
   "source": [
    "%%time\n",
    "n_days = 100 # 安排的天数\n",
    "n_families = 5000 # 家庭个数\n",
    "min_occupancy = 125 # 最小承载量\n",
    "max_occupancy = 300 # 最大承载量\n",
    "\n",
    "# 计算不同家庭不同日期到访的pcost\n",
    "import numpy as np\n",
    "\n",
    "pcost = np.zeros((5000,100))\n",
    "for f in range(n_families):\n",
    "    f_num = family_size[f]\n",
    "    # 初始化，默认都是choice_10(otherwize)\n",
    "    pcost[f,:] = get_pcost(f_num, 10)\n",
    "    for choice in range(10):\n",
    "#         day = data.loc[f][choice]     # 用data.loc要5s\n",
    "#         pcost[f,day-1] = get_pcost(f_num, choice)\n",
    "        day = desired[f][choice]\n",
    "        pcost[f,day] = get_pcost(f_num, choice)\n",
    "pcost"
   ]
  },
  {
   "cell_type": "markdown",
   "metadata": {},
   "source": [
    "##### acost"
   ]
  },
  {
   "cell_type": "code",
   "execution_count": 41,
   "metadata": {},
   "outputs": [
    {
     "name": "stdout",
     "output_type": "stream",
     "text": [
      "Wall time: 36 ms\n"
     ]
    },
    {
     "data": {
      "text/plain": [
       "array([[0.00000000e+00, 0.00000000e+00, 0.00000000e+00, ...,\n",
       "        0.00000000e+00, 0.00000000e+00, 0.00000000e+00],\n",
       "       [3.09123977e-02, 2.80624304e-02, 3.09123977e-02, ...,\n",
       "        4.71411265e+05, 5.19286901e+05, 5.72024695e+05],\n",
       "       [6.83949464e-02, 6.20794612e-02, 5.63471383e-02, ...,\n",
       "        8.82837130e+05, 9.72650165e+05, 1.07160008e+06],\n",
       "       ...,\n",
       "       [2.71570454e+09, 2.42324984e+09, 2.16228964e+09, ...,\n",
       "        7.46610759e+00, 8.36716954e+00, 9.37697794e+00],\n",
       "       [3.10213423e+09, 2.76787940e+09, 2.46964050e+09, ...,\n",
       "        8.43020770e+00, 7.52185316e+00, 8.43020770e+00],\n",
       "       [3.54375000e+09, 3.16169994e+09, 2.82083852e+09, ...,\n",
       "        9.51970597e+00, 8.49339085e+00, 7.57772228e+00]])"
      ]
     },
     "execution_count": 41,
     "metadata": {},
     "output_type": "execute_result"
    }
   ],
   "source": [
    "%%time\n",
    "# 每天0~300个人\n",
    "acost = np.zeros(shape=(max_occupancy+1-125, max_occupancy+1-125), dtype=np.float64) # float64计算更精确\n",
    "for i in range(acost.shape[0]): # 当天安排的人数\n",
    "    for j in range(acost.shape[1]): # 前一天安排的人数\n",
    "        diff = abs(i-j)\n",
    "        acost[i][j] = max(0, i/400 * (i+125)**(1/2 + diff/50))\n",
    "acost"
   ]
  },
  {
   "cell_type": "markdown",
   "metadata": {},
   "source": [
    "#### Step3 求解LP/MIP\n",
    "* 1）使用LP对大部分家庭进行规划\n",
    "* 2）使用MIP对剩余家庭进行规划\n",
    "* 3）汇总结果"
   ]
  },
  {
   "cell_type": "code",
   "execution_count": 57,
   "metadata": {},
   "outputs": [],
   "source": [
    "from ortools.linear_solver import pywraplp\n",
    "# 线性规划\n",
    "def solveLP(families, Type='LP', Min=min_occupancy, Max=max_occupancy, n=25): # n为人为约束的前后两天人数浮动范围\n",
    "    if Type == 'LP':\n",
    "        solver= pywraplp.Solver('AssignmentProblem', pywraplp.Solver.GLOP_LINEAR_PROGRAMMING)\n",
    "    if Type == 'MIP':\n",
    "        solver = pywraplp.Solver('AssignmentProblem', pywraplp.Solver.CBC_MIXED_INTEGER_PROGRAMMING)\n",
    "    \n",
    "    x = {} # family_id在j天是否参观\n",
    "    # 每一天有哪些家庭\n",
    "    candidates = [[] for x in range(n_days)]\n",
    "    for i in families:\n",
    "        for j in desired[i,:]:\n",
    "#         for j in range(n_days):\n",
    "            candidates[j].append(i)\n",
    "            # 定义变量\n",
    "            x[i,j] = solver.BoolVar('x[%i, %i]' % (i,j))\n",
    "#             print(x)\n",
    "    \n",
    "    # 每天参观人数\n",
    "    daily_occupancy = [solver.Sum([x[i, j] * family_size[i] for i in candidates[j]]) for j in range(n_days)]\n",
    "    \n",
    "    # 每个家庭在desired中的参观总次数\n",
    "    family_presence = [solver.Sum([x[i,j] for j in desired[i,:]]) for i in families]\n",
    "    \n",
    "    # 定义目标函数\n",
    "    preference_cost = solver.Sum([x[i,j] * pcost[i,j] for i in families for j in desired[i,:]])\n",
    "    \n",
    "    # 目标是最小化目标函数\n",
    "    solver.Minimize(preference_cost)\n",
    "    \n",
    "    #约束条件\n",
    "    # 人为增加约束条件\n",
    "    for j in range(n_days-1):\n",
    "        # 当前人数比前一天浮动在n以内（由于acost计算涉及前后差值的指数级）\n",
    "        solver.Add(daily_occupancy[j] - daily_occupancy[j+1] <= n)\n",
    "        solver.Add(daily_occupancy[j+1] - daily_occupancy[j] <= n)\n",
    "\n",
    "    # 每个家庭有且只有一次参观\n",
    "    for i in range(len(family_presence)):\n",
    "        solver.Add(family_presence[i] == 1)\n",
    "    \n",
    "    # 每天参观人数125~300\n",
    "    if type(Min) is int:\n",
    "        Min = [Min]*n_days\n",
    "    if type(Max) is int:\n",
    "        Max = [Max]*n_days\n",
    "    for j in range(n_days):\n",
    "        solver.Add(daily_occupancy[j] >= Min[j])\n",
    "        solver.Add(daily_occupancy[j] <= Max[j])\n",
    "    \n",
    "    # 求解\n",
    "    result = solver.Solve()\n",
    "    \n",
    "    # 得到参观日期安排\n",
    "    temp = [(i, j, x[i,j].solution_value()) for i in families\\\n",
    "            for j in desired[i,:] if x[i,j].solution_value() > 0]\n",
    "    print(solver.Objective().Value())\n",
    "    df = pd.DataFrame(temp, columns=['family_id','day','result'])\n",
    "    return df"
   ]
  },
  {
   "cell_type": "code",
   "execution_count": 58,
   "metadata": {},
   "outputs": [],
   "source": [
    "def solve_santa(n_1, n_2=float('inf'), thre=0.99):\n",
    "    # LP安排大部分\n",
    "    all_families = list(range(n_families))\n",
    "    result = solveLP(all_families, Type='LP', n=n_1)\n",
    "    assigned_df = result[result.result > thre]\n",
    "    assigned_df['family_size'] = family_size[assigned_df.family_id]\n",
    "    occupancy = assigned_df.groupby('day').family_size.sum().values\n",
    "    \n",
    "    # MIP安排余下未安排好的\n",
    "    min_rest = np.maximum(0, min_occupancy-occupancy)\n",
    "    max_rest = max_occupancy - occupancy\n",
    "    rest_family = [i for i in range(n_families) if i not in assigned_df.family_id.values]\n",
    "    rest = solveLP(rest_family, Type='MIP', Min=min_rest, Max=max_rest, n=n_2)\n",
    "    final_result = pd.concat((assigned_df[['family_id', 'day']], rest[['family_id', 'day']]))\n",
    "    return final_result"
   ]
  },
  {
   "cell_type": "code",
   "execution_count": 59,
   "metadata": {},
   "outputs": [
    {
     "name": "stdout",
     "output_type": "stream",
     "text": [
      "73702.31696428571\n",
      "1401.0\n",
      "Wall time: 10.5 s\n"
     ]
    }
   ],
   "source": [
    "%%time\n",
    "final = solve_santa(n_1=25, thre=0.99)"
   ]
  },
  {
   "cell_type": "markdown",
   "metadata": {},
   "source": [
    "#### Step4 结果评估与呈现"
   ]
  },
  {
   "cell_type": "code",
   "execution_count": 99,
   "metadata": {},
   "outputs": [],
   "source": [
    "from numba import jit\n",
    "# 根据安排计算cost\n",
    "@jit\n",
    "def Pcost(prediction):\n",
    "    cost = 0\n",
    "    daily_occupancy = np.zeros(n_days, dtype=np.int64)\n",
    "    for i,d in prediction.values:\n",
    "        cost += pcost[i][d]\n",
    "        n = family_size[i]\n",
    "        daily_occupancy[d] += n\n",
    "    return cost, daily_occupancy\n",
    "\n",
    "@jit\n",
    "def Acost(daily_occupancy):\n",
    "    cost = 0\n",
    "    for j in range(n_days-1):\n",
    "        if daily_occupancy[j]<125 or daily_occupancy[j]>300\\\n",
    "        or daily_occupancy[j+1]<125 or daily_occupancy[j+1]>300:\n",
    "            return float('inf')\n",
    "        else:\n",
    "            cost += acost[daily_occupancy[j]-125, daily_occupancy[j+1]-125]\n",
    "#             cost += acost[daily_occupancy[99]-125, 0] # 假设第101天不营业，即参观人数为0,导致cost太大\n",
    "    return cost\n",
    "\n",
    "@jit\n",
    "def cost_function(prediction):\n",
    "    p, daily_occupancy = Pcost(prediction)\n",
    "    a = Acost(daily_occupancy)\n",
    "    cost = p + a\n",
    "    return cost"
   ]
  },
  {
   "cell_type": "code",
   "execution_count": 61,
   "metadata": {},
   "outputs": [],
   "source": [
    "import matplotlib.pyplot as plt\n",
    "def plot_daily(prediction):\n",
    "    result = prediction.copy()\n",
    "    result['family_size'] = family_size[result.family_id]\n",
    "    daily_occupancy = result.groupby('day').family_size.sum()\n",
    "    plt.bar(daily_occupancy.index,daily_occupancy.values, width=0.5, color='orange')\n",
    "    plt.xlabel('day')\n",
    "    plt.ylabel('counts')\n",
    "    plt.show()"
   ]
  },
  {
   "cell_type": "code",
   "execution_count": 76,
   "metadata": {},
   "outputs": [
    {
     "data": {
      "text/plain": [
       "77596.69049325124"
      ]
     },
     "execution_count": 76,
     "metadata": {},
     "output_type": "execute_result"
    }
   ],
   "source": [
    "sum_cost = cost_function(final)\n",
    "sum_cost"
   ]
  },
  {
   "cell_type": "code",
   "execution_count": 63,
   "metadata": {},
   "outputs": [
    {
     "data": {
      "image/png": "[encoded data removed]",
      "text/plain": [
       "<Figure size 432x288 with 1 Axes>"
      ]
     },
     "metadata": {
      "needs_background": "light"
     },
     "output_type": "display_data"
    }
   ],
   "source": [
    "plot_daily(final)"
   ]
  },
  {
   "cell_type": "markdown",
   "metadata": {},
   "source": [
    "#### Step5 优化方案"
   ]
  },
  {
   "cell_type": "code",
   "execution_count": 100,
   "metadata": {},
   "outputs": [],
   "source": [
    "@jit\n",
    "def find_better(prediction):\n",
    "    sorted_families = np.argsort(-family_size) # 按人数对家庭进行排序\n",
    "    score = cost_function(prediction)\n",
    "    original_score = np.inf\n",
    "    pred = prediction.set_index('family_id')['day']\n",
    "    \n",
    "    while score < original_score:\n",
    "        original_score = score\n",
    "        \n",
    "        for i in sorted_families:\n",
    "            for option in range(10):\n",
    "                day = desired[i, option]\n",
    "                oldday = pred[i]\n",
    "                pred[i] = day\n",
    "                prediction = pred.reset_index()\n",
    "                newscore = cost_function(prediction)\n",
    "                if newscore < score:\n",
    "                    score = newscore\n",
    "                else:\n",
    "                    pred[i] = oldday\n",
    "                    prediction = pred.reset_index()\n",
    "                print(score, end='\\r')\n",
    "    print(score)\n",
    "    return prediction"
   ]
  },
  {
   "cell_type": "code",
   "execution_count": 426,
   "metadata": {},
   "outputs": [
    {
     "name": "stdout",
     "output_type": "stream",
     "text": [
      "66649.87134510679\n",
      "Wall time: 1h 1min 4s\n"
     ]
    }
   ],
   "source": [
    "%%time\n",
    "better = find_better(final)"
   ]
  },
  {
   "cell_type": "code",
   "execution_count": 432,
   "metadata": {},
   "outputs": [
    {
     "data": {
      "image/png": "[encoded data removed]",
      "text/plain": [
       "<Figure size 432x288 with 1 Axes>"
      ]
     },
     "metadata": {
      "needs_background": "light"
     },
     "output_type": "display_data"
    }
   ],
   "source": [
    "plot_daily(better)"
   ]
  },
  {
   "cell_type": "markdown",
   "metadata": {},
   "source": [
    "上图为上次作业的结果，后期出现了访问人数不足125的情况，对acost计算函数进行修正后结果如下"
   ]
  },
  {
   "cell_type": "code",
   "execution_count": 101,
   "metadata": {},
   "outputs": [
    {
     "name": "stdout",
     "output_type": "stream",
     "text": [
      "73305.94721120875\n",
      "Wall time: 17min 11s\n"
     ]
    }
   ],
   "source": [
    "%%time\n",
    "better = find_better(final)"
   ]
  },
  {
   "cell_type": "code",
   "execution_count": 102,
   "metadata": {},
   "outputs": [
    {
     "data": {
      "image/png": "[encoded data removed]",
      "text/plain": [
       "<Figure size 432x288 with 1 Axes>"
      ]
     },
     "metadata": {
      "needs_background": "light"
     },
     "output_type": "display_data"
    }
   ],
   "source": [
    "plot_daily(better)"
   ]
  },
  {
   "cell_type": "code",
   "execution_count": 435,
   "metadata": {},
   "outputs": [
    {
     "name": "stdout",
     "output_type": "stream",
     "text": [
      "subnission.csv saved\n"
     ]
    }
   ],
   "source": [
    "def save_result(prediction, filename):\n",
    "    pred = prediction.copy()\n",
    "    pred['day'] = pred['day'] + 1\n",
    "    pred.rename(columns = {'day': 'assigned_day'}, inplace=True)\n",
    "    pred.to_csv(filename, index=False)\n",
    "    print(filename + ' saved')\n",
    "save_result(better, 'subnission.csv')"
   ]
  },
  {
   "cell_type": "markdown",
   "metadata": {},
   "source": [
    "### Aciton2\n",
    "多辆车的路径规划 VRP：\n",
    "条件：经过中国33个城市，一共4辆车，每辆车最大行驶10000公里\n",
    "目标：使得每辆车的行驶里程数更接近  \n",
    "需要注意：  \n",
    "1）在VRP问题中，路径上给点赋的index和点实际的index不一样，需要使用IndexToNode方法进行转换才能得到实际的index"
   ]
  },
  {
   "cell_type": "code",
   "execution_count": 158,
   "metadata": {},
   "outputs": [],
   "source": [
    "import pandas as pd\n",
    "from ortools.constraint_solver import routing_enums_pb2\n",
    "from ortools.constraint_solver import pywrapcp\n",
    "\n",
    "class tsp(object):\n",
    "    def __init__(self, selected_city=None, num_vehicles=1): # selected_city传入所选城市的list\n",
    "        self.df = pd.read_excel('./distance.xlsx', index_col=0)\n",
    "        self.num_vehicles = num_vehicles\n",
    "        if selected_city:\n",
    "            self.cities = selected_city\n",
    "            self.distance = self.df[selected_city].loc[selected_city].values\n",
    "        else:\n",
    "            self.cities = self.df.index.values\n",
    "            self.distance = self.df.values\n",
    "    \n",
    "    # 设置数据\n",
    "    def create_data_model(self):\n",
    "        data = {}\n",
    "        # 城市之间的距离(邻接矩阵，单位千米)\n",
    "        data['distance_matrix'] = self.distance/1000\n",
    "        data['num_vehicles'] = self.num_vehicles\n",
    "        data['depot'] = 0 # 下标\n",
    "#         print(data)\n",
    "        return data\n",
    "    \n",
    "    def print_solution(self, manager, routing, solution):\n",
    "#         print('总行驶里程：{} 公里'.fomat(solution.ObjectiveValue()))\n",
    "        # 记录每辆车的里程，路径\n",
    "        distance_list = []\n",
    "        route_list = []\n",
    "        for i in range(self.num_vehicles):\n",
    "            route_distance = 0\n",
    "            route = []\n",
    "            index = routing.Start(i)\n",
    "            while not routing.IsEnd(index):\n",
    "                # indextonode将manager中的index转化为邻接矩阵中的index\n",
    "                real_index = manager.IndexToNode(index)\n",
    "                route.append(self.cities[real_index])\n",
    "                previous_index = index\n",
    "                index = solution.Value(routing.NextVar(index))\n",
    "                route_distance += routing.GetArcCostForVehicle(previous_index, index, 0)\n",
    "            route.append(route[0])\n",
    "            route_list.append(route)\n",
    "            distance_list.append(route_distance)\n",
    "        return route_list, distance_list\n",
    "    \n",
    "    # 添加距离约束\n",
    "    def add_distance_dimention(self, routing, transit_callback_index):\n",
    "        dimension_name = 'Distance'\n",
    "        routing.AddDimension(\n",
    "            transit_callback_index,\n",
    "            0,  # no slack\n",
    "            10000,  # 车辆最大行驶距离\n",
    "            True,  # start cumul to zero\n",
    "            dimension_name)\n",
    "        distance_dimension = routing.GetDimensionOrDie(dimension_name)\n",
    "        # 尽量减少车辆之间的最大距离\n",
    "        distance_dimension.SetGlobalSpanCostCoefficient(100)\n",
    "    \n",
    "    def work(self):\n",
    "        # 初始化数据\n",
    "        data = self.create_data_model()\n",
    "     \n",
    "        # 创建路线管理，tsp_size（城市数量）, num_vehicles（车的数量）, depot（原点）\n",
    "        manager = pywrapcp.RoutingIndexManager(len(data['distance_matrix']),\n",
    "                                               data['num_vehicles'], data['depot'])\n",
    "     \n",
    "        # 创建 Routing Model.\n",
    "        routing = pywrapcp.RoutingModel(manager)\n",
    "        \n",
    "        # 计算两点之间的距离\n",
    "        def distance_callback(from_index, to_index):\n",
    "            from_node = manager.IndexToNode(from_index)\n",
    "            to_node = manager.IndexToNode(to_index)\n",
    "            return data['distance_matrix'][from_node][to_node]\n",
    "        \n",
    "        # 注册距离函数\n",
    "        transit_callback_index = routing.RegisterTransitCallback(distance_callback)\n",
    "     \n",
    "        # Define cost of each arc.\n",
    "        routing.SetArcCostEvaluatorOfAllVehicles(transit_callback_index)\n",
    "        \n",
    "        # 添加距离维度的限制\n",
    "        self.add_distance_dimention(routing, transit_callback_index)\n",
    "     \n",
    "        # Setting first solution heuristic.\n",
    "        search_parameters = pywrapcp.DefaultRoutingSearchParameters()\n",
    "        search_parameters.first_solution_strategy = (\n",
    "            routing_enums_pb2.FirstSolutionStrategy.PATH_CHEAPEST_ARC)\n",
    "     \n",
    "        # 求解路径规划\n",
    "        solution = routing.SolveWithParameters(search_parameters)\n",
    "        # 输出结果\n",
    "        if solution:\n",
    "            route_list, distance_list = self.print_solution(manager, routing, solution)\n",
    "            return route_list, distance_list\n",
    "    "
   ]
  },
  {
   "cell_type": "code",
   "execution_count": 159,
   "metadata": {},
   "outputs": [
    {
     "name": "stdout",
     "output_type": "stream",
     "text": [
      "路径1： 北京=>太原=>银川=>西宁=>兰州=>乌鲁木齐=>呼和浩特=>北京\n",
      "里程为6341公里\n",
      "路径2： 北京=>拉萨=>北京\n",
      "里程为7096公里\n",
      "路径3： 北京=>石家庄=>西安=>成都=>重庆=>贵阳=>昆明=>南宁=>海口=>澳门=>广州=>香港=>南昌=>合肥=>济南=>北京\n",
      "里程为6749公里\n",
      "路径4： 北京=>郑州=>武汉=>长沙=>福州=>杭州=>上海=>南京=>天津=>沈阳=>哈尔滨=>长春=>北京\n",
      "里程为6845公里\n",
      "总路程：27031公里\n"
     ]
    }
   ],
   "source": [
    "if __name__ == '__main__':\n",
    "    model = tsp(num_vehicles=4)\n",
    "    route_list, distance_list = model.work()\n",
    "    total_distance = 0\n",
    "    for i,j in enumerate(zip(route_list, distance_list)):\n",
    "        total_distance += j[1]\n",
    "        print('路径{}： {}\\n里程为{}公里'.format(i+1, ('=>').join(j[0]), j[1]))\n",
    "    print('总路程：{}公里'.format(total_distance))"
   ]
  }
 ],
 "metadata": {
  "kernelspec": {
   "display_name": "Python 3",
   "language": "python",
   "name": "python3"
  },
  "language_info": {
   "codemirror_mode": {
    "name": "ipython",
    "version": 3
   },
   "file_extension": ".py",
   "mimetype": "text/x-python",
   "name": "python",
   "nbconvert_exporter": "python",
   "pygments_lexer": "ipython3",
   "version": "3.8.3"
  },
  "toc-autonumbering": false,
  "toc-showcode": true,
  "toc-showmarkdowntxt": true
 },
 "nbformat": 4,
 "nbformat_minor": 4
}
