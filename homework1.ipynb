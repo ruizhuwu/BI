{
 "cells": [
  {
   "cell_type": "markdown",
   "metadata": {},
   "source": [
    "### Thinking1\n",
    "什么是监督学习，无监督学习，半监督学习"
   ]
  },
  {
   "cell_type": "markdown",
   "metadata": {},
   "source": [
    "答：监督学习：指将已知类别（有标签）的数据作为训练样本来进行机器学习，任务中通常包含有明确的目标（如分类）；  \n",
    "&emsp;&emsp;无监督学习：指利用类别未知（无标签）的数据来进行学习，进而解决模式识别中的各种问题，其中一个典型例子是聚类；  \n",
    "&emsp;&emsp;半监督学习：与监督学习的任务一致，区别在于采用的数据既有有标签的也有无标签的，常用于训练数据不充足时，利用没有标签的数据来学习整个数据的潜在分布，提高数据的使用率，提高模型效果。半监督学习算法有图论半监督学习（如标签传播算法），半监督支持向量机等。"
   ]
  },
  {
   "cell_type": "markdown",
   "metadata": {},
   "source": [
    "### Thinking2\n",
    "K-means中的k值如何选取"
   ]
  },
  {
   "cell_type": "markdown",
   "metadata": {},
   "source": [
    "答：K-means常用的评价指标有SEE（误差平方和）和轮廓系数：  \n",
    "&emsp;&emsp;对于SSE来说，在k值小于真实聚类数时，增大K，SSE的下降程度会很大，而当k值大于真实聚类数时，SSE虽然还是会随着k的增大而减小，但减小的幅度明显减小，所以SSE与k的关系图会呈现手肘的形状，而肘部所对应的转折点就是我们应当选取的k值；  \n",
    "&emsp;&emsp;对于轮廓系数而言，轮廓系数取值在[-1,1]之间，一个点的轮廓系数越接近于1就说明它越应该被归于现在所归的类，越接近于-1就说明它越应该被归于其他类。所有样本的轮廓系数均值即为聚类结果的轮廓系数。应当选取使轮廓系数较大的k值。"
   ]
  },
  {
   "cell_type": "markdown",
   "metadata": {},
   "source": [
    "### Thinking3\n",
    "随机森林采用了bagging集成学习，bagging指的是什么"
   ]
  },
  {
   "cell_type": "markdown",
   "metadata": {},
   "source": [
    "答：bagging指采用若干个弱学习器，对产生的结果进行投票，从而组成一个强学习器。  \n",
    "&emsp;&emsp;在随机森林中具体的方式是：若每个样本的特征维度为M，指定训练集大小N和特征数m<<M，训练若干棵决策树，其中每棵树的训练集都是从训练集中随机且有放回地抽取N个样本得到，特征集则是从M个特征中随机选取m个特征。预测时将所有树的分类结果进行投票得到最终结果。"
   ]
  },
  {
   "cell_type": "markdown",
   "metadata": {},
   "source": [
    "### Thinking4\n",
    "表征学习和半监督学习的区别是什么"
   ]
  },
  {
   "cell_type": "markdown",
   "metadata": {},
   "source": [
    "答：表征学习：指通过算法让机器自己学到数据的特征，目的是对复杂的原始数据化繁为简，删除无效信息，更有效地抽取特征；  \n",
    "&emsp;&emsp;半监督学习：指只有少量数据有标签时，利用无标签数据一起训练，目的是通过无标签数据学习数据的潜在分布，提高模型效果；  \n",
    "&emsp;&emsp;主动学习：指通过一定的选择策略从未标记样本中挑选出部分样本来进行人工标记（被动学习是随机选择样本的进行人工标记），然后再进行学习，目的是只使用少量的标注数据就能训练得到一个效果较好的分类器，降低人工成本。"
   ]
  },
  {
   "cell_type": "markdown",
   "metadata": {},
   "source": [
    "### Action1"
   ]
  },
  {
   "cell_type": "code",
   "execution_count": 126,
   "metadata": {},
   "outputs": [
    {
     "name": "stdout",
     "output_type": "stream",
     "text": [
      "(89611, 7)\n"
     ]
    },
    {
     "data": {
      "text/html": [
       "<div>\n",
       "<style scoped>\n",
       "    .dataframe tbody tr th:only-of-type {\n",
       "        vertical-align: middle;\n",
       "    }\n",
       "\n",
       "    .dataframe tbody tr th {\n",
       "        vertical-align: top;\n",
       "    }\n",
       "\n",
       "    .dataframe thead th {\n",
       "        text-align: right;\n",
       "    }\n",
       "</style>\n",
       "<table border=\"1\" class=\"dataframe\">\n",
       "  <thead>\n",
       "    <tr style=\"text-align: right;\">\n",
       "      <th></th>\n",
       "      <th>id</th>\n",
       "      <th>author</th>\n",
       "      <th>source</th>\n",
       "      <th>content</th>\n",
       "      <th>feature</th>\n",
       "      <th>title</th>\n",
       "      <th>url</th>\n",
       "    </tr>\n",
       "  </thead>\n",
       "  <tbody>\n",
       "    <tr>\n",
       "      <th>0</th>\n",
       "      <td>89617</td>\n",
       "      <td>NaN</td>\n",
       "      <td>快科技@http://www.kkj.cn/</td>\n",
       "      <td>此外，自本周（6月12日）起，除小米手机6等15款机型外，其余机型已暂停更新发布（含开发版/...</td>\n",
       "      <td>{\"type\":\"科技\",\"site\":\"cnbeta\",\"commentNum\":\"37\"...</td>\n",
       "      <td>小米MIUI 9首批机型曝光：共计15款</td>\n",
       "      <td>http://www.cnbeta.com/articles/tech/623597.htm</td>\n",
       "    </tr>\n",
       "    <tr>\n",
       "      <th>1</th>\n",
       "      <td>89616</td>\n",
       "      <td>NaN</td>\n",
       "      <td>快科技@http://www.kkj.cn/</td>\n",
       "      <td>骁龙835作为唯一通过Windows 10桌面平台认证的ARM处理器，高通强调，不会因为只考...</td>\n",
       "      <td>{\"type\":\"科技\",\"site\":\"cnbeta\",\"commentNum\":\"15\"...</td>\n",
       "      <td>骁龙835在Windows 10上的性能表现有望改善</td>\n",
       "      <td>http://www.cnbeta.com/articles/tech/623599.htm</td>\n",
       "    </tr>\n",
       "    <tr>\n",
       "      <th>2</th>\n",
       "      <td>89615</td>\n",
       "      <td>NaN</td>\n",
       "      <td>快科技@http://www.kkj.cn/</td>\n",
       "      <td>此前的一加3T搭载的是3400mAh电池，DashCharge快充规格为5V/4A。\\r\\n...</td>\n",
       "      <td>{\"type\":\"科技\",\"site\":\"cnbeta\",\"commentNum\":\"18\"...</td>\n",
       "      <td>一加手机5细节曝光：3300mAh、充半小时用1天</td>\n",
       "      <td>http://www.cnbeta.com/articles/tech/623601.htm</td>\n",
       "    </tr>\n",
       "    <tr>\n",
       "      <th>3</th>\n",
       "      <td>89614</td>\n",
       "      <td>NaN</td>\n",
       "      <td>新华社</td>\n",
       "      <td>这是6月18日在葡萄牙中部大佩德罗冈地区拍摄的被森林大火烧毁的汽车。新华社记者张立云摄\\r\\n</td>\n",
       "      <td>{\"type\":\"国际新闻\",\"site\":\"环球\",\"commentNum\":\"0\",\"j...</td>\n",
       "      <td>葡森林火灾造成至少62人死亡 政府宣布进入紧急状态（组图）</td>\n",
       "      <td>http://world.huanqiu.com/hot/2017-06/10866126....</td>\n",
       "    </tr>\n",
       "    <tr>\n",
       "      <th>4</th>\n",
       "      <td>89613</td>\n",
       "      <td>胡淑丽_MN7479</td>\n",
       "      <td>深圳大件事</td>\n",
       "      <td>（原标题：44岁女子跑深圳约会网友被拒，暴雨中裸身奔走……）\\r\\n@深圳交警微博称：昨日清...</td>\n",
       "      <td>{\"type\":\"新闻\",\"site\":\"网易热门\",\"commentNum\":\"978\",...</td>\n",
       "      <td>44岁女子约网友被拒暴雨中裸奔 交警为其披衣相随</td>\n",
       "      <td>http://news.163.com/17/0618/00/CN617P3Q0001875...</td>\n",
       "    </tr>\n",
       "  </tbody>\n",
       "</table>\n",
       "</div>"
      ],
      "text/plain": [
       "      id      author                  source  \\\n",
       "0  89617         NaN  快科技@http://www.kkj.cn/   \n",
       "1  89616         NaN  快科技@http://www.kkj.cn/   \n",
       "2  89615         NaN  快科技@http://www.kkj.cn/   \n",
       "3  89614         NaN                     新华社   \n",
       "4  89613  胡淑丽_MN7479                   深圳大件事   \n",
       "\n",
       "                                             content  \\\n",
       "0  此外，自本周（6月12日）起，除小米手机6等15款机型外，其余机型已暂停更新发布（含开发版/...   \n",
       "1  骁龙835作为唯一通过Windows 10桌面平台认证的ARM处理器，高通强调，不会因为只考...   \n",
       "2  此前的一加3T搭载的是3400mAh电池，DashCharge快充规格为5V/4A。\\r\\n...   \n",
       "3    这是6月18日在葡萄牙中部大佩德罗冈地区拍摄的被森林大火烧毁的汽车。新华社记者张立云摄\\r\\n   \n",
       "4  （原标题：44岁女子跑深圳约会网友被拒，暴雨中裸身奔走……）\\r\\n@深圳交警微博称：昨日清...   \n",
       "\n",
       "                                             feature  \\\n",
       "0  {\"type\":\"科技\",\"site\":\"cnbeta\",\"commentNum\":\"37\"...   \n",
       "1  {\"type\":\"科技\",\"site\":\"cnbeta\",\"commentNum\":\"15\"...   \n",
       "2  {\"type\":\"科技\",\"site\":\"cnbeta\",\"commentNum\":\"18\"...   \n",
       "3  {\"type\":\"国际新闻\",\"site\":\"环球\",\"commentNum\":\"0\",\"j...   \n",
       "4  {\"type\":\"新闻\",\"site\":\"网易热门\",\"commentNum\":\"978\",...   \n",
       "\n",
       "                           title  \\\n",
       "0           小米MIUI 9首批机型曝光：共计15款   \n",
       "1     骁龙835在Windows 10上的性能表现有望改善   \n",
       "2      一加手机5细节曝光：3300mAh、充半小时用1天   \n",
       "3  葡森林火灾造成至少62人死亡 政府宣布进入紧急状态（组图）   \n",
       "4       44岁女子约网友被拒暴雨中裸奔 交警为其披衣相随   \n",
       "\n",
       "                                                 url  \n",
       "0     http://www.cnbeta.com/articles/tech/623597.htm  \n",
       "1     http://www.cnbeta.com/articles/tech/623599.htm  \n",
       "2     http://www.cnbeta.com/articles/tech/623601.htm  \n",
       "3  http://world.huanqiu.com/hot/2017-06/10866126....  \n",
       "4  http://news.163.com/17/0618/00/CN617P3Q0001875...  "
      ]
     },
     "execution_count": 126,
     "metadata": {},
     "output_type": "execute_result"
    }
   ],
   "source": [
    "import pandas as pd\n",
    "import numpy as np\n",
    "import jieba\n",
    "\n",
    "# 数据加载\n",
    "news = pd.read_csv('sqlResult.csv', encoding='gb18030')\n",
    "\n",
    "# 数据探索\n",
    "print(news.shape)\n",
    "news.head()"
   ]
  },
  {
   "cell_type": "code",
   "execution_count": 127,
   "metadata": {},
   "outputs": [
    {
     "data": {
      "text/plain": [
       "(87054, 7)"
      ]
     },
     "execution_count": 127,
     "metadata": {},
     "output_type": "execute_result"
    }
   ],
   "source": [
    "# 去掉缺失数据\n",
    "news = news.dropna(subset=['content'])\n",
    "news.shape"
   ]
  },
  {
   "cell_type": "code",
   "execution_count": 128,
   "metadata": {},
   "outputs": [
    {
     "data": {
      "text/plain": [
       "'骁龙 835 唯一 Windows10 桌面 平台 认证 ARM 处理器 高通 强调 不会 只 考虑 性能 屏蔽掉 小 核心 相反 正 联手 微软 找到 一种 适合 桌面 平台 兼顾 性能 功耗 完美 方案 报道 微软 已经 拿到 一些 源码 Windows10 更好 理解 big little 架构 资料 显示 骁龙 835 一款 集成 CPU GPU 基带 蓝牙 Wi Fi SoC 传统 Wintel 方案 节省 至少 30% PCB 空间 按计划 今年 Q4 华硕 惠普 联想 首发 骁龙 835Win10 电脑 预计 均 二合一 形态 产品 当然 高通 骁龙 未来 也许 见到 三星 Exynos 联发科 华为 麒麟 小米 澎湃 进入 Windows10 桌面 平台'"
      ]
     },
     "execution_count": 128,
     "metadata": {},
     "output_type": "execute_result"
    }
   ],
   "source": [
    "# 加载停用词\n",
    "with open('chinese_stopwords.txt', 'r', encoding='utf-8') as file:\n",
    "    stopwords = [i[:-1] for i in file.readlines()]\n",
    "    \n",
    "# 分词\n",
    "def split_text(text):\n",
    "    text = text.replace(' ','').replace('\\r\\n','')\n",
    "    text1 = jieba.cut(text)\n",
    "    result = ' '.join([w for w in text1 if w not in stopwords])\n",
    "    return result\n",
    "corpus = list(map(split_text, [str(i) for i in news.content]))\n",
    "corpus[1]"
   ]
  },
  {
   "cell_type": "code",
   "execution_count": 129,
   "metadata": {},
   "outputs": [
    {
     "name": "stdout",
     "output_type": "stream",
     "text": [
      "(87054, 884)\n"
     ]
    },
    {
     "data": {
      "text/plain": [
       "array([[0.        , 0.        , 0.        , ..., 0.        , 0.        ,\n",
       "        0.        ],\n",
       "       [0.        , 0.        , 0.        , ..., 0.        , 0.        ,\n",
       "        0.        ],\n",
       "       [0.        , 0.        , 0.        , ..., 0.        , 0.        ,\n",
       "        0.        ],\n",
       "       ...,\n",
       "       [0.        , 0.        , 0.        , ..., 0.        , 0.        ,\n",
       "        0.        ],\n",
       "       [0.        , 0.        , 0.        , ..., 0.        , 0.        ,\n",
       "        0.        ],\n",
       "       [0.        , 0.        , 0.        , ..., 0.        , 0.35722359,\n",
       "        0.        ]])"
      ]
     },
     "execution_count": 129,
     "metadata": {},
     "output_type": "execute_result"
    }
   ],
   "source": [
    "# 计算TFIDF\n",
    "from sklearn.feature_extraction.text import CountVectorizer, TfidfTransformer\n",
    "countvectorizer = CountVectorizer(encoding='gb18030', min_df = 0.015)\n",
    "tfidftransformer = TfidfTransformer()\n",
    "count =  countvectorizer.fit_transform(corpus)\n",
    "tfidf = tfidftransformer.fit_transform(count)\n",
    "print(tfidf.shape)\n",
    "tfidf.toarray()"
   ]
  },
  {
   "cell_type": "code",
   "execution_count": 139,
   "metadata": {},
   "outputs": [
    {
     "data": {
      "text/plain": [
       "[0, 0, 0, 1, 0]"
      ]
     },
     "execution_count": 139,
     "metadata": {},
     "output_type": "execute_result"
    }
   ],
   "source": [
    "# 标记是否为自己的新闻\n",
    "label = list(map(lambda source: 1 if '新华社' in str(source) else 0, news.source))\n",
    "label[:5]"
   ]
  },
  {
   "cell_type": "code",
   "execution_count": 140,
   "metadata": {},
   "outputs": [
    {
     "name": "stdout",
     "output_type": "stream",
     "text": [
      "伯努利朴素贝叶斯\n",
      "准确度： 0.8273754824480793\n",
      "精确度： 0.9662011500997536\n",
      "召回率： 0.8380923296177534\n"
     ]
    }
   ],
   "source": [
    "# 数据集切分\n",
    "from sklearn.model_selection import train_test_split\n",
    "X_train, X_test, y_train, y_test = train_test_split(tfidf.toarray(), label, test_size=0.25, random_state=33)\n",
    "\n",
    "# 伯努利朴素贝叶斯\n",
    "from sklearn.naive_bayes import BernoulliNB\n",
    "from sklearn.metrics import accuracy_score, precision_score, recall_score\n",
    "model1 = BernoulliNB()\n",
    "model1.fit(X_train, y_train)\n",
    "y_predict1 = model1.predict(X_test)\n",
    "print('伯努利朴素贝叶斯')\n",
    "print('准确度：', accuracy_score(y_test, y_predict1))\n",
    "print('精确度：', precision_score(y_test, y_predict1))\n",
    "print('召回率：', recall_score(y_test, y_predict1))"
   ]
  },
  {
   "cell_type": "code",
   "execution_count": 141,
   "metadata": {},
   "outputs": [
    {
     "name": "stdout",
     "output_type": "stream",
     "text": [
      "多项式朴素贝叶斯\n",
      "准确度： 0.8869693071126631\n",
      "精确度： 0.9618423174074273\n",
      "召回率： 0.9109278770295719\n"
     ]
    }
   ],
   "source": [
    "# 多项式朴素贝叶斯\n",
    "from sklearn.naive_bayes import MultinomialNB\n",
    "from sklearn.metrics import accuracy_score, precision_score, recall_score\n",
    "model2 = MultinomialNB()\n",
    "model2.fit(X_train, y_train)\n",
    "y_predict2 = model2.predict(X_test)\n",
    "print('多项式朴素贝叶斯')\n",
    "print('准确度：', accuracy_score(y_test, y_predict2))\n",
    "print('精确度：', precision_score(y_test, y_predict2))\n",
    "print('召回率：', recall_score(y_test, y_predict2))"
   ]
  },
  {
   "cell_type": "code",
   "execution_count": 135,
   "metadata": {},
   "outputs": [
    {
     "name": "stdout",
     "output_type": "stream",
     "text": [
      "高斯朴素贝叶斯\n",
      "准确度： 0.8252619003859585\n",
      "精确度： 0.9924779311202288\n",
      "召回率： 0.8125922532702193\n"
     ]
    }
   ],
   "source": [
    "# 高斯朴素贝叶斯\n",
    "from sklearn.naive_bayes import GaussianNB\n",
    "from sklearn.metrics import accuracy_score, precision_score, recall_score\n",
    "model3 = GaussianNB()\n",
    "model3.fit(X_train, y_train)\n",
    "y_predict3 = model3.predict(X_test)\n",
    "print('高斯朴素贝叶斯')\n",
    "print('准确度：', accuracy_score(y_test, y_predict3))\n",
    "print('精确度：', precision_score(y_test, y_predict3))\n",
    "print('召回率：', recall_score(y_test, y_predict3))"
   ]
  },
  {
   "cell_type": "code",
   "execution_count": 175,
   "metadata": {},
   "outputs": [
    {
     "name": "stdout",
     "output_type": "stream",
     "text": [
      "   prediction  label\n",
      "0           0      0\n",
      "1           0      0\n",
      "2           0      0\n",
      "3           1      1\n",
      "4           1      0\n"
     ]
    },
    {
     "data": {
      "text/plain": [
       "Int64Index([   4,   24,   25,   28,   30,   35,   37,   38,   43,   45,\n",
       "            ...\n",
       "            8534, 8535, 8538, 8539, 8543, 8546, 8548, 8549, 8551, 8552],\n",
       "           dtype='int64', length=2812)"
      ]
     },
     "execution_count": 175,
     "metadata": {},
     "output_type": "execute_result"
    }
   ],
   "source": [
    "# 选择多项式贝叶斯作为模型\n",
    "model = model2\n",
    "prediction = model.predict(tfidf.toarray())\n",
    "labels = np.array(label)\n",
    "\n",
    "# 将预测值与真实值进行拼接\n",
    "compare = pd.DataFrame({'prediction':prediction, 'label':labels})\n",
    "print(compare.head())\n",
    "\n",
    "# 实际为新华社的文章\n",
    "xinhuashe = compare[compare['label']==1].index\n",
    "\n",
    "# 找出怀疑对象，即预测值为1，标签为0的项\n",
    "doubt = compare[(compare['prediction']==1)&(compare['label']==0)].index\n",
    "doubt"
   ]
  },
  {
   "cell_type": "code",
   "execution_count": 147,
   "metadata": {},
   "outputs": [
    {
     "name": "stdout",
     "output_type": "stream",
     "text": [
      "[71154.09701930192, 70872.68999907238, 70494.3591034558, 70152.5386213468, 69668.73552073102, 69077.52648226419, 68940.43345688612, 68677.02324135807, 68378.36934836578, 67996.13166669222, 67602.28774406409, 67486.74009723481, 67033.83023750359, 66847.26476753972, 66628.17062338424, 66400.97742147384, 66141.01214901615, 65972.77571073029, 65822.36749522705, 65618.21472479298]\n",
      "[0.0401026387145753, 0.035688568627789935, 0.03986609143514819, 0.04618242283155071, 0.04822752185133264, 0.05003675367732157, 0.045552410719411816, 0.047055366480988015, 0.05001416803502926, 0.044668468876771714, 0.05601813781765829, 0.05271786974546279, 0.05578602482713971, 0.055599569452264366, 0.056806889641965584, 0.05032547138764415, 0.05946020109482276, 0.05856008416471299, 0.05552534809353279, 0.06127054167888914]\n"
     ]
    }
   ],
   "source": [
    "from sklearn.preprocessing import Normalizer\n",
    "from sklearn.cluster import KMeans\n",
    "from sklearn.metrics import silhouette_score\n",
    "import matplotlib.pyplot as plt\n",
    "\n",
    "# 数据标准化\n",
    "normalizer = Normalizer()\n",
    "scaled_array = normalizer.fit_transform(tfidf.toarray())\n",
    "\n",
    "# 寻找合适的k值\n",
    "Kmeans = []\n",
    "SSE = []\n",
    "Silhouette = []\n",
    "for k in range(10,30):\n",
    "    kmeans = KMeans(n_clusters=k)\n",
    "    k_labels = kmeans.fit_predict(scaled_array)\n",
    "    silhouette = silhouette_score(scaled_array, k_labels)\n",
    "    Kmeans.append(kmeans)\n",
    "    SSE.append(kmeans.inertia_)\n",
    "    Silhouette.append(silhouette)\n",
    "    \n",
    "print(SSE)\n",
    "print(Silhouette)"
   ]
  },
  {
   "cell_type": "code",
   "execution_count": 153,
   "metadata": {},
   "outputs": [
    {
     "data": {
      "text/plain": [
       "<function matplotlib.pyplot.show(*args, **kw)>"
      ]
     },
     "execution_count": 153,
     "metadata": {},
     "output_type": "execute_result"
    },
    {
     "data": {
      "image/png": "[encoded data removed]",
      "text/plain": [
       "<Figure size 432x288 with 2 Axes>"
      ]
     },
     "metadata": {
      "needs_background": "light"
     },
     "output_type": "display_data"
    }
   ],
   "source": [
    "X = range(10,30)\n",
    "plt.figure()\n",
    "plt.subplot(121)\n",
    "plt.xlabel('k')\n",
    "plt.ylabel('SSE')\n",
    "plt.plot(X, SSE, '-o')\n",
    "plt.subplot(122)\n",
    "plt.xlabel('k')\n",
    "plt.ylabel('Silhouette')\n",
    "plt.plot(X, Silhouette, '-o')\n",
    "plt.show"
   ]
  },
  {
   "cell_type": "code",
   "execution_count": 161,
   "metadata": {},
   "outputs": [],
   "source": [
    "# 选择k=26\n",
    "kmeans = Kmeans[16]\n",
    "k_labels = kmeans.fit_predict(scaled_array)\n",
    "\n",
    "from collections import defaultdict\n",
    "\n",
    "#创建id_class对应字典\n",
    "id_class = {i:_class for i,_class in enumerate(k_labels)}\n",
    "\n",
    "# 将新华社的文章归到相应的类中\n",
    "class_id = defaultdict(set)\n",
    "for id in xinhuashe:\n",
    "    class_id[id_class[id]].add(id)"
   ]
  },
  {
   "cell_type": "code",
   "execution_count": 200,
   "metadata": {},
   "outputs": [
    {
     "data": {
      "text/html": [
       "<div>\n",
       "<style scoped>\n",
       "    .dataframe tbody tr th:only-of-type {\n",
       "        vertical-align: middle;\n",
       "    }\n",
       "\n",
       "    .dataframe tbody tr th {\n",
       "        vertical-align: top;\n",
       "    }\n",
       "\n",
       "    .dataframe thead th {\n",
       "        text-align: right;\n",
       "    }\n",
       "</style>\n",
       "<table border=\"1\" class=\"dataframe\">\n",
       "  <thead>\n",
       "    <tr style=\"text-align: right;\">\n",
       "      <th></th>\n",
       "      <th>similar_index</th>\n",
       "      <th>similarity</th>\n",
       "    </tr>\n",
       "  </thead>\n",
       "  <tbody>\n",
       "    <tr>\n",
       "      <th>0</th>\n",
       "      <td>50852</td>\n",
       "      <td>0.858142</td>\n",
       "    </tr>\n",
       "    <tr>\n",
       "      <th>1</th>\n",
       "      <td>50720</td>\n",
       "      <td>0.852157</td>\n",
       "    </tr>\n",
       "    <tr>\n",
       "      <th>2</th>\n",
       "      <td>86497</td>\n",
       "      <td>0.782699</td>\n",
       "    </tr>\n",
       "    <tr>\n",
       "      <th>3</th>\n",
       "      <td>67073</td>\n",
       "      <td>0.738660</td>\n",
       "    </tr>\n",
       "    <tr>\n",
       "      <th>4</th>\n",
       "      <td>12505</td>\n",
       "      <td>0.703209</td>\n",
       "    </tr>\n",
       "    <tr>\n",
       "      <th>5</th>\n",
       "      <td>40457</td>\n",
       "      <td>0.696689</td>\n",
       "    </tr>\n",
       "    <tr>\n",
       "      <th>6</th>\n",
       "      <td>9008</td>\n",
       "      <td>0.632713</td>\n",
       "    </tr>\n",
       "    <tr>\n",
       "      <th>7</th>\n",
       "      <td>13155</td>\n",
       "      <td>0.630622</td>\n",
       "    </tr>\n",
       "    <tr>\n",
       "      <th>8</th>\n",
       "      <td>73984</td>\n",
       "      <td>0.610875</td>\n",
       "    </tr>\n",
       "    <tr>\n",
       "      <th>9</th>\n",
       "      <td>48190</td>\n",
       "      <td>0.604728</td>\n",
       "    </tr>\n",
       "  </tbody>\n",
       "</table>\n",
       "</div>"
      ],
      "text/plain": [
       "   similar_index  similarity\n",
       "0          50852    0.858142\n",
       "1          50720    0.852157\n",
       "2          86497    0.782699\n",
       "3          67073    0.738660\n",
       "4          12505    0.703209\n",
       "5          40457    0.696689\n",
       "6           9008    0.632713\n",
       "7          13155    0.630622\n",
       "8          73984    0.610875\n",
       "9          48190    0.604728"
      ]
     },
     "execution_count": 200,
     "metadata": {},
     "output_type": "execute_result"
    }
   ],
   "source": [
    "# 在疑似文章所属类中,计算与新华社文章的相似度并排序，从而找到相似度TopN的文章\n",
    "from sklearn.metrics.pairwise import cosine_similarity\n",
    "def find_similar(cpindex, top=10):\n",
    "    dis_dic = {i:cosine_similarity(tfidf[cpindex],tfidf[i])[0][0] for i in class_id[id_class[cpindex]]}\n",
    "    return sorted(dis_dic.items(), key=lambda x: x[1], reverse=True)[:top]\n",
    "\n",
    "# 创建字典查询，并对疑似文章中index='4'的文章进行查询\n",
    "temp = {}\n",
    "for i in doubt:\n",
    "    temp[str(i)] = pd.DataFrame(find_similar(i),columns=['similar_index','similarity'])\n",
    "temp['4']"
   ]
  },
  {
   "cell_type": "code",
   "execution_count": 177,
   "metadata": {},
   "outputs": [
    {
     "data": {
      "text/plain": [
       "'（原标题：44岁女子跑深圳约会网友被拒，暴雨中裸身奔走……）\\r\\n@深圳交警微博称：昨日清晨交警发现有一女子赤裸上身，行走在南坪快速上，期间还起了轻生年头，一辅警发现后赶紧为其披上黄衣，并一路劝说她。\\r\\n那么事发时\\r\\n到底都发生了些什么呢？\\r\\n南都记者带您一起还原现场\\r\\n南都记者在龙岗大队坂田中队见到了辅警刘青（发现女生的辅警），一位外表高大帅气，说话略带些腼腆的90后青年。\\r\\n刘青介绍，6月16日早上7时36分，他正在环城南路附近值勤，接到中队关于一位女子裸身进入机动车可能有危险的警情，随后骑着小铁骑开始沿路寻找，大概花了十多分钟在南坪大道坂田出口往龙岗方向的逆行辅道上发现该女子。\\r\\n女子身上一丝不挂地逆车流而行，时走时停，时坐时躺，险象环生。刘青停好小铁骑，和另外一名巡防员追了上去，发现女子的情绪很低落，话不多，刘青尝试和女子交流，劝说女子离开，可女子并不愿意接受，继续缓慢地往南坪快速路的主干道上走去。\\r\\n此时路边上已经聚集了很市民围观，为了不刺激女子的情绪，刘青和巡防员一边盯着女子一边驱赶着围观的群众。\\r\\n现场还原\\r\\n从警方提供的一份视频了解到，16日早上7时25分，女子出现在坂雪岗大道与环城南路的监控视频中，此时女子还穿着白色的内裤，正沿着坂雪岗大道往南坪快速的方向缓慢地走着。\\r\\n当时正值上班高峰期，十字路口的车流已经排起了长队。当女子出现时，路上的市民纷纷驻足观望，不少车辆也放慢了速度，但女子并不为市民观望停下脚步，依然缓慢走着。当女子行进到十字路口中间时，一辆大货车挡住了镜头，但是当女子再次出现镜头时，可以发现女子已经没穿内裤了，全身裸露继续朝着南坪快速方向走去。记者发现，视频中女子周围并没有人尾随或者上前劝止的市民。\\r\\n一大清早路上看到这样的情况\\r\\n恐怕大家都没办法淡定\\r\\n面对这一情况\\r\\n刘青表示，“一开始根本不敢看她，心里挺别扭，感觉很尴尬”，但当刘青跟随女子上了南坪快速路主干道时，女子作出了让人意想不到的举动，她突然靠近护栏要从上面跳下去，刘青赶忙冲上去拉住了女子的手，将其控制住并远离护栏。碍于女子没有穿衣服，刘青递上衣服，女子没接受还把衣服扔到排水沟里，继续往前走，没办法刘青只能紧紧拉着她的一只手跟在后面。\\r\\n刘青一路上耐心地开导安慰她，但只听到她不断地重复着一句话“要是你也遭遇我的事，你也会这样的”，期间她还不时试图挣脱刘青的手要冲向护栏往下跳。\\r\\n就这样，我被牵着走了大概十多分钟，天突然下起了大暴雨，雨大的连眼睛都睁不开”刘青继续说着，瞬间他们就被雨透了，但女子依然不愿意接受刘青的帮助，就继续冒着大雨往前走。\\r\\n大概走了有四十分钟吧，女子突然停下来说“我想回家了”，然后女子也接受了刘青递过来的小黄衣，就出现了深圳微博上的照片，女子披着小黄衣，刘青小心翼翼地在旁边走着的场景。从南平快速下来后，刘青和巡防员将女子带到了附近的坂田派出所。\\r\\n那姑娘到底是遭遇了什么样的事情\\r\\n才会说\\r\\n“要是你也遭遇我的事，你也会这样”\\r\\n据警方透露，该女子姓陈，系湖北人，今年44岁，据家属反映其有精神病史。三天前，陈某从老家来深圳约会网友，但约会受挫导致情绪异常，女子遂产生轻生念头。\\r\\n目前\\r\\n陈某已经被送往深圳某精神病医院进行治疗\\r\\n大大君只希望姑娘能早点康复\\r\\n其实真爱的到来并不存在年龄的限制\\r\\n你们说呢？\\r\\n因善良的原因\\r\\n一众网友纷纷为\\r\\n交警暖男点ZAN\\r\\n@弓常yan桦：就想问这个小哥哥有女票吗\\r\\n@原谅我这一辈子浪荡不羁爱萨摩耶：有什么过不去的要轻生嘛？ 想想自己的家人。同时也感谢交警蜀黍\\r\\n@火心聆听心灵：点赞交警\\r\\n@中華云盾：警察……警察就是群众最需时申出援手\\r\\n@Tomchlee：蜀黍帅！\\r\\n@SJ-李赫海i：这个交警很暖有木有！\\r\\n男子迷奸网友拍418个视频 女方从20岁到50岁不等\\r\\n去年6月7号上午，淮安市涟水县公安局刑警大队突然接到了一个奇怪的报警电话，一名女子言语不清，声称自己遭到了侵害。女子、被侵害、言语不清，几个关键词令接到电话的民警瞬间紧张起来。\\r\\n'"
      ]
     },
     "execution_count": 177,
     "metadata": {},
     "output_type": "execute_result"
    }
   ],
   "source": [
    "news.iloc[4].content"
   ]
  },
  {
   "cell_type": "code",
   "execution_count": 201,
   "metadata": {},
   "outputs": [
    {
     "data": {
      "text/plain": [
       "'新华社合肥5月7日电（记者陈尚营）15楼是什么概念？大约45米高，一般人向下看都会觉得害怕。5月6日，在安徽芜湖，一位消防官兵仅凭一根安全绳，在15楼走“独木桥”救下一名女子。\\\\n芜湖市消防支队相关人士介绍，6日早上，芜湖市大桥镇一小区内，一女子坐在15楼阳台旁的横梁上，想要跳楼轻生。一名消防官兵悄悄通过放置空调外机处空出来的仅10余厘米宽、2米多长的边沿，成功将女子救下。\\\\n\\u3000\\u3000（视频截图）\\\\n消防官兵到达现场时，一名年轻女子在15楼阳台旁的横梁上，左手扶着阳台栏杆，右手拿着手机，不断哭诉。为防止女子意外跌落，消防官兵首先在楼下铺设救生气垫。随后，几名官兵来到15楼，一边联合物业人员对女子进行劝解，一边与现场民警一起研究营救方案。\\\\n在与现场民警协商后，大家决定一边继续劝解女子，吸引她的注意力。同时由一名消防官兵系好安全绳悄悄从后方慢慢接近女子。女子的后方是一个空调外机放置处，堆满了杂物，为了不发出声音惊扰到女子，消防官兵只好从外机放置处仅10余厘米宽、2米多长的边沿慢慢接近女子，趁其不备从后面将其抱住，和临近阳台的其他官兵一起将其救下。\\\\n据了解，女子今年20多岁，有一个儿子，因与丈夫吵架一时想不开，才想要跳楼轻生。\\\\n'"
      ]
     },
     "execution_count": 201,
     "metadata": {},
     "output_type": "execute_result"
    }
   ],
   "source": [
    "news.iloc[50852].content"
   ]
  }
 ],
 "metadata": {
  "kernelspec": {
   "display_name": "Python 3",
   "language": "python",
   "name": "python3"
  },
  "language_info": {
   "codemirror_mode": {
    "name": "ipython",
    "version": 3
   },
   "file_extension": ".py",
   "mimetype": "text/x-python",
   "name": "python",
   "nbconvert_exporter": "python",
   "pygments_lexer": "ipython3",
   "version": "3.8.3"
  }
 },
 "nbformat": 4,
 "nbformat_minor": 4
}
