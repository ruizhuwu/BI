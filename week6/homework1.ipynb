{
 "cells": [
  {
   "cell_type": "markdown",
   "metadata": {},
   "source": [
    "### Thinking1\n",
    "XGBoost与GBDT的区别是什么？"
   ]
  },
  {
   "cell_type": "markdown",
   "metadata": {},
   "source": [
    "答：（1）GBDT将损失函数的梯度作为残差来进一步拟合，即只用到了一阶导数，XGBoost则是利用了二阶泰勒展开来刻画目标函数，支持自定义损失函数，只要函数二阶可导即可，利用了损失函数的一阶导数和二阶导数。  \n",
    "&emsp;&emsp;（2）XGBoost在目标函数中加入了正则化项，考虑了叶子节点的个数和叶子节点权重来防止过拟合。  \n",
    "&emsp;&emsp;（3）XGBoost在寻找分裂节点时，采用了近似的方法，即先对特征值进行聚合统计，然后形成若干个桶，只将桶与桶之间的分界点作为候选的分裂节点。  \n",
    "&emsp;&emsp;（4）XGBoost在每次生成树时可以对样本和特征进行抽样，从而防止过拟合。  \n",
    "&emsp;&emsp;（5）XGBoost进行了并行化的优化，即预先将数据排序好存储为block结构，然后在计算各个特征的增益以寻找最优分割点时，各个特征可以并行计算。  \n",
    "&emsp;&emsp;（6）传统GBDT以CART作为基分类器，而XGBoost还支持线性分类器，此时相当于带了L1和L2正则化项的逻辑回归或线性回归。"
   ]
  },
  {
   "cell_type": "markdown",
   "metadata": {},
   "source": [
    "### Thinking2\n",
    "举一个你之前做过的预测例子（用的什么模型，解决什么问题，比如我用LR模型，对员工离职进行了预测，效果如何... 请分享到课程微信群中）"
   ]
  },
  {
   "cell_type": "markdown",
   "metadata": {},
   "source": [
    "答：分别使用KNN和SVM对电信用户是否欠费进行了预测，当时SVM具体针对惩罚系数C进行了调节，发现在这个问题中当C增大时，TP减小，TN增大，即当对误分类的惩罚加大时，对于0值的预测准确度提高，但同时损害了对于1值预测的准确率，也就是说最优C值的确定可能需要依据预测目标在TP或TN或整体的精度之间进行权衡。但是再尝试多种参数组合之后SVM的效果都没有高于KNN，的确并非模型越复杂就能越准确。"
   ]
  },
  {
   "cell_type": "markdown",
   "metadata": {},
   "source": [
    "### Thinking3\n",
    "请你思考，在你的工作中，需要构建哪些特征（比如用户画像，item特征...），这些特征都包括哪些维度（鼓励分享到微信群中，进行交流）"
   ]
  },
  {
   "cell_type": "markdown",
   "metadata": {},
   "source": [
    "答：就拿电信用户这个例子来说，可以用来预测欠费，也可以用来做套餐推荐，需要构建用户特征包括性别、年龄、所在地等基本信息和在网时长、本地异地通话时长、短信使用量、漫游流量使用等行为信息，对以上信息做聚类分析之后可以发现解释性较强的群体分布，通话时长、在网时长可以对标不同的年龄群体，通话短信等方面则可以对标不同的职业，这或许可以解释为什么KNN效果可以很好，而用户使用app、使用机型等信息相对来说太过庞杂，在这个问题中并不适合用来描绘用户画像。item则对应各种套餐，可以通过大类属性（如：本地套餐\\全国套餐\\...）附加小类属性（如：4G大流量套餐)来进行标定，既可以从不同层次上进行分析，也增强了可解释性。"
   ]
  },
  {
   "cell_type": "markdown",
   "metadata": {},
   "source": [
    "### Action1\n",
    "男女声音识别\n",
    "数据集：voice.csv\n",
    "3168个录制的声音样本（来自男性和女性演讲者），采集的频率范围是0hz-280hz，已经对数据进行了预处理\n",
    "一共有21个属性值，请判断该声音是男还是女？\n",
    "使用Accuracy作为评价标准"
   ]
  }
 ],
 "metadata": {
  "kernelspec": {
   "display_name": "Python 3",
   "language": "python",
   "name": "python3"
  },
  "language_info": {
   "codemirror_mode": {
    "name": "ipython",
    "version": 3
   },
   "file_extension": ".py",
   "mimetype": "text/x-python",
   "name": "python",
   "nbconvert_exporter": "python",
   "pygments_lexer": "ipython3",
   "version": "3.8.3"
  }
 },
 "nbformat": 4,
 "nbformat_minor": 4
}
