{
 "cells": [
  {
   "cell_type": "markdown",
   "metadata": {},
   "source": [
    "### Thinking1\n",
    "在实际工作中，FM和MF哪个应用的更多，为什么"
   ]
  },
  {
   "cell_type": "markdown",
   "metadata": {},
   "source": [
    "答：FM应用得越多，因为MF只是FM的一个特例，MF只利用了User-Item信息，即只对UserID和ItemID进行了特征embedding，只考虑了User和Item的交互关系，而FM可以更泛化地对其他信息进行特征embedding，利用MF考虑特征两两之间的交互关系，从而可以将更多的信息利用起来，同时解决了大规模稀疏矩阵的特征组合问题。除此之外，FM可以通过公式将预测时的计算复杂度降低到$O(k*n)$，所以FM在可以达到更高准确率的同时时间代价又在可接受范围内。"
   ]
  },
  {
   "cell_type": "markdown",
   "metadata": {},
   "source": [
    "### Thinking2\n",
    "FFM与FM有哪些区别？"
   ]
  },
  {
   "cell_type": "markdown",
   "metadata": {},
   "source": [
    "答：FFM相比FM引入了filed的概念，即将one-hot编码前属于同一个字段的特征归属于同一个field，于是，原本FM中一个特征只对应一个隐变量，而在FFM中每一个特征都会有一组隐变量，其中一个隐变量表征该特征与一个field的交互关系，于是FFM的二次项$x_ix_j$的系数从FM中的$<V_i,V_j>$变为$<V_{i,f_j},V_{j,f_i}>$，其中$f_i,f_j$为$i,j$对应的field。这样的改变虽然使得模型有了更细致的刻画，但是由于更改之后预测时计算复杂度$O(k*n^2)$无法再使用公式来降低，选取隐变量维数$k$时，FFM通常远小于FM。"
   ]
  },
  {
   "cell_type": "markdown",
   "metadata": {},
   "source": [
    "### Thinking3\n",
    "DeepFM相比于FM解决了哪些问题，原理是怎样的"
   ]
  },
  {
   "cell_type": "markdown",
   "metadata": {},
   "source": [
    "答：FM只考虑了1阶特征以及2阶特征的组合，但现实环境中，特征间的相互作用会更加复杂，但高阶特征的FM计算复杂度又过高，而DeepFM通过在FM的基础上加入DNN来做到能既考虑低阶特征又考虑高阶特征，其中FM负责低阶特征提取，DNN负责高阶特征提取，即：将1阶特征和特征embedding后的隐变量输入FM中进行学习的同时，将隐变量输入DNN来对更高阶特征进行学习，学习完成后，综合二者输出进行预测。"
   ]
  },
  {
   "cell_type": "markdown",
   "metadata": {},
   "source": [
    "### Thinking4\n",
    "Surprise工具中的baseline算法原理是怎样的？BaselineOnly和KNNBaseline有什么区别？"
   ]
  },
  {
   "cell_type": "markdown",
   "metadata": {},
   "source": [
    "答：baseline的原理为：利用 $b_{ui}=\\mu+b_u+b_i$ 来对$r_{ui}$进行预测，其中$\\mu$为系统整体的均值，$b_u$为用户对整体的偏差，$b_i$为商品对整体的偏差。  \n",
    "&emsp;&emsp;BaselineOnly是用$b_{ui}$来预测评分，进而通过对预测评分进行排序，来得到TopN推荐，而KNNBaseline只是利用Baseline的方法训练$b_u$和$b_i$，得到$b_{ui}$作为偏差，以便在考虑邻居的打分时，将偏差减掉。"
   ]
  },
  {
   "cell_type": "markdown",
   "metadata": {},
   "source": [
    "### Thinking5\n",
    "基于邻域的协同过滤都有哪些算法，请简述原理"
   ]
  },
  {
   "cell_type": "markdown",
   "metadata": {},
   "source": [
    "答：基于领域的协同过滤包括UserCF和ItemCF。  \n",
    "&emsp;&emsp;UserCF的原理为：定义用户间的相似度，对于指定用户，向他推荐那些与他相似的用户喜欢的商品。  \n",
    "&emsp;&emsp;ItemCF的原理为：定义物品间的相似度，对于指定用户，找到与他喜欢的商品相似的那些商品进行推荐。"
   ]
  },
  {
   "cell_type": "markdown",
   "metadata": {},
   "source": [
    "### Action1\n",
    "使用libfm工具对movielens进行评分预测，采用SGD优化算法"
   ]
  },
  {
   "cell_type": "markdown",
   "metadata": {},
   "source": [
    "#### （1）转换成libfm格式"
   ]
  },
  {
   "cell_type": "markdown",
   "metadata": {},
   "source": [
    "![转换成libfm格式](https://github.com/ruizhuwu/BI/blob/master/week5/1.png)"
   ]
  },
  {
   "cell_type": "markdown",
   "metadata": {},
   "source": [
    "#### （2）使用libfm，优化方法为SGD"
   ]
  },
  {
   "cell_type": "markdown",
   "metadata": {},
   "source": [
    "设定参数：学习率，正则化项，初始参数分布方差"
   ]
  },
  {
   "cell_type": "markdown",
   "metadata": {},
   "source": [
    "![使用libfm，优化方法为SGD——包括学习率，正则化项，初始参数分布](https://github.com/ruizhuwu/BI/blob/master/week5/2.png)"
   ]
  },
  {
   "cell_type": "markdown",
   "metadata": {},
   "source": [
    "#### （3）完成100次迭代，输出为out.txt"
   ]
  },
  {
   "cell_type": "markdown",
   "metadata": {},
   "source": [
    "![完成100次迭代](https://github.com/ruizhuwu/BI/blob/master/week5/3.png)"
   ]
  },
  {
   "cell_type": "markdown",
   "metadata": {},
   "source": [
    "### Action2\n",
    "使用DeepFM对movielens进行评分预测"
   ]
  },
  {
   "cell_type": "markdown",
   "metadata": {},
   "source": [
    "#### （1）对于movielens_sample"
   ]
  },
  {
   "cell_type": "code",
   "execution_count": 1,
   "metadata": {},
   "outputs": [
    {
     "data": {
      "text/html": [
       "<div>\n",
       "<style scoped>\n",
       "    .dataframe tbody tr th:only-of-type {\n",
       "        vertical-align: middle;\n",
       "    }\n",
       "\n",
       "    .dataframe tbody tr th {\n",
       "        vertical-align: top;\n",
       "    }\n",
       "\n",
       "    .dataframe thead th {\n",
       "        text-align: right;\n",
       "    }\n",
       "</style>\n",
       "<table border=\"1\" class=\"dataframe\">\n",
       "  <thead>\n",
       "    <tr style=\"text-align: right;\">\n",
       "      <th></th>\n",
       "      <th>user_id</th>\n",
       "      <th>movie_id</th>\n",
       "      <th>rating</th>\n",
       "      <th>timestamp</th>\n",
       "      <th>title</th>\n",
       "      <th>genres</th>\n",
       "      <th>gender</th>\n",
       "      <th>age</th>\n",
       "      <th>occupation</th>\n",
       "      <th>zip</th>\n",
       "    </tr>\n",
       "  </thead>\n",
       "  <tbody>\n",
       "    <tr>\n",
       "      <th>0</th>\n",
       "      <td>3299</td>\n",
       "      <td>235</td>\n",
       "      <td>4</td>\n",
       "      <td>968035345</td>\n",
       "      <td>Ed Wood (1994)</td>\n",
       "      <td>Comedy|Drama</td>\n",
       "      <td>F</td>\n",
       "      <td>25</td>\n",
       "      <td>4</td>\n",
       "      <td>19119</td>\n",
       "    </tr>\n",
       "    <tr>\n",
       "      <th>1</th>\n",
       "      <td>3630</td>\n",
       "      <td>3256</td>\n",
       "      <td>3</td>\n",
       "      <td>966536874</td>\n",
       "      <td>Patriot Games (1992)</td>\n",
       "      <td>Action|Thriller</td>\n",
       "      <td>M</td>\n",
       "      <td>18</td>\n",
       "      <td>4</td>\n",
       "      <td>77005</td>\n",
       "    </tr>\n",
       "    <tr>\n",
       "      <th>2</th>\n",
       "      <td>517</td>\n",
       "      <td>105</td>\n",
       "      <td>4</td>\n",
       "      <td>976203603</td>\n",
       "      <td>Bridges of Madison County, The (1995)</td>\n",
       "      <td>Drama|Romance</td>\n",
       "      <td>F</td>\n",
       "      <td>25</td>\n",
       "      <td>14</td>\n",
       "      <td>55408</td>\n",
       "    </tr>\n",
       "    <tr>\n",
       "      <th>3</th>\n",
       "      <td>785</td>\n",
       "      <td>2115</td>\n",
       "      <td>3</td>\n",
       "      <td>975430389</td>\n",
       "      <td>Indiana Jones and the Temple of Doom (1984)</td>\n",
       "      <td>Action|Adventure</td>\n",
       "      <td>M</td>\n",
       "      <td>18</td>\n",
       "      <td>19</td>\n",
       "      <td>29307</td>\n",
       "    </tr>\n",
       "    <tr>\n",
       "      <th>4</th>\n",
       "      <td>5848</td>\n",
       "      <td>909</td>\n",
       "      <td>5</td>\n",
       "      <td>957782527</td>\n",
       "      <td>Apartment, The (1960)</td>\n",
       "      <td>Comedy|Drama</td>\n",
       "      <td>M</td>\n",
       "      <td>50</td>\n",
       "      <td>20</td>\n",
       "      <td>20009</td>\n",
       "    </tr>\n",
       "  </tbody>\n",
       "</table>\n",
       "</div>"
      ],
      "text/plain": [
       "   user_id  movie_id  rating  timestamp  \\\n",
       "0     3299       235       4  968035345   \n",
       "1     3630      3256       3  966536874   \n",
       "2      517       105       4  976203603   \n",
       "3      785      2115       3  975430389   \n",
       "4     5848       909       5  957782527   \n",
       "\n",
       "                                         title            genres gender  age  \\\n",
       "0                               Ed Wood (1994)      Comedy|Drama      F   25   \n",
       "1                         Patriot Games (1992)   Action|Thriller      M   18   \n",
       "2        Bridges of Madison County, The (1995)     Drama|Romance      F   25   \n",
       "3  Indiana Jones and the Temple of Doom (1984)  Action|Adventure      M   18   \n",
       "4                        Apartment, The (1960)      Comedy|Drama      M   50   \n",
       "\n",
       "   occupation    zip  \n",
       "0           4  19119  \n",
       "1           4  77005  \n",
       "2          14  55408  \n",
       "3          19  29307  \n",
       "4          20  20009  "
      ]
     },
     "execution_count": 1,
     "metadata": {},
     "output_type": "execute_result"
    }
   ],
   "source": [
    "import pandas as pd\n",
    "\n",
    "# 载入数据\n",
    "data = pd.read_csv(\"movielens_sample.txt\")\n",
    "\n",
    "# 数据探索\n",
    "data.head()"
   ]
  },
  {
   "cell_type": "code",
   "execution_count": 2,
   "metadata": {},
   "outputs": [
    {
     "data": {
      "text/html": [
       "<div>\n",
       "<style scoped>\n",
       "    .dataframe tbody tr th:only-of-type {\n",
       "        vertical-align: middle;\n",
       "    }\n",
       "\n",
       "    .dataframe tbody tr th {\n",
       "        vertical-align: top;\n",
       "    }\n",
       "\n",
       "    .dataframe thead th {\n",
       "        text-align: right;\n",
       "    }\n",
       "</style>\n",
       "<table border=\"1\" class=\"dataframe\">\n",
       "  <thead>\n",
       "    <tr style=\"text-align: right;\">\n",
       "      <th></th>\n",
       "      <th>user_id</th>\n",
       "      <th>movie_id</th>\n",
       "      <th>rating</th>\n",
       "      <th>timestamp</th>\n",
       "      <th>title</th>\n",
       "      <th>genres</th>\n",
       "      <th>gender</th>\n",
       "      <th>age</th>\n",
       "      <th>occupation</th>\n",
       "      <th>zip</th>\n",
       "    </tr>\n",
       "  </thead>\n",
       "  <tbody>\n",
       "    <tr>\n",
       "      <th>0</th>\n",
       "      <td>107</td>\n",
       "      <td>12</td>\n",
       "      <td>4</td>\n",
       "      <td>968035345</td>\n",
       "      <td>Ed Wood (1994)</td>\n",
       "      <td>Comedy|Drama</td>\n",
       "      <td>0</td>\n",
       "      <td>2</td>\n",
       "      <td>4</td>\n",
       "      <td>35</td>\n",
       "    </tr>\n",
       "    <tr>\n",
       "      <th>1</th>\n",
       "      <td>123</td>\n",
       "      <td>169</td>\n",
       "      <td>3</td>\n",
       "      <td>966536874</td>\n",
       "      <td>Patriot Games (1992)</td>\n",
       "      <td>Action|Thriller</td>\n",
       "      <td>1</td>\n",
       "      <td>1</td>\n",
       "      <td>4</td>\n",
       "      <td>118</td>\n",
       "    </tr>\n",
       "    <tr>\n",
       "      <th>2</th>\n",
       "      <td>12</td>\n",
       "      <td>6</td>\n",
       "      <td>4</td>\n",
       "      <td>976203603</td>\n",
       "      <td>Bridges of Madison County, The (1995)</td>\n",
       "      <td>Drama|Romance</td>\n",
       "      <td>0</td>\n",
       "      <td>2</td>\n",
       "      <td>13</td>\n",
       "      <td>99</td>\n",
       "    </tr>\n",
       "    <tr>\n",
       "      <th>3</th>\n",
       "      <td>21</td>\n",
       "      <td>112</td>\n",
       "      <td>3</td>\n",
       "      <td>975430389</td>\n",
       "      <td>Indiana Jones and the Temple of Doom (1984)</td>\n",
       "      <td>Action|Adventure</td>\n",
       "      <td>1</td>\n",
       "      <td>1</td>\n",
       "      <td>18</td>\n",
       "      <td>55</td>\n",
       "    </tr>\n",
       "    <tr>\n",
       "      <th>4</th>\n",
       "      <td>187</td>\n",
       "      <td>45</td>\n",
       "      <td>5</td>\n",
       "      <td>957782527</td>\n",
       "      <td>Apartment, The (1960)</td>\n",
       "      <td>Comedy|Drama</td>\n",
       "      <td>1</td>\n",
       "      <td>5</td>\n",
       "      <td>19</td>\n",
       "      <td>41</td>\n",
       "    </tr>\n",
       "  </tbody>\n",
       "</table>\n",
       "</div>"
      ],
      "text/plain": [
       "   user_id  movie_id  rating  timestamp  \\\n",
       "0      107        12       4  968035345   \n",
       "1      123       169       3  966536874   \n",
       "2       12         6       4  976203603   \n",
       "3       21       112       3  975430389   \n",
       "4      187        45       5  957782527   \n",
       "\n",
       "                                         title            genres  gender  age  \\\n",
       "0                               Ed Wood (1994)      Comedy|Drama       0    2   \n",
       "1                         Patriot Games (1992)   Action|Thriller       1    1   \n",
       "2        Bridges of Madison County, The (1995)     Drama|Romance       0    2   \n",
       "3  Indiana Jones and the Temple of Doom (1984)  Action|Adventure       1    1   \n",
       "4                        Apartment, The (1960)      Comedy|Drama       1    5   \n",
       "\n",
       "   occupation  zip  \n",
       "0           4   35  \n",
       "1           4  118  \n",
       "2          13   99  \n",
       "3          18   55  \n",
       "4          19   41  "
      ]
     },
     "execution_count": 2,
     "metadata": {},
     "output_type": "execute_result"
    }
   ],
   "source": [
    "from sklearn.preprocessing import LabelEncoder\n",
    "\n",
    "# 对特征标签进行编码\n",
    "sparse_features = [\"movie_id\", \"user_id\", \"gender\", \"age\", \"occupation\", \"zip\"] # 将年龄作为离散值处理\n",
    "target = ['rating']\n",
    "for feature in sparse_features:\n",
    "    lbe = LabelEncoder()\n",
    "    data[feature] = lbe.fit_transform(data[feature])\n",
    "    \n",
    "data.head()"
   ]
  },
  {
   "cell_type": "code",
   "execution_count": 3,
   "metadata": {},
   "outputs": [
    {
     "data": {
      "text/plain": [
       "SparseFeat(name='movie_id', vocabulary_size=187, embedding_dim=8, use_hash=False, dtype='int32', embeddings_initializer=<tensorflow.python.keras.initializers.initializers_v1.RandomNormal object at 0x000001B5010D4910>, embedding_name='movie_id', group_name='default_group', trainable=True)"
      ]
     },
     "execution_count": 3,
     "metadata": {},
     "output_type": "execute_result"
    }
   ],
   "source": [
    "from deepctr.feature_column import SparseFeat,get_feature_names\n",
    "\n",
    "# 记录字段名,每个稀疏特征的不同值个数，以及embedding维数等\n",
    "fixlen_feature_columns = [SparseFeat(feature, data[feature].nunique(),embedding_dim=8) for feature in sparse_features]\n",
    "fixlen_feature_columns[0]"
   ]
  },
  {
   "cell_type": "code",
   "execution_count": 4,
   "metadata": {},
   "outputs": [
    {
     "data": {
      "text/plain": [
       "['movie_id', 'user_id', 'gender', 'age', 'occupation', 'zip']"
      ]
     },
     "execution_count": 4,
     "metadata": {},
     "output_type": "execute_result"
    }
   ],
   "source": [
    "# 指定FM和DNN训练用的特征列，并获取特证名\n",
    "dnn_feature_columns = fixlen_feature_columns\n",
    "linear_feature_columns = fixlen_feature_columns\n",
    "\n",
    "feature_names = get_feature_names(dnn_feature_columns + linear_feature_columns)\n",
    "feature_names"
   ]
  },
  {
   "cell_type": "code",
   "execution_count": 5,
   "metadata": {},
   "outputs": [
    {
     "name": "stdout",
     "output_type": "stream",
     "text": [
      "Epoch 1/10\n"
     ]
    },
    {
     "name": "stderr",
     "output_type": "stream",
     "text": [
      "C:\\Users\\80566\\Coding\\anaconda3\\lib\\site-packages\\tensorflow\\python\\framework\\indexed_slices.py:431: UserWarning: Converting sparse IndexedSlices to a dense Tensor of unknown shape. This may consume a large amount of memory.\n",
      "  warnings.warn(\n"
     ]
    },
    {
     "name": "stdout",
     "output_type": "stream",
     "text": [
      "1/1 [==============================] - 0s 275ms/step - loss: 14.1715 - mse: 14.1715 - val_loss: 14.1827 - val_mse: 14.1827\n",
      "Epoch 2/10\n",
      "1/1 [==============================] - 0s 15ms/step - loss: 14.0193 - mse: 14.0193 - val_loss: 14.0451 - val_mse: 14.0451\n",
      "Epoch 3/10\n",
      "1/1 [==============================] - 0s 15ms/step - loss: 13.8545 - mse: 13.8545 - val_loss: 13.8953 - val_mse: 13.8953\n",
      "Epoch 4/10\n",
      "1/1 [==============================] - 0s 15ms/step - loss: 13.6744 - mse: 13.6744 - val_loss: 13.7337 - val_mse: 13.7337\n",
      "Epoch 5/10\n",
      "1/1 [==============================] - 0s 14ms/step - loss: 13.4798 - mse: 13.4798 - val_loss: 13.5599 - val_mse: 13.5599\n",
      "Epoch 6/10\n",
      "1/1 [==============================] - 0s 15ms/step - loss: 13.2695 - mse: 13.2695 - val_loss: 13.3730 - val_mse: 13.3730\n",
      "Epoch 7/10\n",
      "1/1 [==============================] - 0s 15ms/step - loss: 13.0424 - mse: 13.0424 - val_loss: 13.1720 - val_mse: 13.1720\n",
      "Epoch 8/10\n",
      "1/1 [==============================] - 0s 15ms/step - loss: 12.7972 - mse: 12.7972 - val_loss: 12.9559 - val_mse: 12.9559\n",
      "Epoch 9/10\n",
      "1/1 [==============================] - 0s 14ms/step - loss: 12.5326 - mse: 12.5326 - val_loss: 12.7236 - val_mse: 12.7236\n",
      "Epoch 10/10\n",
      "1/1 [==============================] - 0s 14ms/step - loss: 12.2472 - mse: 12.2472 - val_loss: 12.4743 - val_mse: 12.4743\n"
     ]
    }
   ],
   "source": [
    "from sklearn.model_selection import train_test_split\n",
    "from deepctr.models import DeepFM\n",
    "\n",
    "# 切分数据集\n",
    "train, test = train_test_split(data, test_size=0.2)\n",
    "\n",
    "# 转换成字典\n",
    "train_model_input = {name:train[name].values for name in feature_names}\n",
    "test_model_input = {name:test[name].values for name in feature_names}\n",
    "\n",
    "# 载入模型\n",
    "model = DeepFM(linear_feature_columns,dnn_feature_columns,task='regression')\n",
    "model.compile(\"adam\", \"mse\", metrics=['mse'], )\n",
    "\n",
    "# fit and predict\n",
    "history = model.fit(train_model_input, train[target].values,\n",
    "                    batch_size=256, epochs=10, verbose=1, validation_split=0.2, )\n",
    "pred_ans = model.predict(test_model_input, batch_size=256)"
   ]
  },
  {
   "cell_type": "code",
   "execution_count": 6,
   "metadata": {},
   "outputs": [
    {
     "name": "stdout",
     "output_type": "stream",
     "text": [
      "test RMSE: 3.4827431716967014\n"
     ]
    }
   ],
   "source": [
    "# 计算RMSE\n",
    "from sklearn.metrics import mean_squared_error\n",
    "mse = round(mean_squared_error(test[target].values, pred_ans), 4)\n",
    "rmse = mse ** 0.5\n",
    "print(\"test RMSE:\", rmse)"
   ]
  },
  {
   "cell_type": "markdown",
   "metadata": {},
   "source": [
    "#### （2）对于movielens"
   ]
  },
  {
   "cell_type": "code",
   "execution_count": 7,
   "metadata": {},
   "outputs": [
    {
     "data": {
      "text/html": [
       "<div>\n",
       "<style scoped>\n",
       "    .dataframe tbody tr th:only-of-type {\n",
       "        vertical-align: middle;\n",
       "    }\n",
       "\n",
       "    .dataframe tbody tr th {\n",
       "        vertical-align: top;\n",
       "    }\n",
       "\n",
       "    .dataframe thead th {\n",
       "        text-align: right;\n",
       "    }\n",
       "</style>\n",
       "<table border=\"1\" class=\"dataframe\">\n",
       "  <thead>\n",
       "    <tr style=\"text-align: right;\">\n",
       "      <th></th>\n",
       "      <th>userId</th>\n",
       "      <th>movieId</th>\n",
       "      <th>rating</th>\n",
       "      <th>timestamp</th>\n",
       "    </tr>\n",
       "  </thead>\n",
       "  <tbody>\n",
       "    <tr>\n",
       "      <th>0</th>\n",
       "      <td>1</td>\n",
       "      <td>2</td>\n",
       "      <td>3.5</td>\n",
       "      <td>1112486027</td>\n",
       "    </tr>\n",
       "    <tr>\n",
       "      <th>1</th>\n",
       "      <td>1</td>\n",
       "      <td>29</td>\n",
       "      <td>3.5</td>\n",
       "      <td>1112484676</td>\n",
       "    </tr>\n",
       "    <tr>\n",
       "      <th>2</th>\n",
       "      <td>1</td>\n",
       "      <td>32</td>\n",
       "      <td>3.5</td>\n",
       "      <td>1112484819</td>\n",
       "    </tr>\n",
       "    <tr>\n",
       "      <th>3</th>\n",
       "      <td>1</td>\n",
       "      <td>47</td>\n",
       "      <td>3.5</td>\n",
       "      <td>1112484727</td>\n",
       "    </tr>\n",
       "    <tr>\n",
       "      <th>4</th>\n",
       "      <td>1</td>\n",
       "      <td>50</td>\n",
       "      <td>3.5</td>\n",
       "      <td>1112484580</td>\n",
       "    </tr>\n",
       "  </tbody>\n",
       "</table>\n",
       "</div>"
      ],
      "text/plain": [
       "   userId  movieId  rating   timestamp\n",
       "0       1        2     3.5  1112486027\n",
       "1       1       29     3.5  1112484676\n",
       "2       1       32     3.5  1112484819\n",
       "3       1       47     3.5  1112484727\n",
       "4       1       50     3.5  1112484580"
      ]
     },
     "execution_count": 7,
     "metadata": {},
     "output_type": "execute_result"
    }
   ],
   "source": [
    "import pandas as pd\n",
    "\n",
    "# 载入数据\n",
    "data = pd.read_csv(\"ratings.csv\")\n",
    "\n",
    "# 数据探索\n",
    "data.head()"
   ]
  },
  {
   "cell_type": "code",
   "execution_count": 8,
   "metadata": {},
   "outputs": [
    {
     "data": {
      "text/html": [
       "<div>\n",
       "<style scoped>\n",
       "    .dataframe tbody tr th:only-of-type {\n",
       "        vertical-align: middle;\n",
       "    }\n",
       "\n",
       "    .dataframe tbody tr th {\n",
       "        vertical-align: top;\n",
       "    }\n",
       "\n",
       "    .dataframe thead th {\n",
       "        text-align: right;\n",
       "    }\n",
       "</style>\n",
       "<table border=\"1\" class=\"dataframe\">\n",
       "  <thead>\n",
       "    <tr style=\"text-align: right;\">\n",
       "      <th></th>\n",
       "      <th>userId</th>\n",
       "      <th>movieId</th>\n",
       "      <th>rating</th>\n",
       "      <th>timestamp</th>\n",
       "    </tr>\n",
       "  </thead>\n",
       "  <tbody>\n",
       "    <tr>\n",
       "      <th>0</th>\n",
       "      <td>0</td>\n",
       "      <td>1</td>\n",
       "      <td>3.5</td>\n",
       "      <td>340880</td>\n",
       "    </tr>\n",
       "    <tr>\n",
       "      <th>1</th>\n",
       "      <td>0</td>\n",
       "      <td>28</td>\n",
       "      <td>3.5</td>\n",
       "      <td>340785</td>\n",
       "    </tr>\n",
       "    <tr>\n",
       "      <th>2</th>\n",
       "      <td>0</td>\n",
       "      <td>31</td>\n",
       "      <td>3.5</td>\n",
       "      <td>340801</td>\n",
       "    </tr>\n",
       "    <tr>\n",
       "      <th>3</th>\n",
       "      <td>0</td>\n",
       "      <td>46</td>\n",
       "      <td>3.5</td>\n",
       "      <td>340790</td>\n",
       "    </tr>\n",
       "    <tr>\n",
       "      <th>4</th>\n",
       "      <td>0</td>\n",
       "      <td>49</td>\n",
       "      <td>3.5</td>\n",
       "      <td>340774</td>\n",
       "    </tr>\n",
       "  </tbody>\n",
       "</table>\n",
       "</div>"
      ],
      "text/plain": [
       "   userId  movieId  rating  timestamp\n",
       "0       0        1     3.5     340880\n",
       "1       0       28     3.5     340785\n",
       "2       0       31     3.5     340801\n",
       "3       0       46     3.5     340790\n",
       "4       0       49     3.5     340774"
      ]
     },
     "execution_count": 8,
     "metadata": {},
     "output_type": "execute_result"
    }
   ],
   "source": [
    "from sklearn.preprocessing import LabelEncoder\n",
    "\n",
    "# 对特征标签进行编码\n",
    "sparse_features = [\"userId\", \"movieId\", \"timestamp\"] # 将年龄作为离散值处理\n",
    "target = ['rating']\n",
    "for feature in sparse_features:\n",
    "    lbe = LabelEncoder()\n",
    "    data[feature] = lbe.fit_transform(data[feature])\n",
    "    \n",
    "data.head()"
   ]
  },
  {
   "cell_type": "code",
   "execution_count": 9,
   "metadata": {},
   "outputs": [
    {
     "data": {
      "text/plain": [
       "SparseFeat(name='userId', vocabulary_size=7120, embedding_dim=4, use_hash=False, dtype='int32', embeddings_initializer=<tensorflow.python.keras.initializers.initializers_v1.RandomNormal object at 0x000001B57F0459D0>, embedding_name='userId', group_name='default_group', trainable=True)"
      ]
     },
     "execution_count": 9,
     "metadata": {},
     "output_type": "execute_result"
    }
   ],
   "source": [
    "from deepctr.feature_column import SparseFeat,get_feature_names\n",
    "\n",
    "# 记录字段名,每个稀疏特征的不同值个数，以及embedding维数等\n",
    "fixlen_feature_columns = [SparseFeat(feature, data[feature].nunique()) for feature in sparse_features]\n",
    "fixlen_feature_columns[0]"
   ]
  },
  {
   "cell_type": "code",
   "execution_count": 10,
   "metadata": {},
   "outputs": [
    {
     "data": {
      "text/plain": [
       "['userId', 'movieId', 'timestamp']"
      ]
     },
     "execution_count": 10,
     "metadata": {},
     "output_type": "execute_result"
    }
   ],
   "source": [
    "# 指定FM和DNN训练用的特征列，并获取特证名\n",
    "dnn_feature_columns = fixlen_feature_columns\n",
    "linear_feature_columns = fixlen_feature_columns\n",
    "\n",
    "feature_names = get_feature_names(dnn_feature_columns + linear_feature_columns)\n",
    "feature_names"
   ]
  },
  {
   "cell_type": "code",
   "execution_count": 11,
   "metadata": {},
   "outputs": [
    {
     "name": "stdout",
     "output_type": "stream",
     "text": [
      "Epoch 1/5\n"
     ]
    },
    {
     "name": "stderr",
     "output_type": "stream",
     "text": [
      "C:\\Users\\80566\\Coding\\anaconda3\\lib\\site-packages\\tensorflow\\python\\framework\\indexed_slices.py:431: UserWarning: Converting sparse IndexedSlices to a dense Tensor of unknown shape. This may consume a large amount of memory.\n",
      "  warnings.warn(\n"
     ]
    },
    {
     "name": "stdout",
     "output_type": "stream",
     "text": [
      "20972/20972 [==============================] - 646s 31ms/step - loss: 0.8225 - mse: 0.8138 - val_loss: 0.7541 - val_mse: 0.7411\n",
      "Epoch 2/5\n",
      "20972/20972 [==============================] - 644s 31ms/step - loss: 0.7066 - mse: 0.6892 - val_loss: 0.7415 - val_mse: 0.7218\n",
      "Epoch 3/5\n",
      "20972/20972 [==============================] - 658s 31ms/step - loss: 0.6478 - mse: 0.6267 - val_loss: 0.7373 - val_mse: 0.7144\n",
      "Epoch 4/5\n",
      "20972/20972 [==============================] - 642s 31ms/step - loss: 0.6222 - mse: 0.5983 - val_loss: 0.7412 - val_mse: 0.7151\n",
      "Epoch 5/5\n",
      "20972/20972 [==============================] - 631s 30ms/step - loss: 0.6164 - mse: 0.5907 - val_loss: 0.7367 - val_mse: 0.7095\n"
     ]
    }
   ],
   "source": [
    "from sklearn.model_selection import train_test_split\n",
    "from deepctr.models import DeepFM\n",
    "# 切分数据集\n",
    "train, test = train_test_split(data, test_size=0.2)\n",
    "\n",
    "# 转换成字典\n",
    "train_model_input = {name:train[name].values for name in feature_names}\n",
    "test_model_input = {name:test[name].values for name in feature_names}\n",
    "\n",
    "# 载入模型\n",
    "model = DeepFM(linear_feature_columns,dnn_feature_columns,task='regression')\n",
    "model.compile(\"adam\", \"mse\", metrics=['mse'], )\n",
    "\n",
    "# fit and predict\n",
    "history = model.fit(train_model_input, train[target].values,\n",
    "                    batch_size=32, epochs=5, verbose=1, validation_split=0.2, )\n",
    "pred_ans = model.predict(test_model_input, batch_size=256)"
   ]
  },
  {
   "cell_type": "code",
   "execution_count": 12,
   "metadata": {},
   "outputs": [
    {
     "name": "stdout",
     "output_type": "stream",
     "text": [
      "test RMSE: 0.8460496439334987\n"
     ]
    }
   ],
   "source": [
    "# 计算RMSE\n",
    "from sklearn.metrics import mean_squared_error\n",
    "mse = round(mean_squared_error(test[target].values, pred_ans), 4)\n",
    "rmse = mse ** 0.5\n",
    "print(\"test RMSE:\", rmse)"
   ]
  },
  {
   "cell_type": "markdown",
   "metadata": {},
   "source": [
    "### Action3\n",
    "使用基于邻域的协同过滤（KNNBasic, KNNWithMeans, KNNWithZScore, KNNBaseline中的任意一种）对MovieLens数据集进行协同过滤，采用k折交叉验证(k=3)，输出每次计算的RMSE, MAE"
   ]
  },
  {
   "cell_type": "code",
   "execution_count": 14,
   "metadata": {},
   "outputs": [
    {
     "name": "stdout",
     "output_type": "stream",
     "text": [
      "   userId  movieId  rating   timestamp\n",
      "0       1        2     3.5  1112486027\n",
      "1       1       29     3.5  1112484676\n",
      "2       1       32     3.5  1112484819\n",
      "3       1       47     3.5  1112484727\n",
      "4       1       50     3.5  1112484580\n",
      "用户数： 7120\n",
      "电影数： 14026\n"
     ]
    }
   ],
   "source": [
    "import pandas as pd\n",
    "from surprise import Reader\n",
    "from surprise import Dataset\n",
    "from surprise import KNNBasic, KNNWithMeans, KNNWithZScore, KNNBaseline\n",
    "from surprise.model_selection import cross_validate\n",
    "\n",
    "# 载入数据\n",
    "reader = Reader(line_format = 'user item rating timestamp', sep=',', skip_lines=1)\n",
    "data = Dataset.load_from_file('ratings.csv', reader=reader)\n",
    "\n",
    "# 数据探索\n",
    "pd_data = pd.read_csv('ratings.csv')\n",
    "print(pd_data.head())\n",
    "print('用户数：', len(pd_data['userId'].unique()))\n",
    "print('电影数：', len(pd_data['movieId'].unique()))"
   ]
  },
  {
   "cell_type": "code",
   "execution_count": 15,
   "metadata": {},
   "outputs": [
    {
     "name": "stdout",
     "output_type": "stream",
     "text": [
      "对于KNNBasic：\n",
      "Computing the msd similarity matrix...\n",
      "Done computing similarity matrix.\n",
      "Computing the msd similarity matrix...\n",
      "Done computing similarity matrix.\n",
      "Computing the msd similarity matrix...\n",
      "Done computing similarity matrix.\n",
      "Evaluating RMSE, MAE of algorithm KNNBasic on 3 split(s).\n",
      "\n",
      "                  Fold 1  Fold 2  Fold 3  Mean    Std     \n",
      "RMSE (testset)    0.8969  0.8960  0.8971  0.8967  0.0005  \n",
      "MAE (testset)     0.6852  0.6842  0.6855  0.6850  0.0005  \n",
      "Fit time          21.86   22.10   22.13   22.03   0.12    \n",
      "Test time         118.59  117.12  118.68  118.13  0.71    \n"
     ]
    },
    {
     "data": {
      "text/plain": [
       "{'test_rmse': array([0.89690243, 0.8960176 , 0.8971442 ]),\n",
       " 'test_mae': array([0.68515711, 0.68424551, 0.68554341]),\n",
       " 'fit_time': (21.86299729347229, 22.09784770011902, 22.12903881072998),\n",
       " 'test_time': (118.58775663375854, 117.12284564971924, 118.68268179893494)}"
      ]
     },
     "execution_count": 15,
     "metadata": {},
     "output_type": "execute_result"
    }
   ],
   "source": [
    "# KNNBasic(因为电影数大于用户数，使用UserCF, 并设置最小支持度进行过滤)\n",
    "sim_options = {'user_based': True, 'min_support': 10}\n",
    "knnbasic = KNNBasic(sim_options=sim_options)\n",
    "\n",
    "#k折交叉验证（k=3）\n",
    "print('对于KNNBasic：')\n",
    "cross_validate(knnbasic, data, measures=['RMSE', 'MAE'], cv=3, verbose=True)"
   ]
  },
  {
   "cell_type": "code",
   "execution_count": 16,
   "metadata": {},
   "outputs": [
    {
     "name": "stdout",
     "output_type": "stream",
     "text": [
      "对于KNNBasicWithMeans：\n",
      "Computing the msd similarity matrix...\n",
      "Done computing similarity matrix.\n",
      "Computing the msd similarity matrix...\n",
      "Done computing similarity matrix.\n",
      "Computing the msd similarity matrix...\n",
      "Done computing similarity matrix.\n",
      "Evaluating RMSE, MAE of algorithm KNNWithMeans on 3 split(s).\n",
      "\n",
      "                  Fold 1  Fold 2  Fold 3  Mean    Std     \n",
      "RMSE (testset)    0.8756  0.8749  0.8759  0.8755  0.0004  \n",
      "MAE (testset)     0.6717  0.6719  0.6723  0.6720  0.0002  \n",
      "Fit time          22.37   22.60   23.07   22.68   0.29    \n",
      "Test time         125.11  127.34  126.04  126.17  0.91    \n"
     ]
    },
    {
     "data": {
      "text/plain": [
       "{'test_rmse': array([0.87564808, 0.87494866, 0.87585519]),\n",
       " 'test_mae': array([0.67173312, 0.67194726, 0.67228126]),\n",
       " 'fit_time': (22.36655902862549, 22.59949254989624, 23.066863536834717),\n",
       " 'test_time': (125.11420941352844, 127.34312105178833, 126.04454708099365)}"
      ]
     },
     "execution_count": 16,
     "metadata": {},
     "output_type": "execute_result"
    }
   ],
   "source": [
    "# KNNBasicWithMeans\n",
    "sim_options = {'user_based': True, 'min_support': 10}\n",
    "knnm = KNNWithMeans(sim_options=sim_options)\n",
    "\n",
    "#k折交叉验证（k=3）\n",
    "print('对于KNNBasicWithMeans：')\n",
    "cross_validate(knnm, data, measures=['RMSE', 'MAE'], cv=3, verbose=True)"
   ]
  },
  {
   "cell_type": "code",
   "execution_count": 17,
   "metadata": {},
   "outputs": [
    {
     "name": "stdout",
     "output_type": "stream",
     "text": [
      "对于KNNBasicWithZScore：\n",
      "Computing the msd similarity matrix...\n",
      "Done computing similarity matrix.\n",
      "Computing the msd similarity matrix...\n",
      "Done computing similarity matrix.\n",
      "Computing the msd similarity matrix...\n",
      "Done computing similarity matrix.\n",
      "Evaluating RMSE, MAE of algorithm KNNWithZScore on 3 split(s).\n",
      "\n",
      "                  Fold 1  Fold 2  Fold 3  Mean    Std     \n",
      "RMSE (testset)    0.8738  0.8760  0.8744  0.8747  0.0009  \n",
      "MAE (testset)     0.6658  0.6660  0.6657  0.6658  0.0001  \n",
      "Fit time          23.03   24.49   23.21   23.58   0.65    \n",
      "Test time         129.61  130.24  128.03  129.29  0.93    \n"
     ]
    },
    {
     "data": {
      "text/plain": [
       "{'test_rmse': array([0.87378473, 0.87602324, 0.87441383]),\n",
       " 'test_mae': array([0.66579187, 0.66599656, 0.66573557]),\n",
       " 'fit_time': (23.0324387550354, 24.49492621421814, 23.206647157669067),\n",
       " 'test_time': (129.61101770401, 130.2395157814026, 128.03060841560364)}"
      ]
     },
     "execution_count": 17,
     "metadata": {},
     "output_type": "execute_result"
    }
   ],
   "source": [
    "# KNNBasicWithZScore\n",
    "sim_options = {'user_based': True, 'min_support': 10}\n",
    "knnz = KNNWithZScore(sim_options=sim_options)\n",
    "\n",
    "#k折交叉验证（k=3）\n",
    "print('对于KNNBasicWithZScore：')\n",
    "cross_validate(knnz, data, measures=['RMSE', 'MAE'], cv=3, verbose=True)"
   ]
  },
  {
   "cell_type": "code",
   "execution_count": 19,
   "metadata": {},
   "outputs": [
    {
     "name": "stdout",
     "output_type": "stream",
     "text": [
      "对于KNNBaseline：\n",
      "Estimating biases using als...\n",
      "Computing the pearson_baseline similarity matrix...\n",
      "Done computing similarity matrix.\n",
      "Estimating biases using als...\n",
      "Computing the pearson_baseline similarity matrix...\n",
      "Done computing similarity matrix.\n",
      "Estimating biases using als...\n",
      "Computing the pearson_baseline similarity matrix...\n",
      "Done computing similarity matrix.\n",
      "Evaluating RMSE, MAE of algorithm KNNBaseline on 3 split(s).\n",
      "\n",
      "                  Fold 1  Fold 2  Fold 3  Mean    Std     \n",
      "RMSE (testset)    0.8428  0.8452  0.8424  0.8435  0.0012  \n",
      "MAE (testset)     0.6411  0.6434  0.6411  0.6419  0.0011  \n",
      "Fit time          52.48   51.75   51.82   52.02   0.33    \n",
      "Test time         132.40  130.54  133.48  132.14  1.22    \n"
     ]
    },
    {
     "data": {
      "text/plain": [
       "{'test_rmse': array([0.842807  , 0.84524622, 0.84244636]),\n",
       " 'test_mae': array([0.64110371, 0.64344186, 0.64108161]),\n",
       " 'fit_time': (52.48058819770813, 51.74988675117493, 51.82303738594055),\n",
       " 'test_time': (132.40468621253967, 130.53682374954224, 133.48450469970703)}"
      ]
     },
     "execution_count": 19,
     "metadata": {},
     "output_type": "execute_result"
    }
   ],
   "source": [
    "# KNNBaseline(推荐使用皮尔森相似度)\n",
    "sim_options = {'name': 'pearson_baseline', 'user_based': True, 'min_support': 10}\n",
    "bsl_options = {'nethod': 'sgd', 'learning_rate': 0.0001}\n",
    "\n",
    "knnbaseline = KNNBaseline(sim_options=sim_options, bsl_options=bsl_options)\n",
    "\n",
    "#k折交叉验证（k=3）\n",
    "print('对于KNNBaseline：')\n",
    "cross_validate(knnbaseline, data, measures=['RMSE', 'MAE'], cv=3, verbose=True)"
   ]
  },
  {
   "cell_type": "markdown",
   "metadata": {},
   "source": [
    "&emsp;&emsp;以上结果与算法原理相符合，KNNWithMeans和KNNWithZScore效果差不多，均好于KNNBasic，KNNBaseline耗时最长，效果也最好，说明用机器拟合的偏差的确要好于均值、方差等人工设定的偏差。"
   ]
  }
 ],
 "metadata": {
  "kernelspec": {
   "display_name": "Python 3",
   "language": "python",
   "name": "python3"
  },
  "language_info": {
   "codemirror_mode": {
    "name": "ipython",
    "version": 3
   },
   "file_extension": ".py",
   "mimetype": "text/x-python",
   "name": "python",
   "nbconvert_exporter": "python",
   "pygments_lexer": "ipython3",
   "version": "3.8.3"
  }
 },
 "nbformat": 4,
 "nbformat_minor": 4
}
