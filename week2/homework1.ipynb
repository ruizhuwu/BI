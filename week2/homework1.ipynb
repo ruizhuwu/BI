{
 "cells": [
  {
   "cell_type": "markdown",
   "metadata": {},
   "source": [
    "### Thinking1\n",
    "问：关联规则中的支持度、置信度和提升度代表的什么，如何计算"
   ]
  },
  {
   "cell_type": "markdown",
   "metadata": {},
   "source": [
    "答：支持度：指某个商品组合出现的次数占总次数的比例；  \n",
    "&emsp;&emsp;置信度（A->B)：指在购买商品组合A的情况下购买商品组合B的概率，可以用商品组合{A,B}的支持度除以商品组合A的支持度得到，是一个条件概率；  \n",
    "&emsp;&emsp;提升度（A->B)：置信度（A->B）与商品组合B的支持度的比值，用以表示在商品组合A的出现，对商品组合B的出现概率提升的程度，提升度大于1表示有提升，等于1表示没有提升也没有下降，小于1表示有下降。"
   ]
  },
  {
   "cell_type": "markdown",
   "metadata": {},
   "source": [
    "### Thinking2\n",
    "问：关联规则与协同过滤的区别"
   ]
  },
  {
   "cell_type": "markdown",
   "metadata": {},
   "source": [
    "答：协同过滤是通过分析基于用户或基于商品的相似度来进行个性化的商品推荐，适用于Amazon等没有实物展示的网络商城，可以基于用户历史行为进行分析，旨在能让每一位用户都能走进为自己量身打造的商店，从而提高销量；而关联规则是基于购物订单的频繁项集挖掘，对整体找规律，没有“用户偏好”，适用于WalMart等实体商店，用户通常是一次购买，旨在通过对群体行为的分析来寻找潜在的商机。"
   ]
  },
  {
   "cell_type": "markdown",
   "metadata": {},
   "source": [
    "### Thinking3\n",
    "问：为什么我们需要多种推荐算法"
   ]
  },
  {
   "cell_type": "markdown",
   "metadata": {},
   "source": [
    "答：由于不同的推荐算法有不同的原理，因而可能适用于不同的场景（例如Thinking2中提到的情况），而在实际生活中问题的场景往往复杂多变的，有综合性，所以我们需要多种推荐算法来应对。"
   ]
  },
  {
   "cell_type": "markdown",
   "metadata": {},
   "source": [
    "### Thinking4\n",
    "问：关联规则中的最小支持度、最小置信度该如何确定"
   ]
  },
  {
   "cell_type": "markdown",
   "metadata": {},
   "source": [
    "答：关于最小支持度、最小置信度的设定没有绝对的规则，通常需要根据需要不断地尝试实验，从而得到合适的取值。"
   ]
  },
  {
   "cell_type": "markdown",
   "metadata": {},
   "source": [
    "### Thinking5\n",
    "问：都有哪些常见的回归分析方法，评价指标是什么"
   ]
  },
  {
   "cell_type": "markdown",
   "metadata": {},
   "source": [
    "答：常见的回归分析问题有一元回归分析的多元回归分析（区别在于有一个还是多个自变量），简单回归分析和多重回归分析（区别在于有一个还是多个因变量），线性回归分析和非线性回归分析（区别在于因变量与自变量之间的关系是线性还是非线性）。  \n",
    "&emsp;&emsp;常用的评价指标有：R方（用于表示因变量与自变量之间的相关性，取值范围[0,1]，R方越接近于1，相关性越大，回归分析越有价值），MSE（均方误差，真实值与预测值之差的平方的求和平均），MAE（平均绝对误差）"
   ]
  },
  {
   "cell_type": "markdown",
   "metadata": {},
   "source": [
    "### Action1\n",
    "针对MarketBasket数据集进行购物篮分析（频繁项集及关联规则挖掘）\n",
    "https://www.kaggle.com/dragonheir/basket-optimisation"
   ]
  },
  {
   "cell_type": "code",
   "execution_count": 3,
   "metadata": {},
   "outputs": [
    {
     "data": {
      "text/plain": [
       "'C:\\\\Users\\\\80566\\\\BI\\\\week2'"
      ]
     },
     "execution_count": 3,
     "metadata": {},
     "output_type": "execute_result"
    }
   ],
   "source": [
    "import os\n",
    "os.getcwd()"
   ]
  },
  {
   "cell_type": "code",
   "execution_count": 36,
   "metadata": {},
   "outputs": [
    {
     "name": "stdout",
     "output_type": "stream",
     "text": [
      "(7501, 20)\n",
      "nan\n",
      "<class 'float'>\n"
     ]
    },
    {
     "data": {
      "text/html": [
       "<div>\n",
       "<style scoped>\n",
       "    .dataframe tbody tr th:only-of-type {\n",
       "        vertical-align: middle;\n",
       "    }\n",
       "\n",
       "    .dataframe tbody tr th {\n",
       "        vertical-align: top;\n",
       "    }\n",
       "\n",
       "    .dataframe thead th {\n",
       "        text-align: right;\n",
       "    }\n",
       "</style>\n",
       "<table border=\"1\" class=\"dataframe\">\n",
       "  <thead>\n",
       "    <tr style=\"text-align: right;\">\n",
       "      <th></th>\n",
       "      <th>0</th>\n",
       "      <th>1</th>\n",
       "      <th>2</th>\n",
       "      <th>3</th>\n",
       "      <th>4</th>\n",
       "      <th>5</th>\n",
       "      <th>6</th>\n",
       "      <th>7</th>\n",
       "      <th>8</th>\n",
       "      <th>9</th>\n",
       "      <th>10</th>\n",
       "      <th>11</th>\n",
       "      <th>12</th>\n",
       "      <th>13</th>\n",
       "      <th>14</th>\n",
       "      <th>15</th>\n",
       "      <th>16</th>\n",
       "      <th>17</th>\n",
       "      <th>18</th>\n",
       "      <th>19</th>\n",
       "    </tr>\n",
       "  </thead>\n",
       "  <tbody>\n",
       "    <tr>\n",
       "      <th>0</th>\n",
       "      <td>shrimp</td>\n",
       "      <td>almonds</td>\n",
       "      <td>avocado</td>\n",
       "      <td>vegetables mix</td>\n",
       "      <td>green grapes</td>\n",
       "      <td>whole weat flour</td>\n",
       "      <td>yams</td>\n",
       "      <td>cottage cheese</td>\n",
       "      <td>energy drink</td>\n",
       "      <td>tomato juice</td>\n",
       "      <td>low fat yogurt</td>\n",
       "      <td>green tea</td>\n",
       "      <td>honey</td>\n",
       "      <td>salad</td>\n",
       "      <td>mineral water</td>\n",
       "      <td>salmon</td>\n",
       "      <td>antioxydant juice</td>\n",
       "      <td>frozen smoothie</td>\n",
       "      <td>spinach</td>\n",
       "      <td>olive oil</td>\n",
       "    </tr>\n",
       "    <tr>\n",
       "      <th>1</th>\n",
       "      <td>burgers</td>\n",
       "      <td>meatballs</td>\n",
       "      <td>eggs</td>\n",
       "      <td>NaN</td>\n",
       "      <td>NaN</td>\n",
       "      <td>NaN</td>\n",
       "      <td>NaN</td>\n",
       "      <td>NaN</td>\n",
       "      <td>NaN</td>\n",
       "      <td>NaN</td>\n",
       "      <td>NaN</td>\n",
       "      <td>NaN</td>\n",
       "      <td>NaN</td>\n",
       "      <td>NaN</td>\n",
       "      <td>NaN</td>\n",
       "      <td>NaN</td>\n",
       "      <td>NaN</td>\n",
       "      <td>NaN</td>\n",
       "      <td>NaN</td>\n",
       "      <td>NaN</td>\n",
       "    </tr>\n",
       "    <tr>\n",
       "      <th>2</th>\n",
       "      <td>chutney</td>\n",
       "      <td>NaN</td>\n",
       "      <td>NaN</td>\n",
       "      <td>NaN</td>\n",
       "      <td>NaN</td>\n",
       "      <td>NaN</td>\n",
       "      <td>NaN</td>\n",
       "      <td>NaN</td>\n",
       "      <td>NaN</td>\n",
       "      <td>NaN</td>\n",
       "      <td>NaN</td>\n",
       "      <td>NaN</td>\n",
       "      <td>NaN</td>\n",
       "      <td>NaN</td>\n",
       "      <td>NaN</td>\n",
       "      <td>NaN</td>\n",
       "      <td>NaN</td>\n",
       "      <td>NaN</td>\n",
       "      <td>NaN</td>\n",
       "      <td>NaN</td>\n",
       "    </tr>\n",
       "    <tr>\n",
       "      <th>3</th>\n",
       "      <td>turkey</td>\n",
       "      <td>avocado</td>\n",
       "      <td>NaN</td>\n",
       "      <td>NaN</td>\n",
       "      <td>NaN</td>\n",
       "      <td>NaN</td>\n",
       "      <td>NaN</td>\n",
       "      <td>NaN</td>\n",
       "      <td>NaN</td>\n",
       "      <td>NaN</td>\n",
       "      <td>NaN</td>\n",
       "      <td>NaN</td>\n",
       "      <td>NaN</td>\n",
       "      <td>NaN</td>\n",
       "      <td>NaN</td>\n",
       "      <td>NaN</td>\n",
       "      <td>NaN</td>\n",
       "      <td>NaN</td>\n",
       "      <td>NaN</td>\n",
       "      <td>NaN</td>\n",
       "    </tr>\n",
       "    <tr>\n",
       "      <th>4</th>\n",
       "      <td>mineral water</td>\n",
       "      <td>milk</td>\n",
       "      <td>energy bar</td>\n",
       "      <td>whole wheat rice</td>\n",
       "      <td>green tea</td>\n",
       "      <td>NaN</td>\n",
       "      <td>NaN</td>\n",
       "      <td>NaN</td>\n",
       "      <td>NaN</td>\n",
       "      <td>NaN</td>\n",
       "      <td>NaN</td>\n",
       "      <td>NaN</td>\n",
       "      <td>NaN</td>\n",
       "      <td>NaN</td>\n",
       "      <td>NaN</td>\n",
       "      <td>NaN</td>\n",
       "      <td>NaN</td>\n",
       "      <td>NaN</td>\n",
       "      <td>NaN</td>\n",
       "      <td>NaN</td>\n",
       "    </tr>\n",
       "  </tbody>\n",
       "</table>\n",
       "</div>"
      ],
      "text/plain": [
       "              0          1           2                 3             4   \\\n",
       "0         shrimp    almonds     avocado    vegetables mix  green grapes   \n",
       "1        burgers  meatballs        eggs               NaN           NaN   \n",
       "2        chutney        NaN         NaN               NaN           NaN   \n",
       "3         turkey    avocado         NaN               NaN           NaN   \n",
       "4  mineral water       milk  energy bar  whole wheat rice     green tea   \n",
       "\n",
       "                 5     6               7             8             9   \\\n",
       "0  whole weat flour  yams  cottage cheese  energy drink  tomato juice   \n",
       "1               NaN   NaN             NaN           NaN           NaN   \n",
       "2               NaN   NaN             NaN           NaN           NaN   \n",
       "3               NaN   NaN             NaN           NaN           NaN   \n",
       "4               NaN   NaN             NaN           NaN           NaN   \n",
       "\n",
       "               10         11     12     13             14      15  \\\n",
       "0  low fat yogurt  green tea  honey  salad  mineral water  salmon   \n",
       "1             NaN        NaN    NaN    NaN            NaN     NaN   \n",
       "2             NaN        NaN    NaN    NaN            NaN     NaN   \n",
       "3             NaN        NaN    NaN    NaN            NaN     NaN   \n",
       "4             NaN        NaN    NaN    NaN            NaN     NaN   \n",
       "\n",
       "                  16               17       18         19  \n",
       "0  antioxydant juice  frozen smoothie  spinach  olive oil  \n",
       "1                NaN              NaN      NaN        NaN  \n",
       "2                NaN              NaN      NaN        NaN  \n",
       "3                NaN              NaN      NaN        NaN  \n",
       "4                NaN              NaN      NaN        NaN  "
      ]
     },
     "execution_count": 36,
     "metadata": {},
     "output_type": "execute_result"
    }
   ],
   "source": [
    "import pandas as pd\n",
    "import time\n",
    "data = pd.read_csv('./datasets_8127_11403_Market_Basket_Optimisation.csv', header=None)\n",
    "\n",
    "# 数据探索\n",
    "print(data.shape)\n",
    "print(data.values[2,2])\n",
    "print(type(data.values[2,2]))\n",
    "data.head()"
   ]
  },
  {
   "cell_type": "code",
   "execution_count": 95,
   "metadata": {},
   "outputs": [
    {
     "name": "stdout",
     "output_type": "stream",
     "text": [
      "频繁项集为 {1: {('salmon',): 319, ('mineral water',): 1788, ('frozen smoothie',): 475, ('olive oil',): 494, ('vegetables mix',): 193, ('cottage cheese',): 239, ('avocado',): 250, ('green tea',): 991, ('energy drink',): 200, ('shrimp',): 536, ('honey',): 356, ('almonds',): 153, ('tomato juice',): 228, ('low fat yogurt',): 574, ('eggs',): 1348, ('meatballs',): 157, ('burgers',): 654, ('turkey',): 469, ('milk',): 972, ('energy bar',): 203, ('whole wheat rice',): 439, ('french fries',): 1282, ('whole wheat pasta',): 221, ('soup',): 379, ('frozen vegetables',): 715, ('spaghetti',): 1306, ('cookies',): 603, ('cooking oil',): 383, ('champagne',): 351, ('chicken',): 450, ('chocolate',): 1229, ('oil',): 173, ('tomatoes',): 513, ('fresh tuna',): 167, ('pepper',): 199, ('red wine',): 211, ('pancakes',): 713, ('ham',): 199, ('grated cheese',): 393, ('fresh bread',): 323, ('escalope',): 595, ('ground beef',): 737, ('herb & pepper',): 371, ('strawberries',): 160, ('cake',): 608, ('hot dogs',): 243, ('brownies',): 253, ('cereals',): 193, ('muffins',): 181, ('light mayo',): 204, ('yogurt cake',): 205, ('butter',): 226, ('french wine',): 169}, 2: {('frozen smoothie', 'mineral water'): 152, ('green tea', 'mineral water'): 233, ('low fat yogurt', 'mineral water'): 180, ('mineral water', 'olive oil'): 207, ('mineral water', 'shrimp'): 177, ('burgers', 'eggs'): 216, ('milk', 'mineral water'): 360, ('mineral water', 'whole wheat rice'): 151, ('frozen vegetables', 'spaghetti'): 209, ('green tea', 'spaghetti'): 199, ('burgers', 'mineral water'): 183, ('cooking oil', 'mineral water'): 151, ('eggs', 'mineral water'): 382, ('chicken', 'mineral water'): 171, ('eggs', 'spaghetti'): 274, ('mineral water', 'spaghetti'): 448, ('mineral water', 'tomatoes'): 183, ('spaghetti', 'tomatoes'): 157, ('french fries', 'milk'): 178, ('chocolate', 'eggs'): 249, ('mineral water', 'pancakes'): 253, ('pancakes', 'spaghetti'): 189, ('milk', 'spaghetti'): 266, ('ground beef', 'milk'): 165, ('ground beef', 'mineral water'): 307, ('ground beef', 'spaghetti'): 294, ('chocolate', 'french fries'): 258, ('chocolate', 'mineral water'): 395, ('eggs', 'french fries'): 273, ('french fries', 'mineral water'): 253, ('frozen vegetables', 'mineral water'): 268, ('chocolate', 'frozen vegetables'): 172, ('cake', 'mineral water'): 206, ('french fries', 'green tea'): 214, ('french fries', 'pancakes'): 151, ('chocolate', 'green tea'): 176, ('chocolate', 'spaghetti'): 294, ('chocolate', 'ground beef'): 173, ('chocolate', 'milk'): 241, ('frozen vegetables', 'milk'): 177, ('mineral water', 'soup'): 173, ('olive oil', 'spaghetti'): 172, ('burgers', 'french fries'): 165, ('burgers', 'spaghetti'): 161, ('french fries', 'spaghetti'): 207, ('shrimp', 'spaghetti'): 159, ('eggs', 'green tea'): 191, ('eggs', 'milk'): 231, ('eggs', 'pancakes'): 163, ('eggs', 'frozen vegetables'): 163}}\n",
      "关联规则为 [{frozen smoothie} -> {mineral water}, {low fat yogurt} -> {mineral water}, {olive oil} -> {mineral water}, {shrimp} -> {mineral water}, {burgers} -> {eggs}, {milk} -> {mineral water}, {whole wheat rice} -> {mineral water}, {cooking oil} -> {mineral water}, {chicken} -> {mineral water}, {spaghetti} -> {mineral water}, {tomatoes} -> {mineral water}, {tomatoes} -> {spaghetti}, {pancakes} -> {mineral water}, {ground beef} -> {mineral water}, {ground beef} -> {spaghetti}, {chocolate} -> {mineral water}, {frozen vegetables} -> {mineral water}, {cake} -> {mineral water}, {soup} -> {mineral water}, {olive oil} -> {spaghetti}]\n",
      "关联规则第1条为： {frozen smoothie} -> {mineral water} (conf: 0.320, supp: 0.020, lift: 1.342, conv: 1.120)\n",
      "用时为： 1.824345588684082\n"
     ]
    }
   ],
   "source": [
    "# 采用efficient_apriori工具包\n",
    "def rule1():\n",
    "    from efficient_apriori import apriori\n",
    "    start = time.time()\n",
    "    transactions = []\n",
    "    for i in range(data.shape[0]):\n",
    "        temp = set()\n",
    "        for j in range(data.shape[1]):\n",
    "            if str(data.values[i,j]) != 'nan':\n",
    "                temp.add(str(data.values[i,j]).lower())\n",
    "        transactions.append(temp)\n",
    "    \n",
    "    #挖掘频繁项集和关联规则\n",
    "    fre_sets, rules = apriori(transactions, min_support = 0.02, min_confidence=0.3)\n",
    "    print('频繁项集为', fre_sets)\n",
    "    print('关联规则为', rules)\n",
    "    print('关联规则第1条为：', rules[0])\n",
    "    end = time.time()\n",
    "    print('用时为：', end-start)\n",
    "\n",
    "rule1()"
   ]
  },
  {
   "cell_type": "code",
   "execution_count": 97,
   "metadata": {},
   "outputs": [
    {
     "name": "stdout",
     "output_type": "stream",
     "text": [
      "频繁项集为       support                           itemsets\n",
      "0    0.020397                          (almonds)\n",
      "1    0.033329                          (avocado)\n",
      "2    0.033729                         (brownies)\n",
      "3    0.087188                          (burgers)\n",
      "4    0.030129                           (butter)\n",
      "..        ...                                ...\n",
      "98   0.020131  (whole wheat rice, mineral water)\n",
      "99   0.022930             (olive oil, spaghetti)\n",
      "100  0.025197              (pancakes, spaghetti)\n",
      "101  0.021197                (spaghetti, shrimp)\n",
      "102  0.020931              (spaghetti, tomatoes)\n",
      "\n",
      "[103 rows x 2 columns]\n",
      "关联规则为             antecedents      consequents  antecedent support  \\\n",
      "1             (burgers)           (eggs)            0.087188   \n",
      "8                (cake)  (mineral water)            0.081056   \n",
      "10            (chicken)  (mineral water)            0.059992   \n",
      "24          (chocolate)  (mineral water)            0.163845   \n",
      "28        (cooking oil)  (mineral water)            0.051060   \n",
      "55    (frozen smoothie)  (mineral water)            0.063325   \n",
      "58  (frozen vegetables)  (mineral water)            0.095321   \n",
      "68        (ground beef)  (mineral water)            0.098254   \n",
      "71        (ground beef)      (spaghetti)            0.098254   \n",
      "72     (low fat yogurt)  (mineral water)            0.076523   \n",
      "74               (milk)  (mineral water)            0.129583   \n",
      "78          (olive oil)  (mineral water)            0.065858   \n",
      "80           (pancakes)  (mineral water)            0.095054   \n",
      "82             (shrimp)  (mineral water)            0.071457   \n",
      "84               (soup)  (mineral water)            0.050527   \n",
      "86          (spaghetti)  (mineral water)            0.174110   \n",
      "88           (tomatoes)  (mineral water)            0.068391   \n",
      "90   (whole wheat rice)  (mineral water)            0.058526   \n",
      "92          (olive oil)      (spaghetti)            0.065858   \n",
      "99           (tomatoes)      (spaghetti)            0.068391   \n",
      "\n",
      "    consequent support   support  confidence      lift  leverage  conviction  \n",
      "1             0.179709  0.028796    0.330275  1.837830  0.013128    1.224818  \n",
      "8             0.238368  0.027463    0.338816  1.421397  0.008142    1.151921  \n",
      "10            0.238368  0.022797    0.380000  1.594172  0.008497    1.228438  \n",
      "24            0.238368  0.052660    0.321400  1.348332  0.013604    1.122357  \n",
      "28            0.238368  0.020131    0.394256  1.653978  0.007960    1.257349  \n",
      "55            0.238368  0.020264    0.320000  1.342461  0.005169    1.120047  \n",
      "58            0.238368  0.035729    0.374825  1.572463  0.013007    1.218270  \n",
      "68            0.238368  0.040928    0.416554  1.747522  0.017507    1.305401  \n",
      "71            0.174110  0.039195    0.398915  2.291162  0.022088    1.373997  \n",
      "72            0.238368  0.023997    0.313589  1.315565  0.005756    1.109585  \n",
      "74            0.238368  0.047994    0.370370  1.553774  0.017105    1.209650  \n",
      "78            0.238368  0.027596    0.419028  1.757904  0.011898    1.310962  \n",
      "80            0.238368  0.033729    0.354839  1.488616  0.011071    1.180529  \n",
      "82            0.238368  0.023597    0.330224  1.385352  0.006564    1.137144  \n",
      "84            0.238368  0.023064    0.456464  1.914955  0.011020    1.401255  \n",
      "86            0.238368  0.059725    0.343032  1.439085  0.018223    1.159314  \n",
      "88            0.238368  0.024397    0.356725  1.496530  0.008095    1.183991  \n",
      "90            0.238368  0.020131    0.343964  1.442993  0.006180    1.160960  \n",
      "92            0.174110  0.022930    0.348178  1.999758  0.011464    1.267048  \n",
      "99            0.174110  0.020931    0.306043  1.757755  0.009023    1.190117  \n",
      "用时为： 1.3150379657745361\n"
     ]
    }
   ],
   "source": [
    "def encode_units(x):\n",
    "    if x <= 0:\n",
    "        return 0\n",
    "    if x>= 1:\n",
    "        return 1\n",
    "    \n",
    "# 采用mlxtend.frequent.patterns工具包    \n",
    "def rule2():\n",
    "    from mlxtend.frequent_patterns import apriori\n",
    "    from mlxtend.frequent_patterns import association_rules\n",
    "    start = time.time()\n",
    "    temp = []\n",
    "    for i in range(data.shape[0]):\n",
    "        for j in range(data.shape[1]):\n",
    "            temp.append([i+1, data.values[i,j]])\n",
    "    df = pd.DataFrame(temp, columns=['transaction', 'item'])\n",
    "    OHE_df = df.groupby(['transaction', 'item'])['item'].count().unstack().fillna(0)\n",
    "    OHE_df = OHE_df.applymap(encode_units)\n",
    "    fre_sets = apriori(OHE_df, min_support = 0.02, use_colnames=True)\n",
    "    rules = association_rules(fre_sets, metric='lift', min_threshold=0.5)\n",
    "    print('频繁项集为', fre_sets)\n",
    "    print('关联规则为', rules[(rules['lift']>1) & (rules['confidence']>0.3)])\n",
    "    end = time.time()\n",
    "    print('用时为：', end-start)\n",
    "\n",
    "rule2()"
   ]
  }
 ],
 "metadata": {
  "kernelspec": {
   "display_name": "Python 3",
   "language": "python",
   "name": "python3"
  },
  "language_info": {
   "codemirror_mode": {
    "name": "ipython",
    "version": 3
   },
   "file_extension": ".py",
   "mimetype": "text/x-python",
   "name": "python",
   "nbconvert_exporter": "python",
   "pygments_lexer": "ipython3",
   "version": "3.8.3"
  }
 },
 "nbformat": 4,
 "nbformat_minor": 4
}
