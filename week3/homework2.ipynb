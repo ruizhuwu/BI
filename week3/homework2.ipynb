{
 "cells": [
  {
   "cell_type": "markdown",
   "metadata": {},
   "source": [
    "### Thinking1\n",
    "如何使用用户标签来指导业务（如何提升业务）"
   ]
  },
  {
   "cell_type": "markdown",
   "metadata": {},
   "source": [
    "答：对于用户生命周期的三个阶段：  \n",
    "&emsp;&emsp;在获客阶段：使用用户标签可以让我们采取更精确、更有针对性的营销手段进行拉新；  \n",
    "&emsp;&emsp;在粘客阶段：使用用户标签可以对用户进行个性化的推荐，进行场景营销，使用户获得更好的使用体验，从而增加用户的使用时长、频次；  \n",
    "&emsp;&emsp;在留客阶段：使用用户标签可以进行流失率的预测，使得我们可以更好地分析容易流失的用户群体的特征，找出相应的对策，降低流失率。"
   ]
  },
  {
   "cell_type": "markdown",
   "metadata": {},
   "source": [
    "### Thinking2\n",
    "如果给你一堆用户数据，没有打标签。你该如何处理（如何打标签）"
   ]
  },
  {
   "cell_type": "markdown",
   "metadata": {},
   "source": [
    "答：可以从用户、消费、行为、内容这四个维度来对用户打标签，其中：  \n",
    "&emsp;&emsp;用户标签可以有：性别、年龄、地域、职业、学历、收入等；  \n",
    "&emsp;&emsp;消费标签可以有：消费习惯（比如消费时间是否有规律，单笔消费金额的多少，是否喜欢货比三家等）、购买意向、是否对促销敏感等；  \n",
    "&emsp;&emsp;行为标签可以有：显性行为（点赞、收藏、打赏、分享、关注、评分等）、隐形行为（点击、浏览的时长、频次）；  \n",
    "&emsp;&emsp;内容标签即通过对用户平时浏览的内容进行分析得到的标签，如美食、娱乐、体育等。"
   ]
  },
  {
   "cell_type": "markdown",
   "metadata": {},
   "source": [
    "### Thinking3\n",
    "准确率和精确率有何不同（评估指标）"
   ]
  },
  {
   "cell_type": "markdown",
   "metadata": {},
   "source": [
    "答：准确率是指预测正确的次数占总预测次数的比例，精确率是指在所有预测为正（positive）的预测中，预测正确的结果所占的比例。在一些样本分布不均的情况下，可能出现因为大部分样本为负（negative），TN（true negative)可能很大，从而使得准确率很高的情况，此时如果目标是提高预测为正的的准确率，就需要加上精确率指标来进行评估。"
   ]
  },
  {
   "cell_type": "markdown",
   "metadata": {},
   "source": [
    "### Thinking4\n",
    "如果你使用大众点评，想要给某个餐厅打标签。这时系统可以自动提示一些标签，你会如何设计（标签推荐）\n"
   ]
  },
  {
   "cell_type": "markdown",
   "metadata": {},
   "source": [
    "答：可以综合该餐厅所属类的热门标签（比如川菜馆常出现的“麻辣”），该餐厅所被打过标签中常出现的标签（如“毛血旺特色”），以及该用户常使用的标签（比如“价格合理”）来向用户推荐一些标签。"
   ]
  },
  {
   "cell_type": "markdown",
   "metadata": {},
   "source": [
    "### Thinking5\n",
    "我们今天使用了10种方式来解MNIST，这些方法有何不同？你还有其他方法来解决MNIST识别问题么（分类方法）"
   ]
  },
  {
   "cell_type": "markdown",
   "metadata": {},
   "source": [
    "#### (1) 逻辑回归  \n",
    "&emsp;&emsp;设定一在(0,1)区间内的阈值，将sigmoid函数作用在线性函数 $\\theta^Tx$ 上(其中$\\theta$为模型训练得到的参数），如果得到的结果大于阈值，则预测为1，反正则预测为0。\n",
    "#### (2) 决策树 \n",
    "&emsp;&emsp;每个节点根据gini值或信息熵选择最优的分类特征进行分类，形成树结构，即一个节点表示一个属性上的判断，一个分支代表一个判定结果的输出，一个叶子节点表示一个分类结果。 \n",
    "#### (3) LDA\n",
    "&emsp;&emsp;将数据在低维空间进行投影，使得同一类别数据投影点尽可能靠近，不同类别数据投影点间距离尽可能的大。\n",
    "#### (4) 朴素贝叶斯\n",
    "&emsp;&emsp;根据独立性假设和贝叶斯公式，计算样本属于不同类别的概率，以概率大者为最终的输出结果。 \n",
    "#### (5) SVM\n",
    "&emsp;&emsp;寻找超平面将样本分成两类，且使得两类样本间隔最大。\n",
    "#### (6) KNN\n",
    "&emsp;&emsp;计算每个样本点与其他样本点的距离，找到离它最近的k个样本点，以其中的多数类别作为该样本的类别。\n",
    "#### (7) Adaboost\n",
    "&emsp;&emsp;Adaboost:在boosting的过程中，增大被前一个基本分类器分错的样本的权重，再利用调整权重后的样本集训练下一个分类器，训练结束后，增大分类出错率小的弱分类器在分类函数中的权重。\n",
    "#### (8) XGboost\n",
    "&emsp;&emsp;以回归树作为基本分类器，每棵树都用一个新的函数去拟合上一颗树预测的残差，训练完成后，对于一个样本，根据其特征，在每一颗树上都会对应落到一个叶子节点上，将这些叶子节点的值相加，得到最终的预测值。\n",
    "#### (9) TPOP\n",
    "&emsp;&emsp;自动机器学习工具，可以自动实现特征选择、特征预处理、特征构建，并进行模型选择和参数调优。\n",
    "#### (10) keras\n",
    "&emsp;&emsp;由Python编写的开源神经网络库。  \n",
    "\n",
    "&emsp;&emsp;除此之外，还可以使用随机森林、ANN（人工神经网络）等算法。"
   ]
  },
  {
   "cell_type": "markdown",
   "metadata": {},
   "source": [
    "### Action1\n",
    "针对Delicious数据集，对SimpleTagBased算法进行改进（使用NormTagBased、TagBased-TFIDF算法）"
   ]
  },
  {
   "cell_type": "code",
   "execution_count": 1,
   "metadata": {},
   "outputs": [
    {
     "data": {
      "text/html": [
       "<div>\n",
       "<style scoped>\n",
       "    .dataframe tbody tr th:only-of-type {\n",
       "        vertical-align: middle;\n",
       "    }\n",
       "\n",
       "    .dataframe tbody tr th {\n",
       "        vertical-align: top;\n",
       "    }\n",
       "\n",
       "    .dataframe thead th {\n",
       "        text-align: right;\n",
       "    }\n",
       "</style>\n",
       "<table border=\"1\" class=\"dataframe\">\n",
       "  <thead>\n",
       "    <tr style=\"text-align: right;\">\n",
       "      <th></th>\n",
       "      <th>userID</th>\n",
       "      <th>bookmarkID</th>\n",
       "      <th>tagID</th>\n",
       "      <th>timestamp</th>\n",
       "    </tr>\n",
       "  </thead>\n",
       "  <tbody>\n",
       "    <tr>\n",
       "      <th>0</th>\n",
       "      <td>8</td>\n",
       "      <td>1</td>\n",
       "      <td>1</td>\n",
       "      <td>1289255362000</td>\n",
       "    </tr>\n",
       "    <tr>\n",
       "      <th>1</th>\n",
       "      <td>8</td>\n",
       "      <td>2</td>\n",
       "      <td>1</td>\n",
       "      <td>1289255159000</td>\n",
       "    </tr>\n",
       "    <tr>\n",
       "      <th>2</th>\n",
       "      <td>8</td>\n",
       "      <td>7</td>\n",
       "      <td>1</td>\n",
       "      <td>1289238901000</td>\n",
       "    </tr>\n",
       "    <tr>\n",
       "      <th>3</th>\n",
       "      <td>8</td>\n",
       "      <td>7</td>\n",
       "      <td>6</td>\n",
       "      <td>1289238901000</td>\n",
       "    </tr>\n",
       "    <tr>\n",
       "      <th>4</th>\n",
       "      <td>8</td>\n",
       "      <td>7</td>\n",
       "      <td>7</td>\n",
       "      <td>1289238901000</td>\n",
       "    </tr>\n",
       "  </tbody>\n",
       "</table>\n",
       "</div>"
      ],
      "text/plain": [
       "   userID  bookmarkID  tagID      timestamp\n",
       "0       8           1      1  1289255362000\n",
       "1       8           2      1  1289255159000\n",
       "2       8           7      1  1289238901000\n",
       "3       8           7      6  1289238901000\n",
       "4       8           7      7  1289238901000"
      ]
     },
     "execution_count": 1,
     "metadata": {},
     "output_type": "execute_result"
    }
   ],
   "source": [
    "# 使用SimpleTagBased算法对Delicious2K数据进行推荐\n",
    "# 原始数据集：https://grouplens.org/datasets/hetrec-2011/\n",
    "# 数据格式：userID     bookmarkID     tagID     timestamp\n",
    "import random\n",
    "import math\n",
    "import operator\n",
    "import pandas as pd\n",
    "\n",
    "file_path = \"./user_taggedbookmarks-timestamps.dat\"\n",
    "\n",
    "# 数据探索\n",
    "df = pd.read_csv(file_path, sep='\\t')\n",
    "df.head()"
   ]
  },
  {
   "cell_type": "code",
   "execution_count": 7,
   "metadata": {},
   "outputs": [],
   "source": [
    "# 字典类型，保存了user对item的tag，即{userid: {item1:[tag1, tag2], ...}}\n",
    "records = {}\n",
    "# 训练集，测试集\n",
    "train_data = dict()\n",
    "test_data = dict()\n",
    "# 用户标签，商品标签\n",
    "user_tags = dict()\n",
    "user_items = dict()\n",
    "tag_users = dict()\n",
    "tag_items = dict()\n",
    "# 数据加载\n",
    "\n",
    "def load_data():\n",
    "    print(\"开始数据加载...\")\n",
    "    df = pd.read_csv(file_path, sep='\\t')\n",
    "    for i in range(len(df)):\n",
    "        uid = df['userID'][i]\n",
    "        iid = df['bookmarkID'][i]\n",
    "        tag = df['tagID'][i]\n",
    "        # 键不存在时，设置默认值{}\n",
    "        records.setdefault(uid,{})\n",
    "        records[uid].setdefault(iid,[])\n",
    "        records[uid][iid].append(tag)\n",
    "    print(\"数据集大小为 %d.\" % (len(df)))\n",
    "    print(\"设置tag的人数 %d.\" % (len(records)))\n",
    "    print(\"数据加载完成\\n\")"
   ]
  },
  {
   "cell_type": "code",
   "execution_count": 8,
   "metadata": {},
   "outputs": [
    {
     "name": "stdout",
     "output_type": "stream",
     "text": [
      "开始数据加载...\n",
      "数据集大小为 437593.\n",
      "设置tag的人数 1867.\n",
      "数据加载完成\n",
      "\n"
     ]
    }
   ],
   "source": [
    "load_data()"
   ]
  },
  {
   "cell_type": "code",
   "execution_count": 9,
   "metadata": {},
   "outputs": [
    {
     "data": {
      "text/plain": [
       "(8,\n",
       " {1: [1],\n",
       "  2: [1],\n",
       "  7: [1, 6, 7],\n",
       "  8: [1, 8, 9],\n",
       "  9: [1, 10],\n",
       "  10: [1, 11],\n",
       "  11: [1, 12, 13],\n",
       "  14: [1, 15, 16, 17, 18],\n",
       "  15: [1, 19],\n",
       "  16: [1, 5],\n",
       "  17: [1, 20],\n",
       "  18: [1, 21],\n",
       "  19: [1, 22],\n",
       "  20: [1, 23],\n",
       "  22: [1, 10, 25],\n",
       "  24: [1, 27],\n",
       "  25: [1, 28],\n",
       "  26: [1, 29],\n",
       "  27: [1, 30],\n",
       "  30: [1, 33],\n",
       "  32: [1, 35],\n",
       "  33: [1, 36],\n",
       "  34: [1, 37],\n",
       "  35: [1, 38],\n",
       "  36: [1, 39],\n",
       "  37: [1, 40],\n",
       "  38: [1, 41],\n",
       "  41: [43],\n",
       "  42: [43],\n",
       "  43: [44],\n",
       "  44: [45],\n",
       "  45: [46],\n",
       "  46: [47],\n",
       "  48: [49, 50, 51, 52],\n",
       "  52: [57],\n",
       "  53: [51, 58, 59, 60, 61],\n",
       "  58: [2, 66],\n",
       "  59: [56],\n",
       "  60: [2, 67],\n",
       "  61: [1, 68],\n",
       "  62: [69],\n",
       "  63: [70],\n",
       "  64: [71],\n",
       "  65: [71],\n",
       "  68: [45, 76, 77],\n",
       "  71: [44],\n",
       "  72: [45, 79],\n",
       "  73: [24, 56, 80],\n",
       "  74: [24, 81, 82, 83],\n",
       "  75: [45, 76, 84],\n",
       "  76: [45, 76],\n",
       "  78: [45, 76, 86, 87],\n",
       "  79: [45, 88, 89, 90, 91, 92, 93],\n",
       "  80: [45, 88, 94, 95],\n",
       "  81: [96, 97],\n",
       "  82: [68, 98, 99, 100],\n",
       "  83: [2, 101, 102],\n",
       "  84: [2, 103],\n",
       "  85: [104, 105],\n",
       "  87: [2, 25, 82, 108],\n",
       "  88: [2, 25, 66, 82, 106],\n",
       "  89: [82, 109],\n",
       "  90: [24],\n",
       "  91: [24],\n",
       "  92: [24],\n",
       "  93: [24, 25, 66],\n",
       "  94: [2],\n",
       "  96: [111],\n",
       "  98: [112],\n",
       "  99: [113]})"
      ]
     },
     "execution_count": 9,
     "metadata": {},
     "output_type": "execute_result"
    }
   ],
   "source": [
    "list(records.items())[0]"
   ]
  },
  {
   "cell_type": "code",
   "execution_count": 13,
   "metadata": {},
   "outputs": [],
   "source": [
    "# 将数据集拆分为训练集和测试集\n",
    "def train_test_split(ratio, seed=100):\n",
    "    random.seed(seed)\n",
    "    for u in records.keys():\n",
    "        for i in records[u].keys():\n",
    "            # ratio比例设置为测试集\n",
    "            if random.random()<ratio:\n",
    "                test_data.setdefault(u,{})\n",
    "                test_data[u].setdefault(i,[])\n",
    "                for t in records[u][i]:\n",
    "                    test_data[u][i].append(t)\n",
    "            else:\n",
    "                train_data.setdefault(u,{})\n",
    "                train_data[u].setdefault(i,[])\n",
    "                for t in records[u][i]:\n",
    "                    train_data[u][i].append(t)        \n",
    "    print(\"训练集样本数 %d, 测试集样本数 %d\" % (len(train_data),len(test_data)))"
   ]
  },
  {
   "cell_type": "code",
   "execution_count": 56,
   "metadata": {},
   "outputs": [
    {
     "name": "stdout",
     "output_type": "stream",
     "text": [
      "训练集样本数 1867, 测试集样本数 1793\n"
     ]
    }
   ],
   "source": [
    "# train_data = dict()\n",
    "# test_data = dict()\n",
    "train_test_split(0.2)"
   ]
  },
  {
   "cell_type": "code",
   "execution_count": 57,
   "metadata": {},
   "outputs": [],
   "source": [
    "# 计数函数\n",
    "def addValueToMat(mat, index, item, value=1):\n",
    "    if index not in mat:\n",
    "        mat.setdefault(index,{})\n",
    "        mat[index].setdefault(item,value)\n",
    "    else:\n",
    "        if item not in mat[index]:\n",
    "            mat[index][item] = value\n",
    "        else:\n",
    "            mat[index][item] += value\n",
    "\n",
    "\n",
    "# 使用训练集，初始化user_tags, tag_items, user_items\n",
    "def initStat():\n",
    "    records=train_data\n",
    "    for u,items in records.items():\n",
    "        for i,tags in items.items():\n",
    "            for tag in tags:\n",
    "                # 用户和tag的关系\n",
    "                addValueToMat(user_tags, u, tag, 1)\n",
    "                # 用户和item的关系\n",
    "                addValueToMat(user_items, u, i, 1)\n",
    "                # tag和item的关系\n",
    "                addValueToMat(tag_items, tag, i, 1)\n",
    "                # tag和用户的关系\n",
    "                addValueToMat(tag_users, tag, u, 1)\n",
    "    print(\"user_tags, user_items, tag_items, tag_users初始化完成.\")\n",
    "    print(\"user_tags大小 %d,  user_items大小 %d, tag_items大小 %d, tag_users大小 %d\" % \\\n",
    "          (len(user_tags), len(user_items), len(tag_items), len(tag_users)))"
   ]
  },
  {
   "cell_type": "code",
   "execution_count": 58,
   "metadata": {},
   "outputs": [
    {
     "name": "stdout",
     "output_type": "stream",
     "text": [
      "user_tags, user_items, tag_items, tag_users初始化完成.\n",
      "user_tags大小 1867,  user_items大小 1867, tag_items大小 40726, tag_users大小 40726\n"
     ]
    }
   ],
   "source": [
    "initStat()"
   ]
  },
  {
   "cell_type": "code",
   "execution_count": 59,
   "metadata": {},
   "outputs": [
    {
     "data": {
      "text/plain": [
       "{1: 79,\n",
       " 6: 3,\n",
       " 7: 3,\n",
       " 8: 3,\n",
       " 9: 3,\n",
       " 10: 6,\n",
       " 11: 3,\n",
       " 12: 3,\n",
       " 13: 3,\n",
       " 15: 3,\n",
       " 16: 3,\n",
       " 17: 3,\n",
       " 18: 3,\n",
       " 19: 2,\n",
       " 5: 3,\n",
       " 20: 2,\n",
       " 21: 3,\n",
       " 22: 3,\n",
       " 23: 3,\n",
       " 25: 12,\n",
       " 27: 3,\n",
       " 28: 3,\n",
       " 29: 2,\n",
       " 30: 2,\n",
       " 33: 3,\n",
       " 35: 3,\n",
       " 36: 3,\n",
       " 37: 3,\n",
       " 38: 3,\n",
       " 39: 3,\n",
       " 40: 3,\n",
       " 41: 3,\n",
       " 43: 5,\n",
       " 44: 5,\n",
       " 46: 3,\n",
       " 47: 3,\n",
       " 49: 3,\n",
       " 50: 3,\n",
       " 51: 6,\n",
       " 52: 3,\n",
       " 57: 2,\n",
       " 58: 3,\n",
       " 59: 3,\n",
       " 60: 3,\n",
       " 61: 3,\n",
       " 2: 21,\n",
       " 66: 9,\n",
       " 56: 6,\n",
       " 67: 3,\n",
       " 68: 6,\n",
       " 69: 3,\n",
       " 70: 2,\n",
       " 71: 6,\n",
       " 45: 21,\n",
       " 76: 12,\n",
       " 77: 3,\n",
       " 79: 3,\n",
       " 24: 18,\n",
       " 80: 3,\n",
       " 81: 3,\n",
       " 82: 12,\n",
       " 83: 3,\n",
       " 84: 3,\n",
       " 86: 3,\n",
       " 87: 3,\n",
       " 88: 6,\n",
       " 89: 3,\n",
       " 90: 3,\n",
       " 91: 3,\n",
       " 92: 3,\n",
       " 93: 3,\n",
       " 94: 3,\n",
       " 95: 3,\n",
       " 96: 3,\n",
       " 97: 3,\n",
       " 98: 3,\n",
       " 99: 3,\n",
       " 100: 3,\n",
       " 101: 3,\n",
       " 102: 3,\n",
       " 103: 3,\n",
       " 104: 3,\n",
       " 105: 3,\n",
       " 108: 3,\n",
       " 106: 3,\n",
       " 109: 3,\n",
       " 111: 2,\n",
       " 112: 3,\n",
       " 113: 3}"
      ]
     },
     "execution_count": 59,
     "metadata": {},
     "output_type": "execute_result"
    }
   ],
   "source": [
    "user_tags[8]"
   ]
  },
  {
   "cell_type": "code",
   "execution_count": 60,
   "metadata": {},
   "outputs": [],
   "source": [
    "# 对用户user推荐Top-N\n",
    "def recommend(user, N, method='SimpleTagBased'):\n",
    "    # 对Item进行打分，分数为所有的（用户对某标签使用的次数 wut, 乘以商品被打上该标签的次数 wti）     \n",
    "    tagged_items = user_items[user]\n",
    "    if method == 'SimpleTagBased':\n",
    "        recommend_items=dict()\n",
    "        for tag, wut in user_tags[user].items():\n",
    "            for item, wti in tag_items[tag].items():\n",
    "                if item in tagged_items:\n",
    "                    continue\n",
    "                if item not in recommend_items:\n",
    "                    recommend_items[item] = wut * wti\n",
    "                else:\n",
    "                    recommend_items[item] = recommend_items[item] + wut * wti\n",
    "        return sorted(recommend_items.items(), key=operator.itemgetter(1), reverse=True)[0:N]\n",
    "    \n",
    "    if method == 'NormTagBased':\n",
    "        recommend_items=dict()\n",
    "        sum_wui = 0\n",
    "        for i in user_tags[user].values():\n",
    "            sum_wui += i\n",
    "        for tag, wut in user_tags[user].items():\n",
    "            sum_wut = 0\n",
    "            for i in tag_items[tag]:\n",
    "                sum_wut += i\n",
    "            for item, wti in tag_items[tag].items():\n",
    "                if item in tagged_items:\n",
    "                    continue\n",
    "                if item not in recommend_items:\n",
    "                    recommend_items[item] = (wut/sum_wui) * (wti/sum_wut)\n",
    "                else:\n",
    "                    recommend_items[item] = recommend_items[item] + (wut/sum_wui) * (wti/sum_wut)\n",
    "        return sorted(recommend_items.items(), key=operator.itemgetter(1), reverse=True)[0:N]\n",
    "    \n",
    "    if method == 'TagBased-TFIDF':\n",
    "        recommend_items=dict()\n",
    "        for tag, wut in user_tags[user].items():\n",
    "            for item, wti in tag_items[tag].items():\n",
    "                if item in tagged_items:\n",
    "                    continue\n",
    "                if item not in recommend_items:\n",
    "                    recommend_items[item] = (wut/math.log(1+len(tag_users[tag])))* wti\n",
    "                else:\n",
    "                    recommend_items[item] = recommend_items[item] + (wut/math.log(1+len(tag_users[tag])))* wti\n",
    "        return sorted(recommend_items.items(), key=operator.itemgetter(1), reverse=True)[0:N]"
   ]
  },
  {
   "cell_type": "code",
   "execution_count": 61,
   "metadata": {},
   "outputs": [
    {
     "data": {
      "text/plain": [
       "[(1526, 680), (1416, 609), (4639, 474), (23964, 474), (4535, 453)]"
      ]
     },
     "execution_count": 61,
     "metadata": {},
     "output_type": "execute_result"
    }
   ],
   "source": [
    "temp = recommend(8,5)\n",
    "temp"
   ]
  },
  {
   "cell_type": "code",
   "execution_count": 62,
   "metadata": {},
   "outputs": [
    {
     "data": {
      "text/plain": [
       "[(1855, 3.1427675490393956e-06),\n",
       " (4565, 3.1427675490393956e-06),\n",
       " (14937, 1.3600955814725966e-06),\n",
       " (21257, 6.721838677721262e-07),\n",
       " (66188, 6.280056999143758e-07)]"
      ]
     },
     "execution_count": 62,
     "metadata": {},
     "output_type": "execute_result"
    }
   ],
   "source": [
    "temp = recommend(8,5,method='NormTagBased')\n",
    "temp"
   ]
  },
  {
   "cell_type": "code",
   "execution_count": 63,
   "metadata": {},
   "outputs": [
    {
     "data": {
      "text/plain": [
       "[(1526, 142.48931384045886),\n",
       " (1416, 121.04926685671883),\n",
       " (4639, 99.0080036617578),\n",
       " (23964, 99.0080036617578),\n",
       " (6656, 86.24063132089113)]"
      ]
     },
     "execution_count": 63,
     "metadata": {},
     "output_type": "execute_result"
    }
   ],
   "source": [
    "temp = recommend(8,5,method='TagBased-TFIDF')\n",
    "temp"
   ]
  },
  {
   "cell_type": "code",
   "execution_count": 66,
   "metadata": {},
   "outputs": [],
   "source": [
    "# 使用测试集，计算准确率和召回率\n",
    "def precisionAndRecall(N, method):\n",
    "    hit = 0\n",
    "    h_recall = 0\n",
    "    h_precision = 0\n",
    "    for user,items in test_data.items():\n",
    "        if user not in train_data:\n",
    "            continue\n",
    "        # 获取Top-N推荐列表\n",
    "        rank = recommend(user, N, method)\n",
    "        for item,rui in rank:\n",
    "            if item in items:\n",
    "                hit = hit + 1\n",
    "        h_recall = h_recall + len(items)\n",
    "        h_precision = h_precision + len(rank)\n",
    "    return (hit/(h_precision*1.0)), (hit/(h_recall*1.0))\n",
    "\n",
    "# 使用测试集，对推荐结果进行评估\n",
    "def testRecommend(method):\n",
    "    print(\"%s方法推荐结果评估\" % method)\n",
    "    print(\"%3s %10s %10s\" % ('N',\"精确率\",'召回率'))\n",
    "    for n in [5,10,20,40,60,80,100]:\n",
    "        precision,recall = precisionAndRecall(n,method)\n",
    "        print(\"%3d %10.3f%% %10.3f%%\" % (n, precision * 100, recall * 100))"
   ]
  },
  {
   "cell_type": "code",
   "execution_count": 67,
   "metadata": {},
   "outputs": [
    {
     "name": "stdout",
     "output_type": "stream",
     "text": [
      "SimpleTagBased方法推荐结果评估\n",
      "  N        精确率        召回率\n",
      "  5      0.034%      0.014%\n",
      " 10      0.034%      0.029%\n",
      " 20      0.028%      0.048%\n",
      " 40      0.028%      0.096%\n",
      " 60      0.022%      0.110%\n",
      " 80      0.018%      0.125%\n",
      "100      0.017%      0.149%\n"
     ]
    }
   ],
   "source": [
    "testRecommend('SimpleTagBased')"
   ]
  },
  {
   "cell_type": "code",
   "execution_count": 68,
   "metadata": {},
   "outputs": [
    {
     "name": "stdout",
     "output_type": "stream",
     "text": [
      "NormTagBased方法推荐结果评估\n",
      "  N        精确率        召回率\n",
      "  5      0.067%      0.029%\n",
      " 10      0.045%      0.038%\n",
      " 20      0.028%      0.048%\n",
      " 40      0.025%      0.086%\n",
      " 60      0.021%      0.105%\n",
      " 80      0.018%      0.125%\n",
      "100      0.016%      0.134%\n"
     ]
    }
   ],
   "source": [
    "testRecommend('NormTagBased')"
   ]
  },
  {
   "cell_type": "code",
   "execution_count": 69,
   "metadata": {},
   "outputs": [
    {
     "name": "stdout",
     "output_type": "stream",
     "text": [
      "TagBased-TFIDF方法推荐结果评估\n",
      "  N        精确率        召回率\n",
      "  5      0.067%      0.029%\n",
      " 10      0.062%      0.053%\n",
      " 20      0.036%      0.062%\n",
      " 40      0.027%      0.091%\n",
      " 60      0.022%      0.110%\n",
      " 80      0.018%      0.120%\n",
      "100      0.017%      0.144%\n"
     ]
    }
   ],
   "source": [
    "testRecommend('TagBased-TFIDF')"
   ]
  },
  {
   "cell_type": "markdown",
   "metadata": {},
   "source": [
    "### Action2\n",
    "对Titanic数据进行清洗，建模并对乘客生存进行预测。使用之前介绍过的10种模型中的至少2种（包括TPOT）"
   ]
  },
  {
   "cell_type": "code",
   "execution_count": 142,
   "metadata": {},
   "outputs": [],
   "source": [
    "import numpy as np\n",
    "import pandas as pd\n",
    "from sklearn.feature_extraction import DictVectorizer\n",
    "from sklearn.model_selection import train_test_split, cross_val_score\n",
    "from sklearn.metrics import accuracy_score\n",
    "\n",
    "# 数据加载\n",
    "train_data = pd.read_csv('./train.csv')\n",
    "test_data = pd.read_csv('./test.csv')"
   ]
  },
  {
   "cell_type": "code",
   "execution_count": 143,
   "metadata": {},
   "outputs": [
    {
     "name": "stdout",
     "output_type": "stream",
     "text": [
      "查看数据信息：列名、非空个数、类型等\n",
      "<class 'pandas.core.frame.DataFrame'>\n",
      "RangeIndex: 891 entries, 0 to 890\n",
      "Data columns (total 12 columns):\n",
      " #   Column       Non-Null Count  Dtype  \n",
      "---  ------       --------------  -----  \n",
      " 0   PassengerId  891 non-null    int64  \n",
      " 1   Survived     891 non-null    int64  \n",
      " 2   Pclass       891 non-null    int64  \n",
      " 3   Name         891 non-null    object \n",
      " 4   Sex          891 non-null    object \n",
      " 5   Age          714 non-null    float64\n",
      " 6   SibSp        891 non-null    int64  \n",
      " 7   Parch        891 non-null    int64  \n",
      " 8   Ticket       891 non-null    object \n",
      " 9   Fare         891 non-null    float64\n",
      " 10  Cabin        204 non-null    object \n",
      " 11  Embarked     889 non-null    object \n",
      "dtypes: float64(2), int64(5), object(5)\n",
      "memory usage: 83.7+ KB\n",
      "None\n",
      "------------------------------\n",
      "查看数据统计信息\n",
      "       PassengerId    Survived      Pclass         Age       SibSp  \\\n",
      "count   891.000000  891.000000  891.000000  714.000000  891.000000   \n",
      "mean    446.000000    0.383838    2.308642   29.699118    0.523008   \n",
      "std     257.353842    0.486592    0.836071   14.526497    1.102743   \n",
      "min       1.000000    0.000000    1.000000    0.420000    0.000000   \n",
      "25%     223.500000    0.000000    2.000000   20.125000    0.000000   \n",
      "50%     446.000000    0.000000    3.000000   28.000000    0.000000   \n",
      "75%     668.500000    1.000000    3.000000   38.000000    1.000000   \n",
      "max     891.000000    1.000000    3.000000   80.000000    8.000000   \n",
      "\n",
      "            Parch        Fare  \n",
      "count  891.000000  891.000000  \n",
      "mean     0.381594   32.204208  \n",
      "std      0.806057   49.693429  \n",
      "min      0.000000    0.000000  \n",
      "25%      0.000000    7.910400  \n",
      "50%      0.000000   14.454200  \n",
      "75%      0.000000   31.000000  \n",
      "max      6.000000  512.329200  \n",
      "------------------------------\n",
      "查看离散数据分布\n",
      "                                                   Name   Sex Ticket    Cabin  \\\n",
      "count                                               891   891    891      204   \n",
      "unique                                              891     2    681      147   \n",
      "top     Andersen-Jensen, Miss. Carla Christine Nielsine  male   1601  B96 B98   \n",
      "freq                                                  1   577      7        4   \n",
      "\n",
      "       Embarked  \n",
      "count       889  \n",
      "unique        3  \n",
      "top           S  \n",
      "freq        644  \n",
      "------------------------------\n",
      "查看前5条数据\n"
     ]
    },
    {
     "data": {
      "text/html": [
       "<div>\n",
       "<style scoped>\n",
       "    .dataframe tbody tr th:only-of-type {\n",
       "        vertical-align: middle;\n",
       "    }\n",
       "\n",
       "    .dataframe tbody tr th {\n",
       "        vertical-align: top;\n",
       "    }\n",
       "\n",
       "    .dataframe thead th {\n",
       "        text-align: right;\n",
       "    }\n",
       "</style>\n",
       "<table border=\"1\" class=\"dataframe\">\n",
       "  <thead>\n",
       "    <tr style=\"text-align: right;\">\n",
       "      <th></th>\n",
       "      <th>PassengerId</th>\n",
       "      <th>Survived</th>\n",
       "      <th>Pclass</th>\n",
       "      <th>Name</th>\n",
       "      <th>Sex</th>\n",
       "      <th>Age</th>\n",
       "      <th>SibSp</th>\n",
       "      <th>Parch</th>\n",
       "      <th>Ticket</th>\n",
       "      <th>Fare</th>\n",
       "      <th>Cabin</th>\n",
       "      <th>Embarked</th>\n",
       "    </tr>\n",
       "  </thead>\n",
       "  <tbody>\n",
       "    <tr>\n",
       "      <th>0</th>\n",
       "      <td>1</td>\n",
       "      <td>0</td>\n",
       "      <td>3</td>\n",
       "      <td>Braund, Mr. Owen Harris</td>\n",
       "      <td>male</td>\n",
       "      <td>22.0</td>\n",
       "      <td>1</td>\n",
       "      <td>0</td>\n",
       "      <td>A/5 21171</td>\n",
       "      <td>7.2500</td>\n",
       "      <td>NaN</td>\n",
       "      <td>S</td>\n",
       "    </tr>\n",
       "    <tr>\n",
       "      <th>1</th>\n",
       "      <td>2</td>\n",
       "      <td>1</td>\n",
       "      <td>1</td>\n",
       "      <td>Cumings, Mrs. John Bradley (Florence Briggs Th...</td>\n",
       "      <td>female</td>\n",
       "      <td>38.0</td>\n",
       "      <td>1</td>\n",
       "      <td>0</td>\n",
       "      <td>PC 17599</td>\n",
       "      <td>71.2833</td>\n",
       "      <td>C85</td>\n",
       "      <td>C</td>\n",
       "    </tr>\n",
       "    <tr>\n",
       "      <th>2</th>\n",
       "      <td>3</td>\n",
       "      <td>1</td>\n",
       "      <td>3</td>\n",
       "      <td>Heikkinen, Miss. Laina</td>\n",
       "      <td>female</td>\n",
       "      <td>26.0</td>\n",
       "      <td>0</td>\n",
       "      <td>0</td>\n",
       "      <td>STON/O2. 3101282</td>\n",
       "      <td>7.9250</td>\n",
       "      <td>NaN</td>\n",
       "      <td>S</td>\n",
       "    </tr>\n",
       "    <tr>\n",
       "      <th>3</th>\n",
       "      <td>4</td>\n",
       "      <td>1</td>\n",
       "      <td>1</td>\n",
       "      <td>Futrelle, Mrs. Jacques Heath (Lily May Peel)</td>\n",
       "      <td>female</td>\n",
       "      <td>35.0</td>\n",
       "      <td>1</td>\n",
       "      <td>0</td>\n",
       "      <td>113803</td>\n",
       "      <td>53.1000</td>\n",
       "      <td>C123</td>\n",
       "      <td>S</td>\n",
       "    </tr>\n",
       "    <tr>\n",
       "      <th>4</th>\n",
       "      <td>5</td>\n",
       "      <td>0</td>\n",
       "      <td>3</td>\n",
       "      <td>Allen, Mr. William Henry</td>\n",
       "      <td>male</td>\n",
       "      <td>35.0</td>\n",
       "      <td>0</td>\n",
       "      <td>0</td>\n",
       "      <td>373450</td>\n",
       "      <td>8.0500</td>\n",
       "      <td>NaN</td>\n",
       "      <td>S</td>\n",
       "    </tr>\n",
       "  </tbody>\n",
       "</table>\n",
       "</div>"
      ],
      "text/plain": [
       "   PassengerId  Survived  Pclass  \\\n",
       "0            1         0       3   \n",
       "1            2         1       1   \n",
       "2            3         1       3   \n",
       "3            4         1       1   \n",
       "4            5         0       3   \n",
       "\n",
       "                                                Name     Sex   Age  SibSp  \\\n",
       "0                            Braund, Mr. Owen Harris    male  22.0      1   \n",
       "1  Cumings, Mrs. John Bradley (Florence Briggs Th...  female  38.0      1   \n",
       "2                             Heikkinen, Miss. Laina  female  26.0      0   \n",
       "3       Futrelle, Mrs. Jacques Heath (Lily May Peel)  female  35.0      1   \n",
       "4                           Allen, Mr. William Henry    male  35.0      0   \n",
       "\n",
       "   Parch            Ticket     Fare Cabin Embarked  \n",
       "0      0         A/5 21171   7.2500   NaN        S  \n",
       "1      0          PC 17599  71.2833   C85        C  \n",
       "2      0  STON/O2. 3101282   7.9250   NaN        S  \n",
       "3      0            113803  53.1000  C123        S  \n",
       "4      0            373450   8.0500   NaN        S  "
      ]
     },
     "execution_count": 143,
     "metadata": {},
     "output_type": "execute_result"
    }
   ],
   "source": [
    "# 数据探索\n",
    "pd.set_option('display.max_columns', None) #显示所有列\n",
    "# 查看train_data信息\n",
    "print('查看数据信息：列名、非空个数、类型等')\n",
    "print(train_data.info())\n",
    "print('-'*30)\n",
    "print('查看数据统计信息')\n",
    "print(train_data.describe())\n",
    "print('-'*30)\n",
    "print('查看离散数据分布')\n",
    "print(train_data.describe(include=['O']))\n",
    "print('-'*30)\n",
    "print('查看前5条数据')\n",
    "train_data.head()"
   ]
  },
  {
   "cell_type": "code",
   "execution_count": 144,
   "metadata": {},
   "outputs": [
    {
     "name": "stdout",
     "output_type": "stream",
     "text": [
      "查看数据信息：列名、非空个数、类型等\n",
      "<class 'pandas.core.frame.DataFrame'>\n",
      "RangeIndex: 418 entries, 0 to 417\n",
      "Data columns (total 11 columns):\n",
      " #   Column       Non-Null Count  Dtype  \n",
      "---  ------       --------------  -----  \n",
      " 0   PassengerId  418 non-null    int64  \n",
      " 1   Pclass       418 non-null    int64  \n",
      " 2   Name         418 non-null    object \n",
      " 3   Sex          418 non-null    object \n",
      " 4   Age          332 non-null    float64\n",
      " 5   SibSp        418 non-null    int64  \n",
      " 6   Parch        418 non-null    int64  \n",
      " 7   Ticket       418 non-null    object \n",
      " 8   Fare         417 non-null    float64\n",
      " 9   Cabin        91 non-null     object \n",
      " 10  Embarked     418 non-null    object \n",
      "dtypes: float64(2), int64(4), object(5)\n",
      "memory usage: 36.0+ KB\n",
      "None\n",
      "------------------------------\n",
      "查看数据统计信息\n",
      "       PassengerId      Pclass         Age       SibSp       Parch        Fare\n",
      "count   418.000000  418.000000  332.000000  418.000000  418.000000  417.000000\n",
      "mean   1100.500000    2.265550   30.272590    0.447368    0.392344   35.627188\n",
      "std     120.810458    0.841838   14.181209    0.896760    0.981429   55.907576\n",
      "min     892.000000    1.000000    0.170000    0.000000    0.000000    0.000000\n",
      "25%     996.250000    1.000000   21.000000    0.000000    0.000000    7.895800\n",
      "50%    1100.500000    3.000000   27.000000    0.000000    0.000000   14.454200\n",
      "75%    1204.750000    3.000000   39.000000    1.000000    0.000000   31.500000\n",
      "max    1309.000000    3.000000   76.000000    8.000000    9.000000  512.329200\n",
      "------------------------------\n",
      "查看离散数据分布\n",
      "                                 Name   Sex    Ticket            Cabin  \\\n",
      "count                             418   418       418               91   \n",
      "unique                            418     2       363               76   \n",
      "top     Fillbrook, Mr. Joseph Charles  male  PC 17608  B57 B59 B63 B66   \n",
      "freq                                1   266         5                3   \n",
      "\n",
      "       Embarked  \n",
      "count       418  \n",
      "unique        3  \n",
      "top           S  \n",
      "freq        270  \n",
      "------------------------------\n",
      "查看前5条数据\n"
     ]
    },
    {
     "data": {
      "text/html": [
       "<div>\n",
       "<style scoped>\n",
       "    .dataframe tbody tr th:only-of-type {\n",
       "        vertical-align: middle;\n",
       "    }\n",
       "\n",
       "    .dataframe tbody tr th {\n",
       "        vertical-align: top;\n",
       "    }\n",
       "\n",
       "    .dataframe thead th {\n",
       "        text-align: right;\n",
       "    }\n",
       "</style>\n",
       "<table border=\"1\" class=\"dataframe\">\n",
       "  <thead>\n",
       "    <tr style=\"text-align: right;\">\n",
       "      <th></th>\n",
       "      <th>PassengerId</th>\n",
       "      <th>Pclass</th>\n",
       "      <th>Name</th>\n",
       "      <th>Sex</th>\n",
       "      <th>Age</th>\n",
       "      <th>SibSp</th>\n",
       "      <th>Parch</th>\n",
       "      <th>Ticket</th>\n",
       "      <th>Fare</th>\n",
       "      <th>Cabin</th>\n",
       "      <th>Embarked</th>\n",
       "    </tr>\n",
       "  </thead>\n",
       "  <tbody>\n",
       "    <tr>\n",
       "      <th>0</th>\n",
       "      <td>892</td>\n",
       "      <td>3</td>\n",
       "      <td>Kelly, Mr. James</td>\n",
       "      <td>male</td>\n",
       "      <td>34.5</td>\n",
       "      <td>0</td>\n",
       "      <td>0</td>\n",
       "      <td>330911</td>\n",
       "      <td>7.8292</td>\n",
       "      <td>NaN</td>\n",
       "      <td>Q</td>\n",
       "    </tr>\n",
       "    <tr>\n",
       "      <th>1</th>\n",
       "      <td>893</td>\n",
       "      <td>3</td>\n",
       "      <td>Wilkes, Mrs. James (Ellen Needs)</td>\n",
       "      <td>female</td>\n",
       "      <td>47.0</td>\n",
       "      <td>1</td>\n",
       "      <td>0</td>\n",
       "      <td>363272</td>\n",
       "      <td>7.0000</td>\n",
       "      <td>NaN</td>\n",
       "      <td>S</td>\n",
       "    </tr>\n",
       "    <tr>\n",
       "      <th>2</th>\n",
       "      <td>894</td>\n",
       "      <td>2</td>\n",
       "      <td>Myles, Mr. Thomas Francis</td>\n",
       "      <td>male</td>\n",
       "      <td>62.0</td>\n",
       "      <td>0</td>\n",
       "      <td>0</td>\n",
       "      <td>240276</td>\n",
       "      <td>9.6875</td>\n",
       "      <td>NaN</td>\n",
       "      <td>Q</td>\n",
       "    </tr>\n",
       "    <tr>\n",
       "      <th>3</th>\n",
       "      <td>895</td>\n",
       "      <td>3</td>\n",
       "      <td>Wirz, Mr. Albert</td>\n",
       "      <td>male</td>\n",
       "      <td>27.0</td>\n",
       "      <td>0</td>\n",
       "      <td>0</td>\n",
       "      <td>315154</td>\n",
       "      <td>8.6625</td>\n",
       "      <td>NaN</td>\n",
       "      <td>S</td>\n",
       "    </tr>\n",
       "    <tr>\n",
       "      <th>4</th>\n",
       "      <td>896</td>\n",
       "      <td>3</td>\n",
       "      <td>Hirvonen, Mrs. Alexander (Helga E Lindqvist)</td>\n",
       "      <td>female</td>\n",
       "      <td>22.0</td>\n",
       "      <td>1</td>\n",
       "      <td>1</td>\n",
       "      <td>3101298</td>\n",
       "      <td>12.2875</td>\n",
       "      <td>NaN</td>\n",
       "      <td>S</td>\n",
       "    </tr>\n",
       "  </tbody>\n",
       "</table>\n",
       "</div>"
      ],
      "text/plain": [
       "   PassengerId  Pclass                                          Name     Sex  \\\n",
       "0          892       3                              Kelly, Mr. James    male   \n",
       "1          893       3              Wilkes, Mrs. James (Ellen Needs)  female   \n",
       "2          894       2                     Myles, Mr. Thomas Francis    male   \n",
       "3          895       3                              Wirz, Mr. Albert    male   \n",
       "4          896       3  Hirvonen, Mrs. Alexander (Helga E Lindqvist)  female   \n",
       "\n",
       "    Age  SibSp  Parch   Ticket     Fare Cabin Embarked  \n",
       "0  34.5      0      0   330911   7.8292   NaN        Q  \n",
       "1  47.0      1      0   363272   7.0000   NaN        S  \n",
       "2  62.0      0      0   240276   9.6875   NaN        Q  \n",
       "3  27.0      0      0   315154   8.6625   NaN        S  \n",
       "4  22.0      1      1  3101298  12.2875   NaN        S  "
      ]
     },
     "execution_count": 144,
     "metadata": {},
     "output_type": "execute_result"
    }
   ],
   "source": [
    "# 查看test_data信息\n",
    "print('查看数据信息：列名、非空个数、类型等')\n",
    "print(test_data.info())\n",
    "print('-'*30)\n",
    "print('查看数据统计信息')\n",
    "print(test_data.describe())\n",
    "print('-'*30)\n",
    "print('查看离散数据分布')\n",
    "print(test_data.describe(include=['O']))\n",
    "print('-'*30)\n",
    "print('查看前5条数据')\n",
    "test_data.head()"
   ]
  },
  {
   "cell_type": "code",
   "execution_count": 145,
   "metadata": {},
   "outputs": [
    {
     "data": {
      "text/plain": [
       "<seaborn.axisgrid.FacetGrid at 0x22db3b6ed00>"
      ]
     },
     "execution_count": 145,
     "metadata": {},
     "output_type": "execute_result"
    },
    {
     "data": {
      "image/png": "[encoded data removed]",
      "text/plain": [
       "<Figure size 411.875x360 with 1 Axes>"
      ]
     },
     "metadata": {
      "needs_background": "light"
     },
     "output_type": "display_data"
    },
    {
     "data": {
      "image/png": "[encoded data removed]",
      "text/plain": [
       "<Figure size 411.875x360 with 1 Axes>"
      ]
     },
     "metadata": {
      "needs_background": "light"
     },
     "output_type": "display_data"
    },
    {
     "data": {
      "image/png": "[encoded data removed]",
      "text/plain": [
       "<Figure size 360x360 with 1 Axes>"
      ]
     },
     "metadata": {
      "needs_background": "light"
     },
     "output_type": "display_data"
    },
    {
     "data": {
      "image/png": "[encoded data removed]",
      "text/plain": [
       "<Figure size 411.875x360 with 1 Axes>"
      ]
     },
     "metadata": {
      "needs_background": "light"
     },
     "output_type": "display_data"
    },
    {
     "data": {
      "image/png": "[encoded data removed]",
      "text/plain": [
       "<Figure size 360x360 with 1 Axes>"
      ]
     },
     "metadata": {
      "needs_background": "light"
     },
     "output_type": "display_data"
    },
    {
     "data": {
      "image/png": "[encoded data removed]",
      "text/plain": [
       "<Figure size 411.875x360 with 1 Axes>"
      ]
     },
     "metadata": {
      "needs_background": "light"
     },
     "output_type": "display_data"
    },
    {
     "data": {
      "image/png": "[encoded data removed]",
      "text/plain": [
       "<Figure size 411.875x360 with 1 Axes>"
      ]
     },
     "metadata": {
      "needs_background": "light"
     },
     "output_type": "display_data"
    },
    {
     "data": {
      "image/png": "[encoded data removed]",
      "text/plain": [
       "<Figure size 771.875x1080 with 6 Axes>"
      ]
     },
     "metadata": {
      "needs_background": "light"
     },
     "output_type": "display_data"
    }
   ],
   "source": [
    "# 直观展示\n",
    "import seaborn as sns\n",
    "sns.catplot('Pclass', hue='Survived', kind='count', data=train_data)\n",
    "sns.catplot('Embarked', hue='Survived', kind='count', data=train_data)\n",
    "sns.catplot(x='Survived',y='Fare', kind='box', data=train_data)\n",
    "sns.catplot('Sex', hue='Survived', kind='count', data=train_data)\n",
    "sns.catplot(x='Survived',y='Age', kind='box', data=train_data)\n",
    "sns.catplot('Parch', hue='Survived', kind='count', data=train_data)\n",
    "sns.catplot('SibSp', hue='Survived', kind='count', data=train_data)\n",
    "sns.catplot('Embarked', hue='Survived', row='Pclass', col='Sex', kind='count', data=train_data)"
   ]
  },
  {
   "cell_type": "code",
   "execution_count": 146,
   "metadata": {},
   "outputs": [
    {
     "name": "stdout",
     "output_type": "stream",
     "text": [
      "S    644\n",
      "C    168\n",
      "Q     77\n",
      "Name: Embarked, dtype: int64\n"
     ]
    }
   ],
   "source": [
    "# 缺失值处理\n",
    "\n",
    "# 使用平均年龄来填充年龄中的nan值\n",
    "train_data['Age'].fillna(train_data['Age'].mean(), inplace=True)\n",
    "test_data['Age'].fillna(test_data['Age'].mean(),inplace=True)\n",
    "# 使用票价的均值填充票价中的nan值\n",
    "train_data['Fare'].fillna(train_data['Fare'].mean(), inplace=True)\n",
    "test_data['Fare'].fillna(test_data['Fare'].mean(),inplace=True)\n",
    "\n",
    "print(train_data['Embarked'].value_counts())\n",
    "# 使用登录最多的港口来填充登录港口的nan值\n",
    "train_data['Embarked'].fillna('S', inplace=True)\n",
    "test_data['Embarked'].fillna('S',inplace=True)"
   ]
  },
  {
   "cell_type": "code",
   "execution_count": 149,
   "metadata": {},
   "outputs": [
    {
     "name": "stdout",
     "output_type": "stream",
     "text": [
      "特征值\n",
      "     Pclass     Sex        Age  SibSp  Parch     Fare Embarked\n",
      "0         3    male  22.000000      1      0   7.2500        S\n",
      "1         1  female  38.000000      1      0  71.2833        C\n",
      "2         3  female  26.000000      0      0   7.9250        S\n",
      "3         1  female  35.000000      1      0  53.1000        S\n",
      "4         3    male  35.000000      0      0   8.0500        S\n",
      "..      ...     ...        ...    ...    ...      ...      ...\n",
      "886       2    male  27.000000      0      0  13.0000        S\n",
      "887       1  female  19.000000      0      0  30.0000        S\n",
      "888       3  female  29.699118      1      2  23.4500        S\n",
      "889       1    male  26.000000      0      0  30.0000        C\n",
      "890       3    male  32.000000      0      0   7.7500        Q\n",
      "\n",
      "[891 rows x 7 columns]\n",
      "['Age', 'Embarked=C', 'Embarked=Q', 'Embarked=S', 'Fare', 'Parch', 'Pclass', 'Sex=female', 'Sex=male', 'SibSp']\n"
     ]
    },
    {
     "data": {
      "text/html": [
       "<div>\n",
       "<style scoped>\n",
       "    .dataframe tbody tr th:only-of-type {\n",
       "        vertical-align: middle;\n",
       "    }\n",
       "\n",
       "    .dataframe tbody tr th {\n",
       "        vertical-align: top;\n",
       "    }\n",
       "\n",
       "    .dataframe thead th {\n",
       "        text-align: right;\n",
       "    }\n",
       "</style>\n",
       "<table border=\"1\" class=\"dataframe\">\n",
       "  <thead>\n",
       "    <tr style=\"text-align: right;\">\n",
       "      <th></th>\n",
       "      <th>0</th>\n",
       "      <th>1</th>\n",
       "      <th>2</th>\n",
       "      <th>3</th>\n",
       "      <th>4</th>\n",
       "      <th>5</th>\n",
       "      <th>6</th>\n",
       "      <th>7</th>\n",
       "      <th>8</th>\n",
       "      <th>9</th>\n",
       "    </tr>\n",
       "  </thead>\n",
       "  <tbody>\n",
       "    <tr>\n",
       "      <th>0</th>\n",
       "      <td>22.0</td>\n",
       "      <td>0.0</td>\n",
       "      <td>0.0</td>\n",
       "      <td>1.0</td>\n",
       "      <td>7.2500</td>\n",
       "      <td>0.0</td>\n",
       "      <td>3.0</td>\n",
       "      <td>0.0</td>\n",
       "      <td>1.0</td>\n",
       "      <td>1.0</td>\n",
       "    </tr>\n",
       "    <tr>\n",
       "      <th>1</th>\n",
       "      <td>38.0</td>\n",
       "      <td>1.0</td>\n",
       "      <td>0.0</td>\n",
       "      <td>0.0</td>\n",
       "      <td>71.2833</td>\n",
       "      <td>0.0</td>\n",
       "      <td>1.0</td>\n",
       "      <td>1.0</td>\n",
       "      <td>0.0</td>\n",
       "      <td>1.0</td>\n",
       "    </tr>\n",
       "    <tr>\n",
       "      <th>2</th>\n",
       "      <td>26.0</td>\n",
       "      <td>0.0</td>\n",
       "      <td>0.0</td>\n",
       "      <td>1.0</td>\n",
       "      <td>7.9250</td>\n",
       "      <td>0.0</td>\n",
       "      <td>3.0</td>\n",
       "      <td>1.0</td>\n",
       "      <td>0.0</td>\n",
       "      <td>0.0</td>\n",
       "    </tr>\n",
       "    <tr>\n",
       "      <th>3</th>\n",
       "      <td>35.0</td>\n",
       "      <td>0.0</td>\n",
       "      <td>0.0</td>\n",
       "      <td>1.0</td>\n",
       "      <td>53.1000</td>\n",
       "      <td>0.0</td>\n",
       "      <td>1.0</td>\n",
       "      <td>1.0</td>\n",
       "      <td>0.0</td>\n",
       "      <td>1.0</td>\n",
       "    </tr>\n",
       "    <tr>\n",
       "      <th>4</th>\n",
       "      <td>35.0</td>\n",
       "      <td>0.0</td>\n",
       "      <td>0.0</td>\n",
       "      <td>1.0</td>\n",
       "      <td>8.0500</td>\n",
       "      <td>0.0</td>\n",
       "      <td>3.0</td>\n",
       "      <td>0.0</td>\n",
       "      <td>1.0</td>\n",
       "      <td>0.0</td>\n",
       "    </tr>\n",
       "  </tbody>\n",
       "</table>\n",
       "</div>"
      ],
      "text/plain": [
       "      0    1    2    3        4    5    6    7    8    9\n",
       "0  22.0  0.0  0.0  1.0   7.2500  0.0  3.0  0.0  1.0  1.0\n",
       "1  38.0  1.0  0.0  0.0  71.2833  0.0  1.0  1.0  0.0  1.0\n",
       "2  26.0  0.0  0.0  1.0   7.9250  0.0  3.0  1.0  0.0  0.0\n",
       "3  35.0  0.0  0.0  1.0  53.1000  0.0  1.0  1.0  0.0  1.0\n",
       "4  35.0  0.0  0.0  1.0   8.0500  0.0  3.0  0.0  1.0  0.0"
      ]
     },
     "execution_count": 149,
     "metadata": {},
     "output_type": "execute_result"
    }
   ],
   "source": [
    "# 特征选择\n",
    "features = ['Pclass', 'Sex', 'Age', 'SibSp', 'Parch', 'Fare', 'Embarked']\n",
    "train_features = train_data[features]\n",
    "train_labels = train_data['Survived']\n",
    "test_features = test_data[features]\n",
    "print('特征值')\n",
    "print(train_features)\n",
    "dvec=DictVectorizer(sparse=False) # sparse=False意思是不产生稀疏矩阵\n",
    "train_features=dvec.fit_transform(train_features.to_dict(orient='record'))\n",
    "test_features=dvec.fit_transform(test_features.to_dict(orient='record'))\n",
    "\n",
    "print(dvec.feature_names_)\n",
    "pd.DataFrame(train_features).head()"
   ]
  },
  {
   "cell_type": "code",
   "execution_count": 209,
   "metadata": {},
   "outputs": [
    {
     "name": "stdout",
     "output_type": "stream",
     "text": [
      "对于决策树：\n",
      "score准确率为 0.7848\n",
      "cross_val_score准确率为 0.7745\n"
     ]
    }
   ],
   "source": [
    "# 由于test_data没有Survived字段信息，为能检验模型效果，暂用train_data作为训练集来进行train_test_split\n",
    "X_train, X_test, y_train, y_test = train_test_split(train_features, train_labels, test_size=0.25, random_state=3)\n",
    "\n",
    "# ID3决策树\n",
    "from sklearn.tree import DecisionTreeClassifier\n",
    "clf = DecisionTreeClassifier(criterion='entropy')\n",
    "clf.fit(X_train, y_train)\n",
    "\n",
    "print('对于决策树：')\n",
    "y_predict = clf.predict(X_test)\n",
    "print('score准确率为 %.4lf' % accuracy_score(y_predict, y_test))\n",
    "\n",
    "# 使用K折交叉验证 统计决策树准确率\n",
    "print('cross_val_score准确率为 %.4lf' % np.mean(cross_val_score(clf, train_features, train_labels, cv=10)))"
   ]
  },
  {
   "cell_type": "code",
   "execution_count": 222,
   "metadata": {},
   "outputs": [
    {
     "name": "stdout",
     "output_type": "stream",
     "text": [
      "对于随机森林：\n",
      "score准确率为 0.8117\n",
      "cross_val_score准确率为 0.8328\n"
     ]
    }
   ],
   "source": [
    "# 随机森林\n",
    "from sklearn.ensemble import RandomForestClassifier\n",
    "clf = RandomForestClassifier(criterion='entropy', max_features=5, max_samples=0.5, random_state=3)\n",
    "clf.fit(X_train, y_train)\n",
    "\n",
    "print('对于随机森林：')\n",
    "y_predict = clf.predict(X_test)\n",
    "print('score准确率为 %.4lf' % accuracy_score(y_predict, y_test))\n",
    "\n",
    "# 使用K折交叉验证 统计决策树准确率\n",
    "print('cross_val_score准确率为 %.4lf' % np.mean(cross_val_score(clf, train_features, train_labels, cv=10)))"
   ]
  },
  {
   "cell_type": "code",
   "execution_count": 223,
   "metadata": {},
   "outputs": [
    {
     "name": "stdout",
     "output_type": "stream",
     "text": [
      "对于SVM：\n",
      "score准确率为 0.7803\n",
      "cross_val_score准确率为 0.7924\n"
     ]
    }
   ],
   "source": [
    "# SVM\n",
    "from sklearn.svm import LinearSVC\n",
    "clf = LinearSVC(dual=False)\n",
    "clf.fit(X_train, y_train)\n",
    "\n",
    "print('对于SVM：')\n",
    "y_predict = clf.predict(X_test)\n",
    "print('score准确率为 %.4lf' % accuracy_score(y_predict, y_test))\n",
    "\n",
    "# 使用K折交叉验证 统计决策树准确率\n",
    "print('cross_val_score准确率为 %.4lf' % np.mean(cross_val_score(clf, train_features, train_labels, cv=10)))"
   ]
  },
  {
   "cell_type": "code",
   "execution_count": 224,
   "metadata": {},
   "outputs": [
    {
     "name": "stdout",
     "output_type": "stream",
     "text": [
      "Warning: xgboost.XGBClassifier is not available and will not be used by TPOT.\n"
     ]
    },
    {
     "data": {
      "application/vnd.jupyter.widget-view+json": {
       "model_id": "c9aaa59d7d1346598003ab75b3119c7d",
       "version_major": 2,
       "version_minor": 0
      },
      "text/plain": [
       "HBox(children=(FloatProgress(value=0.0, description='Optimization Progress', max=120.0, style=ProgressStyle(de…"
      ]
     },
     "metadata": {},
     "output_type": "display_data"
    },
    {
     "name": "stdout",
     "output_type": "stream",
     "text": [
      "\n",
      "Generation 1 - Current best internal CV score: 0.8263494557288744\n",
      "Generation 2 - Current best internal CV score: 0.8337896981259117\n",
      "Generation 3 - Current best internal CV score: 0.8337896981259117\n",
      "Generation 4 - Current best internal CV score: 0.8367747727527775\n",
      "Generation 5 - Current best internal CV score: 0.8367747727527775\n",
      "Best pipeline: GaussianNB(ZeroCount(RandomForestClassifier(input_matrix, bootstrap=True, criterion=entropy, max_features=0.9000000000000001, min_samples_leaf=2, min_samples_split=6, n_estimators=100)))\n",
      "0.8026905829596412\n"
     ]
    }
   ],
   "source": [
    "# TPOT\n",
    "from tpot import TPOTClassifier\n",
    "tpot = TPOTClassifier(generations=5, population_size=20, verbosity=2)\n",
    "tpot.fit(X_train, y_train)\n",
    "print(tpot.score(X_test, y_test))\n",
    "tpot.export('tpot_Titanic.py')"
   ]
  }
 ],
 "metadata": {
  "kernelspec": {
   "display_name": "Python 3",
   "language": "python",
   "name": "python3"
  },
  "language_info": {
   "codemirror_mode": {
    "name": "ipython",
    "version": 3
   },
   "file_extension": ".py",
   "mimetype": "text/x-python",
   "name": "python",
   "nbconvert_exporter": "python",
   "pygments_lexer": "ipython3",
   "version": "3.8.3"
  }
 },
 "nbformat": 4,
 "nbformat_minor": 4
}
