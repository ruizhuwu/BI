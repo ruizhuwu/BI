{
 "cells": [
  {
   "cell_type": "markdown",
   "metadata": {},
   "source": [
    "### Thinking1\n",
    "参数共享指的是什么？"
   ]
  },
  {
   "cell_type": "markdown",
   "metadata": {},
   "source": [
    "答：参数共享指在对图像的不同位置进行处理时卷积核的参数都是一样的，故卷积层的参数个数只与卷积核的大小与个数有关，与图像大小无关。"
   ]
  },
  {
   "cell_type": "markdown",
   "metadata": {},
   "source": [
    "### Thinking2\n",
    "为什么会用到batch normalization ?"
   ]
  },
  {
   "cell_type": "markdown",
   "metadata": {},
   "source": [
    "答：在深度学习过程中，随着网络层数的加深，神经元输入的分布可能会逐渐偏移而靠近激活函数定义域的上下限，导致出现梯度消失的情况，致使收敛速度缓慢，而batch normalization将神经元输入值的分布进行正态标准化，使其均值为0方差为1，将其拉回到激活函数较为敏感的区域，从而避免梯度消失问题的产生，加快训练收敛的速度。"
   ]
  },
  {
   "cell_type": "markdown",
   "metadata": {},
   "source": [
    "### Thinking3\n",
    "使用dropout可以解决什么问题？"
   ]
  },
  {
   "cell_type": "markdown",
   "metadata": {},
   "source": [
    "答：dropout在每一个batch训练时，随机地让一部分神经元停止工作，更新完权重后再恢复，这使得模型不会过于依赖某一特征，增强了模型的泛化能力，缓解了过拟合问题。"
   ]
  },
  {
   "cell_type": "markdown",
   "metadata": {},
   "source": [
    "### Action1\n",
    "使用任何神经网络框架，对CIFAR-10进行分类\n",
    "http://www.cs.toronto.edu/~kriz/cifar.html\n",
    "训练集 50000，测试集 10000\n",
    "图像大小 32*32 彩色\n",
    "10个分类：ariplane, automobile, bird, cat, deer, dog, frog, horse, ship, truck"
   ]
  },
  {
   "cell_type": "code",
   "execution_count": 2,
   "metadata": {},
   "outputs": [
    {
     "name": "stdout",
     "output_type": "stream",
     "text": [
      "Files already downloaded and verified\n",
      "Files already downloaded and verified\n",
      "Dataset CIFAR10\n",
      "    Number of datapoints: 50000\n",
      "    Root location: ./cifar10/\n",
      "    Split: Train\n",
      "    StandardTransform\n",
      "Transform: ToTensor()\n",
      "Dataset CIFAR10\n",
      "    Number of datapoints: 10000\n",
      "    Root location: ./cifar10/\n",
      "    Split: Test\n",
      "    StandardTransform\n",
      "Transform: ToTensor()\n"
     ]
    }
   ],
   "source": [
    "import torch\n",
    "import torch.nn as nn\n",
    "import torchvision\n",
    "import torchvision.datasets as datasets\n",
    "import torchvision.transforms as transforms\n",
    "\n",
    "# 数据加载\n",
    "train_data = datasets.CIFAR10(root='./cifar10/', train=True, transform=transforms.ToTensor(), download=True)\n",
    "test_data = datasets.CIFAR10(root='./cifar10/', train=False, transform=transforms.ToTensor(), download=True)\n",
    "print(train_data)\n",
    "print(test_data)"
   ]
  },
  {
   "cell_type": "code",
   "execution_count": 3,
   "metadata": {},
   "outputs": [
    {
     "name": "stdout",
     "output_type": "stream",
     "text": [
      "(3, 32, 32)\n"
     ]
    },
    {
     "data": {
      "image/png": "[encoded data removed]",
      "text/plain": [
       "<Figure size 432x288 with 1 Axes>"
      ]
     },
     "metadata": {
      "needs_background": "light"
     },
     "output_type": "display_data"
    }
   ],
   "source": [
    "# 图像显示\n",
    "import matplotlib.pyplot as plt\n",
    "temp = train_data[1][0].numpy()\n",
    "print(temp.shape)\n",
    "plt.imshow(temp.transpose(1,2,0)) # 将输入调换为（32，32，3）\n",
    "plt.show()"
   ]
  },
  {
   "cell_type": "code",
   "execution_count": 36,
   "metadata": {},
   "outputs": [],
   "source": [
    "# 使用Dataloder进行分批\n",
    "from torch.utils.data import DataLoader\n",
    "BATCH_SIZE = 128\n",
    "train_loader = DataLoader(dataset=train_data, batch_size=BATCH_SIZE, shuffle=True)\n",
    "test_loader = DataLoader(dataset=test_data, batch_size=BATCH_SIZE)"
   ]
  },
  {
   "cell_type": "code",
   "execution_count": 37,
   "metadata": {},
   "outputs": [
    {
     "name": "stdout",
     "output_type": "stream",
     "text": [
      "True\n",
      "1\n"
     ]
    }
   ],
   "source": [
    "# 查看GPU是否可用\n",
    "print(torch.cuda.is_available())\n",
    "print(torch.cuda.device_count())"
   ]
  },
  {
   "cell_type": "code",
   "execution_count": 107,
   "metadata": {},
   "outputs": [],
   "source": [
    "# 训练\n",
    "def model_training(model, criterion, optimizer, epochs=5, verbose=False):\n",
    "    import time\n",
    "    # 定义device\n",
    "    device = torch.device('cuda:0' if torch.cuda.is_available() else 'cpu')\n",
    "    model.to(device)\n",
    "    loss_list = []\n",
    "    start = time.time()\n",
    "    for epoch in range(epochs):\n",
    "        start_each = time.time()\n",
    "        for i, data in enumerate(train_loader):\n",
    "            inputs, labels = data\n",
    "            inputs, labels = inputs.to(device), labels.to(device)\n",
    "            # 前向传播\n",
    "            outputs = model(inputs)\n",
    "            # 计算损失函数\n",
    "            loss = criterion(outputs, labels)\n",
    "            # 梯度清零\n",
    "            optimizer.zero_grad()\n",
    "            # 反向传播\n",
    "            loss.backward()\n",
    "            # 参数更新\n",
    "            optimizer.step()\n",
    "        loss_list.append(loss.item())\n",
    "        if verbose == True:\n",
    "            print('epoch{} loss{: .4f} time{: .4f}'.format(epoch+1, loss.item(), time.time()-start_each))\n",
    "    print('平均每个epoch训练时长：{: .4f}'.format((time.time()-start)/epochs))\n",
    "    return loss_list, model    "
   ]
  },
  {
   "cell_type": "code",
   "execution_count": 67,
   "metadata": {},
   "outputs": [],
   "source": [
    "# 测试\n",
    "def model_test(model):\n",
    "    model.eval() # 固定参数\n",
    "    device = torch.device('cuda:0' if torch.cuda.is_available() else 'cpu')\n",
    "    model.to(device)\n",
    "    correct, total = 0, 0\n",
    "    for data in test_loader:\n",
    "        inputs, labels = data\n",
    "        inputs, labels = inputs.to(device), labels.to(device)\n",
    "        # 前向传播\n",
    "        outputs = model(inputs)\n",
    "        # 预测结果\n",
    "        _, pred = torch.max(outputs.data, dim=1) # 取评分最高的类(dim=0是每列的最大值，dim=1是每行的最大值，返回两个值，一个是最大值tensor组一个是最大值所在的位置)\n",
    "        # 对比结果与真实值\n",
    "        total += labels.size()[0]\n",
    "        correct += (pred==labels).sum().item()\n",
    "    print('10000张测试图像的准确率为：{: .4f}%'.format(100*correct/total))      "
   ]
  },
  {
   "cell_type": "code",
   "execution_count": 113,
   "metadata": {},
   "outputs": [],
   "source": [
    "# 定义超参数\n",
    "EPOCHS = 50\n",
    "LR = 0.01\n",
    "\n",
    "# 定义损失函数\n",
    "criterion = nn.CrossEntropyLoss()"
   ]
  },
  {
   "cell_type": "code",
   "execution_count": 114,
   "metadata": {},
   "outputs": [
    {
     "name": "stdout",
     "output_type": "stream",
     "text": [
      "ResNet18:\n",
      "平均每个epoch训练时长： 18.6742\n",
      "10000张测试图像的准确率为： 74.4200%\n"
     ]
    }
   ],
   "source": [
    "# ResNet\n",
    "print('ResNet18:')\n",
    "resnet18 = torchvision.models.resnet18(pretrained=False)\n",
    "optimizer = torch.optim.Adam(resnet18.parameters(), lr=LR)\n",
    "loss_r18, resnet18 = model_training(resnet18, criterion, optimizer, epochs=EPOCHS)\n",
    "model_test(resnet18)"
   ]
  },
  {
   "cell_type": "code",
   "execution_count": null,
   "metadata": {},
   "outputs": [],
   "source": [
    "# # 保存训练模型\n",
    "# file_name = 'cifar10_resnet18.pt'\n",
    "# torch.save(resnet18, file_name)\n",
    "# print(file_name + ' saved')\n",
    "# # 读取模型\n",
    "# resnet18 = torch.load(file_name)"
   ]
  },
  {
   "cell_type": "code",
   "execution_count": 115,
   "metadata": {},
   "outputs": [
    {
     "name": "stdout",
     "output_type": "stream",
     "text": [
      "ResNet18(pretrained):\n",
      "平均每个epoch训练时长： 18.4726\n",
      "10000张测试图像的准确率为： 74.7100%\n"
     ]
    }
   ],
   "source": [
    "print('ResNet18(pretrained):')\n",
    "resnet18_pre = torchvision.models.resnet18(pretrained=True)\n",
    "optimizer = torch.optim.Adam(resnet18_pre.parameters(), lr=LR)\n",
    "loss_r18_pre, resnet18_pre = model_training(resnet18_pre, criterion, optimizer, epochs=EPOCHS)\n",
    "model_test(resnet18_pre)"
   ]
  },
  {
   "cell_type": "code",
   "execution_count": 116,
   "metadata": {},
   "outputs": [
    {
     "name": "stdout",
     "output_type": "stream",
     "text": [
      "ResNet34:\n",
      "平均每个epoch训练时长： 27.3343\n",
      "10000张测试图像的准确率为： 74.9000%\n"
     ]
    }
   ],
   "source": [
    "print('ResNet34:')\n",
    "resnet34 = torchvision.models.resnet34(pretrained=False)\n",
    "optimizer = torch.optim.Adam(resnet34.parameters(), lr=LR)\n",
    "loss_r34, resnet34 = model_training(resnet34, criterion, optimizer, epochs=EPOCHS)\n",
    "model_test(resnet34)"
   ]
  },
  {
   "cell_type": "code",
   "execution_count": 117,
   "metadata": {},
   "outputs": [
    {
     "name": "stdout",
     "output_type": "stream",
     "text": [
      "DenseNet161:\n",
      "平均每个epoch训练时长： 71.9142\n",
      "10000张测试图像的准确率为： 79.6800%\n"
     ]
    }
   ],
   "source": [
    "# DenseNet\n",
    "print('DenseNet161:')\n",
    "densenet161 = torchvision.models.densenet161(pretrained=False)\n",
    "optimizer = torch.optim.Adam(densenet161.parameters(), lr=LR)\n",
    "loss_d161, densenet161 = model_training(densenet161, criterion, optimizer, epochs=EPOCHS)\n",
    "model_test(densenet161)"
   ]
  },
  {
   "cell_type": "code",
   "execution_count": 118,
   "metadata": {},
   "outputs": [
    {
     "data": {
      "image/png": "[encoded data removed]",
      "text/plain": [
       "<Figure size 432x288 with 1 Axes>"
      ]
     },
     "metadata": {
      "needs_background": "light"
     },
     "output_type": "display_data"
    }
   ],
   "source": [
    "import numpy as np\n",
    "x = np.arange(EPOCHS)\n",
    "l_1 = plt.plot(x, np.array(loss_r18), c='red')\n",
    "l_2 = plt.plot(x, np.array(loss_r18_pre), c='red',linestyle='--')\n",
    "l_3 = plt.plot(x, np.array(loss_r34), c='green')\n",
    "l_4 = plt.plot(x, np.array(loss_d161), c='blue')\n",
    "plt.legend(['ResNet18','ResNet18(pretrained)','ResNet34','DenseNet161'])\n",
    "plt.title('Trian Loss')\n",
    "plt.show()"
   ]
  }
 ],
 "metadata": {
  "kernelspec": {
   "display_name": "Python 3",
   "language": "python",
   "name": "python3"
  },
  "language_info": {
   "codemirror_mode": {
    "name": "ipython",
    "version": 3
   },
   "file_extension": ".py",
   "mimetype": "text/x-python",
   "name": "python",
   "nbconvert_exporter": "python",
   "pygments_lexer": "ipython3",
   "version": "3.8.3"
  }
 },
 "nbformat": 4,
 "nbformat_minor": 4
}
