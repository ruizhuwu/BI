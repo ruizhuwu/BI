{
 "cells": [
  {
   "cell_type": "markdown",
   "metadata": {},
   "source": [
    "### Thinking1\n",
    "什么是Graph Embedding，都有哪些算法模型"
   ]
  },
  {
   "cell_type": "markdown",
   "metadata": {},
   "source": [
    "答：Graph Embedding指从图网络中进行特征提取，将每个节点用固定维度的向量进行表示，并且要求这种表示能够反映原网络中节点的一些特性，例如两个节点相连、两个节点连接的节点相似（近邻相似），或两个节点的所处的空间结构相似，则两个节点的向量表示也应该相似。具体的算法模型有：  \n",
    "基于近邻相似：DeepWalk（RandomWalk采样+Word2Vec）, Node2Vec（在DeepWalk基础上增加参数q,p使游走策略可调整，可偏向深度优先或广度优先），LINE（分别优化1阶相似度和2阶相似度），SDNE（同时优化1、2阶相似度）  \n",
    "基于空间结构相似：Struc2Vec"
   ]
  },
  {
   "cell_type": "markdown",
   "metadata": {},
   "source": [
    "### Thinking2\n",
    "如何使用Graph Embedding在推荐系统，比如NetFlix 电影推荐，请说明简要的思路"
   ]
  },
  {
   "cell_type": "markdown",
   "metadata": {},
   "source": [
    "### Thinking3\n",
    "数据探索EDA都有哪些常用的方法和工具"
   ]
  },
  {
   "cell_type": "markdown",
   "metadata": {},
   "source": [
    "### Action1\n",
    "seealsology是个针对Wikipidea页面的语义分析工具，可以找到与指定页面相关的Wikipidea\n",
    "seealsology-data.tsv 文件存储了Wikipidea页面的关系（Source, Target, Depth）\n",
    "使用Graph Embedding对节点（Wikipidea）进行Embedding（DeepWalk或Node2Vec模型）\n",
    "对Embedding进行可视化（使用PCA呈现在二维平面上）\n",
    "找到和critical illness insurance相关的页面"
   ]
  },
  {
   "cell_type": "markdown",
   "metadata": {},
   "source": [
    "### Action2\n",
    "二手车价格预测\n",
    "数据集：\n",
    "used_car_train_20200313.csv\n",
    "used_car_testA_20200313.csv\n",
    "数据来自某交易平台的二手车交易记录\n",
    "ToDo：给你一辆车的各个属性（除了price字段），预测它的价格"
   ]
  }
 ],
 "metadata": {
  "kernelspec": {
   "display_name": "py36",
   "language": "python",
   "name": "py36"
  },
  "language_info": {
   "codemirror_mode": {
    "name": "ipython",
    "version": 3
   },
   "file_extension": ".py",
   "mimetype": "text/x-python",
   "name": "python",
   "nbconvert_exporter": "python",
   "pygments_lexer": "ipython3",
   "version": "3.6.10"
  }
 },
 "nbformat": 4,
 "nbformat_minor": 4
}
