{
 "cells": [
  {
   "cell_type": "code",
   "execution_count": 1,
   "metadata": {
    "colab": {
     "base_uri": "https://localhost:8080/",
     "height": 34
    },
    "colab_type": "code",
    "id": "xydvP1ih7425",
    "outputId": "6fa34299-bec7-46b0-976a-cc414550b7f3"
   },
   "outputs": [
    {
     "name": "stdout",
     "output_type": "stream",
     "text": [
      "Mounted at /content/drive\n"
     ]
    }
   ],
   "source": [
    "from google.colab import drive\n",
    "drive.mount('/content/drive')"
   ]
  },
  {
   "cell_type": "code",
   "execution_count": 5,
   "metadata": {
    "colab": {
     "base_uri": "https://localhost:8080/",
     "height": 35
    },
    "colab_type": "code",
    "id": "Lykeb2_x-ZDK",
    "outputId": "93f77c77-2462-477f-fc6a-07e459793105"
   },
   "outputs": [
    {
     "data": {
      "application/vnd.google.colaboratory.intrinsic+json": {
       "type": "string"
      },
      "text/plain": [
       "'/content/drive/My Drive/colab'"
      ]
     },
     "execution_count": 5,
     "metadata": {
      "tags": []
     },
     "output_type": "execute_result"
    }
   ],
   "source": [
    "import os\n",
    "os.chdir('/content/drive/My Drive/colab')\n",
    "os.getcwd()"
   ]
  },
  {
   "cell_type": "code",
   "execution_count": 7,
   "metadata": {
    "colab": {
     "base_uri": "https://localhost:8080/",
     "height": 306
    },
    "colab_type": "code",
    "id": "5n4vYOvkFoVB",
    "outputId": "d76b25bf-fac6-4446-991e-71c091dc3659"
   },
   "outputs": [
    {
     "name": "stdout",
     "output_type": "stream",
     "text": [
      "Collecting surprise\n",
      "  Downloading https://files.pythonhosted.org/packages/61/de/e5cba8682201fcf9c3719a6fdda95693468ed061945493dea2dd37c5618b/surprise-0.1-py2.py3-none-any.whl\n",
      "Collecting scikit-surprise\n",
      "\u001b[?25l  Downloading https://files.pythonhosted.org/packages/97/37/5d334adaf5ddd65da99fc65f6507e0e4599d092ba048f4302fe8775619e8/scikit-surprise-1.1.1.tar.gz (11.8MB)\n",
      "\u001b[K     |████████████████████████████████| 11.8MB 4.2MB/s \n",
      "\u001b[?25hRequirement already satisfied: joblib>=0.11 in /usr/local/lib/python3.6/dist-packages (from scikit-surprise->surprise) (0.16.0)\n",
      "Requirement already satisfied: numpy>=1.11.2 in /usr/local/lib/python3.6/dist-packages (from scikit-surprise->surprise) (1.18.5)\n",
      "Requirement already satisfied: scipy>=1.0.0 in /usr/local/lib/python3.6/dist-packages (from scikit-surprise->surprise) (1.4.1)\n",
      "Requirement already satisfied: six>=1.10.0 in /usr/local/lib/python3.6/dist-packages (from scikit-surprise->surprise) (1.15.0)\n",
      "Building wheels for collected packages: scikit-surprise\n",
      "  Building wheel for scikit-surprise (setup.py) ... \u001b[?25l\u001b[?25hdone\n",
      "  Created wheel for scikit-surprise: filename=scikit_surprise-1.1.1-cp36-cp36m-linux_x86_64.whl size=1670923 sha256=a5254e22ef850b290bfc854c62c818ba2a99de1c548724043ea14499540d7c2d\n",
      "  Stored in directory: /root/.cache/pip/wheels/78/9c/3d/41b419c9d2aff5b6e2b4c0fc8d25c538202834058f9ed110d0\n",
      "Successfully built scikit-surprise\n",
      "Installing collected packages: scikit-surprise, surprise\n",
      "Successfully installed scikit-surprise-1.1.1 surprise-0.1\n"
     ]
    }
   ],
   "source": [
    "pip install surprise"
   ]
  },
  {
   "cell_type": "code",
   "execution_count": 19,
   "metadata": {
    "colab": {},
    "colab_type": "code",
    "id": "PYqlIeIh-t8k"
   },
   "outputs": [],
   "source": [
    "from surprise import Reader\n",
    "from surprise import Dataset\n",
    "from surprise import SVD, SVDpp\n",
    "from surprise import accuracy\n",
    "from surprise.model_selection import GridSearchCV, cross_validate\n",
    "\n",
    "# 加载数据\n",
    "reader = Reader(line_format = 'user item rating timestamp', sep=',', skip_lines=1)\n",
    "data = Dataset.load_from_file('ratings.csv', reader=reader)"
   ]
  },
  {
   "cell_type": "code",
   "execution_count": 35,
   "metadata": {
    "colab": {},
    "colab_type": "code",
    "id": "CerI_1GE8l5R"
   },
   "outputs": [],
   "source": [
    "# 对指定用户进行预测\n",
    "def pred(uid, iid, data, algo):\n",
    "    train_set = data.build_full_trainset()\n",
    "    algo.fit(train_set)\n",
    "    list_r_ui = [i for i in train_set.ur[uid] if i[0] == iid]\n",
    "    if list_r_ui:\n",
    "        r_ui = list[0][1]\n",
    "        else:\n",
    "    r_ui = None\n",
    "    user = str(uid)\n",
    "    item = str(iid)\n",
    "    pred = algo.predict(user, item, r_ui, verbose=True)"
   ]
  },
  {
   "cell_type": "code",
   "execution_count": 31,
   "metadata": {
    "colab": {
     "base_uri": "https://localhost:8080/",
     "height": 218
    },
    "colab_type": "code",
    "id": "F8be6D9BULGt",
    "outputId": "5e4bb29d-f6c5-45be-a52a-c46be875d52b"
   },
   "outputs": [
    {
     "name": "stdout",
     "output_type": "stream",
     "text": [
      "对于funkSVD：\n",
      "Evaluating RMSE, MAE of algorithm SVD on 3 split(s).\n",
      "\n",
      "                  Fold 1  Fold 2  Fold 3  Mean    Std     \n",
      "RMSE (testset)    0.8719  0.8732  0.8715  0.8722  0.0007  \n",
      "MAE (testset)     0.6671  0.6678  0.6672  0.6674  0.0003  \n",
      "Fit time          48.41   49.39   49.03   48.94   0.40    \n",
      "Test time         7.17    6.20    5.00    6.12    0.89    \n"
     ]
    },
    {
     "data": {
      "text/plain": [
       "{'fit_time': (48.41201829910278, 49.388360023498535, 49.0329213142395),\n",
       " 'test_mae': array([0.66709079, 0.66775837, 0.66721069]),\n",
       " 'test_rmse': array([0.87187693, 0.87318464, 0.8715136 ]),\n",
       " 'test_time': (7.1672937870025635, 6.201003551483154, 4.998539686203003)}"
      ]
     },
     "execution_count": 31,
     "metadata": {
      "tags": []
     },
     "output_type": "execute_result"
    }
   ],
   "source": [
    "# funkSVD\n",
    "funksvd = SVD(biased=False)\n",
    "print('对于funkSVD：')\n",
    "cross_validate(funksvd, data, measures=['RMSE', 'MAE'], cv=3, verbose=True)"
   ]
  },
  {
   "cell_type": "code",
   "execution_count": 36,
   "metadata": {
    "colab": {
     "base_uri": "https://localhost:8080/",
     "height": 50
    },
    "colab_type": "code",
    "id": "WIyRgwphVYVJ",
    "outputId": "a05852f5-71a4-44f6-a369-b61dac90c910"
   },
   "outputs": [
    {
     "name": "stdout",
     "output_type": "stream",
     "text": [
      "关于用户 196 对电影 302 的评分预测如下：\n",
      "user: 196        item: 302        r_ui = None   est = 3.76   {'was_impossible': False}\n"
     ]
    }
   ],
   "source": [
    "print('关于用户 %s 对电影 %s 的评分预测如下：'% (uid, iid))\n",
    "pred(196, 302, data, funksvd)"
   ]
  },
  {
   "cell_type": "code",
   "execution_count": 23,
   "metadata": {
    "colab": {
     "base_uri": "https://localhost:8080/",
     "height": 218
    },
    "colab_type": "code",
    "id": "A-ZcWo8eUTfx",
    "outputId": "8caf6ed0-fe13-4692-c764-57acccc4c41d"
   },
   "outputs": [
    {
     "name": "stdout",
     "output_type": "stream",
     "text": [
      "对于biasSVD：\n",
      "Evaluating RMSE, MAE of algorithm SVD on 3 split(s).\n",
      "\n",
      "                  Fold 1  Fold 2  Fold 3  Mean    Std     \n",
      "RMSE (testset)    0.8459  0.8446  0.8452  0.8452  0.0005  \n",
      "MAE (testset)     0.6476  0.6473  0.6471  0.6474  0.0002  \n",
      "Fit time          46.49   47.96   47.43   47.29   0.61    \n",
      "Test time         5.51    5.56    4.95    5.34    0.28    \n"
     ]
    },
    {
     "data": {
      "text/plain": [
       "{'fit_time': (46.489558935165405, 47.962618589401245, 47.42613458633423),\n",
       " 'test_mae': array([0.64758179, 0.64733052, 0.64714657]),\n",
       " 'test_rmse': array([0.84589904, 0.84464603, 0.84519109]),\n",
       " 'test_time': (5.512458562850952, 5.55935525894165, 4.953242778778076)}"
      ]
     },
     "execution_count": 23,
     "metadata": {
      "tags": []
     },
     "output_type": "execute_result"
    }
   ],
   "source": [
    "# biasSVD\n",
    "biassvd = SVD()\n",
    "print('对于biasSVD：')\n",
    "cross_validate(biassvd, data, measures=['RMSE', 'MAE'], cv=3, verbose=True)"
   ]
  },
  {
   "cell_type": "code",
   "execution_count": 37,
   "metadata": {
    "colab": {
     "base_uri": "https://localhost:8080/",
     "height": 50
    },
    "colab_type": "code",
    "id": "zKQHAF0_DrKS",
    "outputId": "e18dfcac-38ec-4718-a7e0-2c106a901919"
   },
   "outputs": [
    {
     "name": "stdout",
     "output_type": "stream",
     "text": [
      "关于用户 196 对电影 302 的评分预测如下：\n",
      "user: 196        item: 302        r_ui = None   est = 4.29   {'was_impossible': False}\n"
     ]
    }
   ],
   "source": [
    "print('关于用户 %s 对电影 %s 的评分预测如下：'% (uid, iid))\n",
    "pred(196, 302, data, biassvd)"
   ]
  },
  {
   "cell_type": "code",
   "execution_count": 24,
   "metadata": {
    "colab": {
     "base_uri": "https://localhost:8080/",
     "height": 218
    },
    "colab_type": "code",
    "id": "eYgvlMRCUccd",
    "outputId": "05526fa4-c8b5-4449-a7d4-601dd95f1c93"
   },
   "outputs": [
    {
     "name": "stdout",
     "output_type": "stream",
     "text": [
      "对于SVD++：\n",
      "Evaluating RMSE, MAE of algorithm SVDpp on 3 split(s).\n",
      "\n",
      "                  Fold 1  Fold 2  Fold 3  Mean    Std     \n",
      "RMSE (testset)    0.8286  0.8277  0.8285  0.8283  0.0004  \n",
      "MAE (testset)     0.6309  0.6308  0.6315  0.6311  0.0003  \n",
      "Fit time          2996.10 2997.68 3033.79 3009.19 17.40   \n",
      "Test time         155.53  155.31  166.13  158.99  5.05    \n"
     ]
    },
    {
     "data": {
      "text/plain": [
       "{'fit_time': (2996.1032061576843, 2997.6835544109344, 3033.7854545116425),\n",
       " 'test_mae': array([0.63091904, 0.63082013, 0.63152144]),\n",
       " 'test_rmse': array([0.82863262, 0.82765158, 0.82846604]),\n",
       " 'test_time': (155.532634973526, 155.30945110321045, 166.1294186115265)}"
      ]
     },
     "execution_count": 24,
     "metadata": {
      "tags": []
     },
     "output_type": "execute_result"
    }
   ],
   "source": [
    "# SVD++\n",
    "print('对于SVD++：')\n",
    "svdpp = SVDpp()\n",
    "cross_validate(svdpp, data, measures=['RMSE', 'MAE'], cv=3, verbose=True)"
   ]
  },
  {
   "cell_type": "code",
   "execution_count": 39,
   "metadata": {
    "colab": {
     "base_uri": "https://localhost:8080/",
     "height": 50
    },
    "colab_type": "code",
    "id": "SfrJdakJEqfR",
    "outputId": "f14fc3b9-9826-441b-84e5-fd2114e4be56"
   },
   "outputs": [
    {
     "name": "stdout",
     "output_type": "stream",
     "text": [
      "关于用户 196 对电影 302 的评分预测如下：\n",
      "user: 196        item: 302        r_ui = None   est = 3.92   {'was_impossible': False}\n"
     ]
    }
   ],
   "source": [
    "print('关于用户 %s 对电影 %s 的评分预测如下：'% (uid, iid))\n",
    "pred(196, 302, data, svdpp)"
   ]
  }
 ],
 "metadata": {
  "colab": {
   "collapsed_sections": [],
   "name": "funkSVD.ipynb",
   "provenance": []
  },
  "kernelspec": {
   "display_name": "Python 3",
   "language": "python",
   "name": "python3"
  },
  "language_info": {
   "codemirror_mode": {
    "name": "ipython",
    "version": 3
   },
   "file_extension": ".py",
   "mimetype": "text/x-python",
   "name": "python",
   "nbconvert_exporter": "python",
   "pygments_lexer": "ipython3",
   "version": "3.8.3"
  }
 },
 "nbformat": 4,
 "nbformat_minor": 4
}
