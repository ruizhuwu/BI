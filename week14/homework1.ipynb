{
 "cells": [
  {
   "cell_type": "markdown",
   "metadata": {},
   "source": [
    "### Action1\n",
    "基于高德地图的路径规划  \n",
    "从指定地点start，到终点end的路径规划  \n",
    "最优路径定义：  \n",
    "1）距离最短  \n",
    "2）时间最短  \n",
    "输入：start,end  \n",
    "输出：路径规划，所需的距离、时间  "
   ]
  },
  {
   "cell_type": "markdown",
   "metadata": {},
   "source": [
    "#### 数据获取"
   ]
  },
  {
   "cell_type": "markdown",
   "metadata": {},
   "source": [
    "##### 抓取地铁站信息"
   ]
  },
  {
   "cell_type": "code",
   "execution_count": 7,
   "metadata": {},
   "outputs": [],
   "source": [
    "import requests\n",
    "from bs4 import BeautifulSoup\n",
    "import pandas as pd\n",
    "import re"
   ]
  },
  {
   "cell_type": "code",
   "execution_count": 3,
   "metadata": {},
   "outputs": [],
   "source": [
    "def get_page_content(request_url):\n",
    "    header={'user-agent':'Mozilla/5.0 (Windows NT 10.0; Win64; x64) AppleWebKit/537.36 (KHTML, like Gecko) Chrome/87.0.4280.88 Safari/537.36'}\n",
    "    html = requests.get(request_url, headers=header, timeout=10)\n",
    "    content = html.text\n",
    "#     print(content)\n",
    "    # 通过content创建BS对象\n",
    "    soup = BeautifulSoup(content, 'html.parser',from_encoding='utf-8')\n",
    "    return soup"
   ]
  },
  {
   "cell_type": "code",
   "execution_count": 4,
   "metadata": {},
   "outputs": [
    {
     "name": "stderr",
     "output_type": "stream",
     "text": [
      "C:\\Users\\80566\\Coding\\anaconda3\\lib\\site-packages\\bs4\\__init__.py:220: UserWarning: You provided Unicode markup but also provided a value for from_encoding. Your from_encoding will be ignored.\n",
      "  warnings.warn(\"You provided Unicode markup but also provided a value for from_encoding. Your from_encoding will be ignored.\")\n"
     ]
    }
   ],
   "source": [
    "request_url = 'https://ditie.mapbar.com/shanghai_line/'\n",
    "soup = get_page_content(request_url)"
   ]
  },
  {
   "cell_type": "code",
   "execution_count": 6,
   "metadata": {},
   "outputs": [],
   "source": [
    "df = pd.DataFrame(columns=['name', 'line'])\n",
    "subways = soup.find_all('div', class_='station')\n",
    "for subway in subways:\n",
    "#     print(subway)\n",
    "    # 线路名\n",
    "    route_name = subway.find('strong', class_='bolder').text\n",
    "    routes = subway.find('ul')\n",
    "    routes = routes.find_all('a')\n",
    "    for route in routes:\n",
    "        temp = {'name':route.text, 'line':route_name}\n",
    "        df = df.append(temp, ignore_index=True)\n",
    "df['city'] = '上海'\n",
    "# print(df)\n",
    "df.to_excel('./subways.xlsx', index=False)"
   ]
  },
  {
   "cell_type": "markdown",
   "metadata": {},
   "source": [
    "##### 根据地铁站信息查询，得到经纬度"
   ]
  },
  {
   "cell_type": "code",
   "execution_count": 5,
   "metadata": {},
   "outputs": [],
   "source": [
    "def get_location(place, city):\n",
    "    # 获取查询\n",
    "    header={'user-agent':'Mozilla/5.0 (Windows NT 10.0; Win64; x64) AppleWebKit/537.36 (KHTML, like Gecko) Chrome/87.0.4280.88 Safari/537.36'}\n",
    "    request_url = 'https://restapi.amap.com/v3/geocode/geo?key=1eb751daa6e3fd63fbc3737a9433fdd7&address='+ place + '&city=' + city\n",
    "    data = requests.get(request_url, headers=header)\n",
    "#     data.endoding= 'utf-8'\n",
    "#     print(request_url)\n",
    "    data = data.text\n",
    "#     print(data)\n",
    "    \n",
    "    # 匹配经纬度\n",
    "    pattern = 'location\":\"(.*?),(.*?)\"'\n",
    "    result = re.findall(pattern, data) #形如[('121.513870', '31.303558')]\n",
    "    return result[0][0], result[0][1]"
   ]
  },
  {
   "cell_type": "code",
   "execution_count": 42,
   "metadata": {},
   "outputs": [],
   "source": [
    "df = pd.read_excel('./subways.xlsx')\n",
    "df['longitude'], df['latitude'] = None, None\n",
    "for index,row in df.iterrows():\n",
    "    try:\n",
    "        longitude, latitude = get_location(row['name'][:-1]+'地铁站', row['city'])\n",
    "    except:\n",
    "        longitude, latitude = get_location(row['name'][:-1], row['city'])\n",
    "    df.iloc[index]['longitude'] = longitude\n",
    "    df.iloc[index]['latitude'] = latitude\n",
    "df.to_excel('./subway_location.xlsx', index=False)"
   ]
  },
  {
   "cell_type": "markdown",
   "metadata": {},
   "source": [
    "#### 路径规划"
   ]
  },
  {
   "cell_type": "code",
   "execution_count": 4,
   "metadata": {},
   "outputs": [],
   "source": [
    "import requests\n",
    "import pandas as pd\n",
    "import re\n",
    "from collections import defaultdict\n",
    "import route_api\n",
    "import pickle"
   ]
  },
  {
   "cell_type": "code",
   "execution_count": 2,
   "metadata": {},
   "outputs": [
    {
     "data": {
      "text/html": [
       "<div>\n",
       "<style scoped>\n",
       "    .dataframe tbody tr th:only-of-type {\n",
       "        vertical-align: middle;\n",
       "    }\n",
       "\n",
       "    .dataframe tbody tr th {\n",
       "        vertical-align: top;\n",
       "    }\n",
       "\n",
       "    .dataframe thead th {\n",
       "        text-align: right;\n",
       "    }\n",
       "</style>\n",
       "<table border=\"1\" class=\"dataframe\">\n",
       "  <thead>\n",
       "    <tr style=\"text-align: right;\">\n",
       "      <th></th>\n",
       "      <th>name</th>\n",
       "      <th>line</th>\n",
       "      <th>city</th>\n",
       "      <th>longitude</th>\n",
       "      <th>latitude</th>\n",
       "    </tr>\n",
       "  </thead>\n",
       "  <tbody>\n",
       "    <tr>\n",
       "      <th>0</th>\n",
       "      <td>龙阳路站</td>\n",
       "      <td>磁悬浮</td>\n",
       "      <td>上海</td>\n",
       "      <td>121.557855</td>\n",
       "      <td>31.202480</td>\n",
       "    </tr>\n",
       "    <tr>\n",
       "      <th>1</th>\n",
       "      <td>浦东国际机场站</td>\n",
       "      <td>磁悬浮</td>\n",
       "      <td>上海</td>\n",
       "      <td>121.805591</td>\n",
       "      <td>31.150958</td>\n",
       "    </tr>\n",
       "    <tr>\n",
       "      <th>2</th>\n",
       "      <td>莘庄站</td>\n",
       "      <td>地铁1号线</td>\n",
       "      <td>上海</td>\n",
       "      <td>121.385379</td>\n",
       "      <td>31.111193</td>\n",
       "    </tr>\n",
       "    <tr>\n",
       "      <th>3</th>\n",
       "      <td>外环路站</td>\n",
       "      <td>地铁1号线</td>\n",
       "      <td>上海</td>\n",
       "      <td>121.393020</td>\n",
       "      <td>31.120899</td>\n",
       "    </tr>\n",
       "    <tr>\n",
       "      <th>4</th>\n",
       "      <td>莲花路站</td>\n",
       "      <td>地铁1号线</td>\n",
       "      <td>上海</td>\n",
       "      <td>121.402132</td>\n",
       "      <td>31.130432</td>\n",
       "    </tr>\n",
       "  </tbody>\n",
       "</table>\n",
       "</div>"
      ],
      "text/plain": [
       "      name   line city   longitude   latitude\n",
       "0     龙阳路站    磁悬浮   上海  121.557855  31.202480\n",
       "1  浦东国际机场站    磁悬浮   上海  121.805591  31.150958\n",
       "2      莘庄站  地铁1号线   上海  121.385379  31.111193\n",
       "3     外环路站  地铁1号线   上海  121.393020  31.120899\n",
       "4     莲花路站  地铁1号线   上海  121.402132  31.130432"
      ]
     },
     "execution_count": 2,
     "metadata": {},
     "output_type": "execute_result"
    }
   ],
   "source": [
    "# 数据加载\n",
    "data = pd.read_excel('./subway_location.xlsx')\n",
    "data.head()"
   ]
  },
  {
   "cell_type": "markdown",
   "metadata": {},
   "source": [
    "##### 得到邻接矩阵"
   ]
  },
  {
   "cell_type": "code",
   "execution_count": 10,
   "metadata": {},
   "outputs": [],
   "source": [
    "import route_api # 详见文件route_api.py\n",
    "from collections import defaultdict\n",
    "\n",
    "graph = defaultdict(dict)\n",
    "\n",
    "for i in range(data.shape[0]-1):\n",
    "    site1 = data.iloc[i]['line']\n",
    "    site2 = data.iloc[i+1]['line']\n",
    "    if site1 == site2:\n",
    "        station1 = data.iloc[i]['name']\n",
    "        station2 = data.iloc[i+1]['name']\n",
    "        longitude1, latitude1 = data.iloc[i]['longitude'], data.iloc[i]['latitude']\n",
    "        longitude2, latitude2 = data.iloc[i+1]['longitude'], data.iloc[i+1]['latitude']\n",
    "        distance = route_api.compute_distance(longitude1, latitude1, longitude2, latitude2)\n",
    "        graph[station1][station2] = distance\n",
    "        graph[station2][station1] = distance\n",
    "# print(graph)"
   ]
  },
  {
   "cell_type": "code",
   "execution_count": 24,
   "metadata": {},
   "outputs": [],
   "source": [
    "import pickle\n",
    "# output = open('graph.pkl','wb')\n",
    "# pickle.dump(graph, output)\n",
    "file = open('graph.pkl','rb')\n",
    "graph = pickle.load(file)"
   ]
  },
  {
   "cell_type": "markdown",
   "metadata": {},
   "source": [
    "##### 进行路径规划"
   ]
  },
  {
   "cell_type": "code",
   "execution_count": 67,
   "metadata": {},
   "outputs": [],
   "source": [
    "def find_lowest_cost_node(costs): # 找到U中值最小的节点\n",
    "    # 初始化数据\n",
    "    lowest_cost = float('inf')\n",
    "    lowest_cost_node = None\n",
    "    for node in costs:\n",
    "        if node not in processed:\n",
    "            if costs[node] < lowest_cost:\n",
    "                lowest_cost = costs[node]\n",
    "                lowest_cost_node = node          \n",
    "    return lowest_cost_node\n",
    "\n",
    "def find_shortest_path(): # 找到最短路径\n",
    "    node = end\n",
    "    shortest_path = [end]\n",
    "    while parents[node] != start:\n",
    "        shortest_path.append(parents[node])\n",
    "        node = parents[node]\n",
    "    shortest_path.append(start)\n",
    "    shortest_path.reverse()\n",
    "    return shortest_path\n",
    "\n",
    "def dijkstra(): # 计算图中各个点距离起点的最短路程\n",
    "    node = find_lowest_cost_node(costs)\n",
    "    while node:\n",
    "        cost = costs[node]\n",
    "        neighs = graph[node].keys()\n",
    "        for neigh in neighs:\n",
    "            new_cost = cost + float(graph[node][neigh])\n",
    "            if neigh not in costs or new_cost<costs[neigh]:\n",
    "                costs[neigh] = new_cost\n",
    "                parents[neigh] = node\n",
    "        processed.append(node)\n",
    "        node = find_lowest_cost_node(costs)\n",
    "    shortest_path = find_shortest_path()\n",
    "    return shortest_path      "
   ]
  },
  {
   "cell_type": "code",
   "execution_count": 71,
   "metadata": {},
   "outputs": [],
   "source": [
    "start = '江湾体育场站'\n",
    "end = '徐家汇站'"
   ]
  },
  {
   "cell_type": "code",
   "execution_count": 99,
   "metadata": {},
   "outputs": [
    {
     "name": "stdout",
     "output_type": "stream",
     "text": [
      "从江湾体育场站到徐家汇站的最短路径为['江湾体育场站', '五角场站', '国权路站', '同济大学站', '四平路站', '邮电新村站', '海伦路站', '四川北路站', '天潼路站', '曲阜路站', '汉中路站', '南京西路站', '陕西南路站', '常熟路站', '衡山路站', '徐家汇站']\n"
     ]
    }
   ],
   "source": [
    "costs = {}\n",
    "parents = {}\n",
    "parents[end] = None\n",
    "costs[end] = float('inf')\n",
    "processed = [] #S\n",
    "for node in graph[start].keys():\n",
    "    costs[node] = float(graph[start][node])\n",
    "    parents[node] = start\n",
    "    \n",
    "shortest_path = dijkstra()\n",
    "print('从{}到{}的最短路径为{}'.format(start, end, shortest_path))"
   ]
  }
 ],
 "metadata": {
  "kernelspec": {
   "display_name": "Python 3",
   "language": "python",
   "name": "python3"
  },
  "language_info": {
   "codemirror_mode": {
    "name": "ipython",
    "version": 3
   },
   "file_extension": ".py",
   "mimetype": "text/x-python",
   "name": "python",
   "nbconvert_exporter": "python",
   "pygments_lexer": "ipython3",
   "version": "3.8.3"
  }
 },
 "nbformat": 4,
 "nbformat_minor": 4
}
