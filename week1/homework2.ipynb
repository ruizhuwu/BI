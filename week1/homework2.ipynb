{
 "cells": [
  {
   "cell_type": "markdown",
   "metadata": {},
   "source": [
    "### Thinking1\n",
    "当我们思考数据源的时候，都有哪些维度，如果你想要使用爬虫抓取数据，都有哪些工具？"
   ]
  },
  {
   "cell_type": "markdown",
   "metadata": {},
   "source": [
    "答：我们思考数据源时可以考虑的维度有：开放数据源、爬虫抓取、传感器、日志采集；  \n",
    "&emsp;&emsp;使用爬虫抓取时可以使用的工具有：八爪鱼等无需编程的可视化工具、Python工具（requests+BeautifulSoup,Selenium,Scrapy,Puppeteer...)"
   ]
  },
  {
   "cell_type": "markdown",
   "metadata": {},
   "source": [
    "### Thingking2\n",
    "企业的数据源来自多个维度，请思考什么是企业的数据中台，你是如何理解一方数据，二方数据，三方数据？"
   ]
  },
  {
   "cell_type": "markdown",
   "metadata": {},
   "source": [
    "答：数据中台：一套将数据孤岛有效连接从而使数据能够服务于某项业务的机制，包括数据采集到数据分析再到数据应用、数据价值变现。  \n",
    "&emsp;&emsp;一方数据：自有渠道的数据，如：App内行为数据、CRM系统中的数据；  \n",
    "&emsp;&emsp;二方数据：合作方的数据，如：媒体交互行为数据；  \n",
    "&emsp;&emsp;三方数据：非合作方的其他公开数据源的数据，如：从数据供应商处购买的数据。"
   ]
  },
  {
   "cell_type": "markdown",
   "metadata": {},
   "source": [
    "### Action1\n",
    "不用任何数学库，如何求出sqrt(10)，并且精确到小数点后10位"
   ]
  },
  {
   "cell_type": "code",
   "execution_count": 10,
   "metadata": {},
   "outputs": [
    {
     "name": "stdout",
     "output_type": "stream",
     "text": [
      "3.162277660157997\n",
      "3.1622776601683795\n"
     ]
    }
   ],
   "source": [
    "from math import sqrt\n",
    "eps = 1e-10\n",
    "low = 3\n",
    "high = 4\n",
    "mid = low + (high - low)/2\n",
    "while abs(mid**2 - 10) > eps:\n",
    "    if mid**2 < 10:\n",
    "        low = mid\n",
    "    else:\n",
    "        high = mid\n",
    "    mid = low + (high - low)/2\n",
    "print(mid)\n",
    "print(sqrt(10))"
   ]
  },
  {
   "cell_type": "markdown",
   "metadata": {},
   "source": [
    "### Action2\n",
    "汽车投诉信息采集：\n",
    "数据源：http://www.12365auto.com/zlts/0-0-0-0-0-0_0-0-1.shtml\n",
    "投诉编号，投诉品牌，投诉车系，投诉车型，问题简述，典型问题，投诉时间，投诉状态\n",
    "可以采用Python爬虫，或者第三方可视化工具"
   ]
  },
  {
   "cell_type": "code",
   "execution_count": 5,
   "metadata": {},
   "outputs": [
    {
     "name": "stdout",
     "output_type": "stream",
     "text": [
      "      brand                      car_model car_series    datetime      id  \\\n",
      "0     一汽-大众            2017款 230TSI 自动 舒适型         速腾  2020-08-23  512988   \n",
      "1      东风本田  2019款 240TURBO CVT 两驱 风尚版 国VI     本田CR-V  2020-08-23  512986   \n",
      "2      北京奔驰                  2016款 200 运动版       奔驰C级  2020-08-23  512985   \n",
      "3    上汽通用五菱     2019款 1.5T CVT 智能驾控豪华版 国VI    新宝骏RS-5  2020-08-23  512982   \n",
      "4      广汽本田            2014款 1.5L 手动 LX舒适型         飞度  2020-08-23  512979   \n",
      "..      ...                            ...        ...         ...     ...   \n",
      "145    广汽本田       2020款 锐·混动 2.0L 两驱 锐·幻夜版         皓影  2020-08-22  512512   \n",
      "146    雷克萨斯           2016款 300h E-CVT 豪华版     雷克萨斯GS  2020-08-22  512511   \n",
      "147   长安马自达   2019款 2.0L 自动 两驱 智享型 云控版 国VI    马自达CX-5  2020-08-22  512509   \n",
      "148   一汽-大众       2019款 200TSI DSG 舒适型 国VI         速腾  2020-08-22  512503   \n",
      "149    奇瑞汽车        2019款 1.5T 自动 尊享型 6座 国V      捷途X90  2020-08-22  512502   \n",
      "\n",
      "                     problem     problem_description status  \n",
      "0    D156,D291,E74,E62,H203,       一汽大众速腾高速行驶时多个故障灯亮   信息审核  \n",
      "1                       H81,    东风本田CR-V前机盖爆皮车门金属条掉色   信息审核  \n",
      "2                   A34,A44,      北京奔驰C级发动机启动延迟 故障灯亮   信息审核  \n",
      "3            H179,I295,M279,  新宝骏RS-5车门饰条开裂 自动刹车功能不全   信息审核  \n",
      "4                        A9,      广汽本田飞度发动机冷启动异响要求解决   信息审核  \n",
      "..                       ...                     ...    ...  \n",
      "145                    N319,    广汽本田皓影4S店承诺赠送原厂配件未兑现   信息审核  \n",
      "146                    H220,     雷克萨斯GS质保期内大灯开裂厂家不解决   信息审核  \n",
      "147                    H211,    长安马自达CX-5右侧电动后视镜无法回位   信息审核  \n",
      "148                    L311,     一汽大众速腾经销商拒绝按时交付车辆\\t   信息审核  \n",
      "149                    H119,    奇瑞捷途X90钥匙手环损坏厂家不索赔\\t   信息审核  \n",
      "\n",
      "[150 rows x 8 columns]\n"
     ]
    }
   ],
   "source": [
    "import requests\n",
    "from bs4 import BeautifulSoup\n",
    "from fake_useragent import UserAgent\n",
    "import pandas as pd\n",
    "\n",
    "# 生成随机的UserAgent\n",
    "ua = UserAgent()\n",
    "ua_random = ua.random\n",
    "\n",
    "\n",
    "# 根据指定的url得到BS对象\n",
    "def get_page_content(url):\n",
    "    header = {'user-agent':ua_random}\n",
    "    html = requests.get(url, headers=header, timeout=10)\n",
    "    content = html.text\n",
    "    soup = BeautifulSoup(content, 'html.parser')\n",
    "    return soup\n",
    "\n",
    "# 通过BS对象来提取当前是页面的内容\n",
    "def analysis(bs):\n",
    "    # 锁定整张表格\n",
    "    temp = bs.find('div',{'class':'tslb_b'})\n",
    "    df = pd.DataFrame()\n",
    "    # 找到每一条信息\n",
    "    tr_list = temp.find_all('tr')\n",
    "    # 提取信息中所需字段：投诉编号，投诉品牌，投诉车系，投诉车型，问题简述，典型问题，投诉时间，投诉状态\n",
    "    for tr in tr_list:\n",
    "        temp = {}\n",
    "        td_list = tr.find_all('td')\n",
    "        if len(td_list) != 0:\n",
    "            text_list = [td.text for td in td_list]\n",
    "            temp['id'], temp['brand'], temp['car_series'], temp['car_model'], \\\n",
    "            temp['problem_description'], temp['problem'], temp['datetime'], temp['status'] = text_list\n",
    "            df = df.append(temp, ignore_index=True)\n",
    "    return df\n",
    "\n",
    "# 提取前5页数据\n",
    "pages = 5\n",
    "base_url = 'http://www.12365auto.com/zlts/0-0-0-0-0-0_0-0-'\n",
    "df = pd.DataFrame()\n",
    "for i in range(pages):\n",
    "    url = base_url + str(i+1) + '.shtml'\n",
    "    bs = get_page_content(url)\n",
    "    temp = analysis(bs)\n",
    "    df = df.append(temp, ignore_index=True) \n",
    "print(df)\n",
    "df.to_csv('car_complaints.csv', index=False)"
   ]
  },
  {
   "cell_type": "code",
   "execution_count": 1,
   "metadata": {},
   "outputs": [
    {
     "data": {
      "text/plain": [
       "'C:\\\\Users\\\\80566\\\\BI\\\\week1'"
      ]
     },
     "execution_count": 1,
     "metadata": {},
     "output_type": "execute_result"
    }
   ],
   "source": [
    "# 查看当前工作目录\n",
    "import os\n",
    "os.getcwd()"
   ]
  }
 ],
 "metadata": {
  "kernelspec": {
   "display_name": "Python 3",
   "language": "python",
   "name": "python3"
  },
  "language_info": {
   "codemirror_mode": {
    "name": "ipython",
    "version": 3
   },
   "file_extension": ".py",
   "mimetype": "text/x-python",
   "name": "python",
   "nbconvert_exporter": "python",
   "pygments_lexer": "ipython3",
   "version": "3.8.3"
  }
 },
 "nbformat": 4,
 "nbformat_minor": 4
}
